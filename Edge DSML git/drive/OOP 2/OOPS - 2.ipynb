{
 "cells": [
  {
   "cell_type": "markdown",
   "id": "93cb72e2",
   "metadata": {},
   "source": [
    "## DSML Intermediate: OOPS - 2\n"
   ]
  },
  {
   "cell_type": "markdown",
   "id": "88fa4958",
   "metadata": {},
   "source": [
    "### Recap"
   ]
  },
  {
   "cell_type": "code",
   "execution_count": 1,
   "id": "4a42412e",
   "metadata": {},
   "outputs": [],
   "source": [
    "class Dog:\n",
    "    def __init__(self, name, age):\n",
    "        # the object reference self already exist\n",
    "        self.name = name\n",
    "        self.age = age"
   ]
  },
  {
   "cell_type": "code",
   "execution_count": 5,
   "id": "e817375e",
   "metadata": {},
   "outputs": [],
   "source": [
    "d = Dog(\"Toby\", 5) # the object creation => abstraction"
   ]
  },
  {
   "cell_type": "code",
   "execution_count": 3,
   "id": "95084501",
   "metadata": {},
   "outputs": [
    {
     "name": "stdout",
     "output_type": "stream",
     "text": [
      "Toby\n"
     ]
    }
   ],
   "source": [
    "print(d.name)"
   ]
  },
  {
   "cell_type": "code",
   "execution_count": 4,
   "id": "da4dcca0",
   "metadata": {},
   "outputs": [
    {
     "name": "stdout",
     "output_type": "stream",
     "text": [
      "5\n"
     ]
    }
   ],
   "source": [
    "print(d.age)"
   ]
  },
  {
   "cell_type": "code",
   "execution_count": 6,
   "id": "8331d401",
   "metadata": {},
   "outputs": [
    {
     "name": "stdout",
     "output_type": "stream",
     "text": [
      "<class '__main__.Dog'>\n"
     ]
    }
   ],
   "source": [
    "print(type(d))"
   ]
  },
  {
   "cell_type": "markdown",
   "id": "735f853b",
   "metadata": {},
   "source": [
    "### Quiz - 1"
   ]
  },
  {
   "cell_type": "code",
   "execution_count": 9,
   "id": "1c2016ac",
   "metadata": {},
   "outputs": [],
   "source": [
    "class Foo:\n",
    "    # dunder method => double underscore, magic methods\n",
    "    def __init__(self, name):\n",
    "        self.name = name\n",
    "\n",
    "a = Foo(\"a\")\n",
    "b = Foo(\"b\")\n",
    "a.name = b.name\n",
    "b.name = \"c\"\n",
    "a.x = 2\n",
    "b.x = 1\n",
    "x = (a.x + b.x) * (a.name + b.name)"
   ]
  },
  {
   "cell_type": "code",
   "execution_count": 8,
   "id": "506c03cc",
   "metadata": {},
   "outputs": [
    {
     "name": "stdout",
     "output_type": "stream",
     "text": [
      "bcbcbc\n"
     ]
    }
   ],
   "source": [
    "print(x)"
   ]
  },
  {
   "cell_type": "markdown",
   "id": "94fe29e7",
   "metadata": {},
   "source": [
    "### Warm - up 2"
   ]
  },
  {
   "cell_type": "code",
   "execution_count": 108,
   "id": "d47962d8",
   "metadata": {},
   "outputs": [],
   "source": [
    "class Counter:\n",
    "    def __init__(self):\n",
    "        self.count = 0\n",
    "   \n",
    "    # Encapsulation => data and method together\n",
    "    def increment(self):\n",
    "        self.count += 1\n",
    "        \n",
    "    def decrement(self):\n",
    "        self.count -= 1\n",
    "        \n",
    "    def print_count(self):\n",
    "        print(f\"The current count is {self.count}\")"
   ]
  },
  {
   "cell_type": "code",
   "execution_count": 109,
   "id": "7a3eb54e",
   "metadata": {},
   "outputs": [
    {
     "name": "stdout",
     "output_type": "stream",
     "text": [
      "The current count is 0\n",
      "The current count is 2\n"
     ]
    }
   ],
   "source": [
    "counter = Counter() # count = 0\n",
    "counter.increment()  # count = 1\n",
    "counter.decrement()  # count = 0\n",
    "counter.print_count() # ------ 0\n",
    "counter.increment() # count = 1\n",
    "counter.increment() # count = 2\n",
    "counter.print_count() # ------- 2"
   ]
  },
  {
   "cell_type": "markdown",
   "id": "06fedf0e",
   "metadata": {},
   "source": [
    "### Dunder Methods"
   ]
  },
  {
   "cell_type": "code",
   "execution_count": 15,
   "id": "9a08349c",
   "metadata": {},
   "outputs": [],
   "source": [
    "class Car:\n",
    "    def __init__(self, name, mileage):\n",
    "        self.name = name\n",
    "        self.mileage = mileage"
   ]
  },
  {
   "cell_type": "code",
   "execution_count": 16,
   "id": "5cb90daa",
   "metadata": {},
   "outputs": [],
   "source": [
    "c1 = Car(\"Nexon\", 12)\n",
    "c2 = Car(\"Altroz\", 15)"
   ]
  },
  {
   "cell_type": "code",
   "execution_count": 17,
   "id": "68f775ea",
   "metadata": {},
   "outputs": [
    {
     "name": "stdout",
     "output_type": "stream",
     "text": [
      "<__main__.Car object at 0x7fe721d83c40>\n"
     ]
    }
   ],
   "source": [
    "print(c1) # can I override the print behavior?"
   ]
  },
  {
   "cell_type": "code",
   "execution_count": 22,
   "id": "7b75193a",
   "metadata": {},
   "outputs": [],
   "source": [
    "class Car:\n",
    "    def __init__(self, name, mileage):\n",
    "        self.name = name\n",
    "        self.mileage = mileage\n",
    "        \n",
    "    # __str__ magic method to override print behavior\n",
    "    def __str__(self):\n",
    "        return f\"{self.name} has the mileage: {self.mileage}\""
   ]
  },
  {
   "cell_type": "code",
   "execution_count": 23,
   "id": "fb2d41f6",
   "metadata": {},
   "outputs": [],
   "source": [
    "c1 = Car(\"Nexon\", 12)\n",
    "c2 = Car(\"Altroz\", 15)"
   ]
  },
  {
   "cell_type": "code",
   "execution_count": 24,
   "id": "fb19f7db",
   "metadata": {},
   "outputs": [
    {
     "name": "stdout",
     "output_type": "stream",
     "text": [
      "Nexon has the mileage: 12\n"
     ]
    }
   ],
   "source": [
    "print(c1)"
   ]
  },
  {
   "cell_type": "code",
   "execution_count": 25,
   "id": "9d842c0e",
   "metadata": {},
   "outputs": [
    {
     "name": "stdout",
     "output_type": "stream",
     "text": [
      "Altroz has the mileage: 15\n"
     ]
    }
   ],
   "source": [
    "print(c2)"
   ]
  },
  {
   "cell_type": "code",
   "execution_count": null,
   "id": "46fc6121",
   "metadata": {},
   "outputs": [],
   "source": []
  },
  {
   "cell_type": "code",
   "execution_count": 70,
   "id": "fc28c065",
   "metadata": {},
   "outputs": [],
   "source": [
    "class ComplexNumber:\n",
    "    def __init__(self, real, imaginary):\n",
    "        self.real = real\n",
    "        self.imaginary = imaginary\n",
    "    \n",
    "    # overrides the print behavior of printing object of class ComplexNumber\n",
    "    def __str__(self):\n",
    "        return f\"{self.real} + i{self.imaginary}\"\n",
    "    \n",
    "    def __add__(self, obj2):\n",
    "        return f\"{self.real + obj2.real} + i{self.imaginary + obj2.imaginary}\""
   ]
  },
  {
   "cell_type": "code",
   "execution_count": 68,
   "id": "e21bfa91",
   "metadata": {},
   "outputs": [],
   "source": [
    "c1 = ComplexNumber(5, 3)"
   ]
  },
  {
   "cell_type": "code",
   "execution_count": 69,
   "id": "e526836a",
   "metadata": {},
   "outputs": [
    {
     "name": "stdout",
     "output_type": "stream",
     "text": [
      "5 + i3\n"
     ]
    }
   ],
   "source": [
    "print(c1)"
   ]
  },
  {
   "cell_type": "code",
   "execution_count": 194,
   "id": "33ccd624",
   "metadata": {},
   "outputs": [
    {
     "name": "stdout",
     "output_type": "stream",
     "text": [
      "5\n"
     ]
    }
   ],
   "source": [
    "print(c1.real)"
   ]
  },
  {
   "cell_type": "code",
   "execution_count": 63,
   "id": "918a8c4a",
   "metadata": {},
   "outputs": [
    {
     "name": "stdout",
     "output_type": "stream",
     "text": [
      "3 + i6\n"
     ]
    }
   ],
   "source": [
    "c2 = ComplexNumber(3, 6)\n",
    "print(c2)"
   ]
  },
  {
   "cell_type": "code",
   "execution_count": 64,
   "id": "bf4b0f5a",
   "metadata": {},
   "outputs": [
    {
     "data": {
      "text/plain": [
       "'8 + i9'"
      ]
     },
     "execution_count": 64,
     "metadata": {},
     "output_type": "execute_result"
    }
   ],
   "source": [
    "c1 + c2 # same syntax of addition but different behavior"
   ]
  },
  {
   "cell_type": "code",
   "execution_count": 225,
   "id": "b1fd7793",
   "metadata": {},
   "outputs": [
    {
     "data": {
      "text/plain": [
       "'8 + i9'"
      ]
     },
     "execution_count": 225,
     "metadata": {},
     "output_type": "execute_result"
    }
   ],
   "source": [
    "c1.__add__(c2)"
   ]
  },
  {
   "cell_type": "code",
   "execution_count": 72,
   "id": "b59425c3",
   "metadata": {},
   "outputs": [],
   "source": [
    "c3 = ComplexNumber(6, 7)"
   ]
  },
  {
   "cell_type": "code",
   "execution_count": 110,
   "id": "f5c9a553",
   "metadata": {},
   "outputs": [],
   "source": [
    "# c1 + c2 + c3 # HW : To make it work\n",
    "# Hint: You have to change the return type of add dunder"
   ]
  },
  {
   "cell_type": "code",
   "execution_count": 191,
   "id": "fe2fcd2a",
   "metadata": {},
   "outputs": [],
   "source": [
    "# dir(c3)"
   ]
  },
  {
   "cell_type": "code",
   "execution_count": 192,
   "id": "d6f53956",
   "metadata": {},
   "outputs": [
    {
     "name": "stdout",
     "output_type": "stream",
     "text": [
      "whatOnEarth\n"
     ]
    }
   ],
   "source": [
    "print(\"what\" + \"On\" + \"Earth\")"
   ]
  },
  {
   "cell_type": "code",
   "execution_count": 193,
   "id": "a0013e28",
   "metadata": {},
   "outputs": [
    {
     "name": "stdout",
     "output_type": "stream",
     "text": [
      "8.08\n"
     ]
    }
   ],
   "source": [
    "print(4.52 + 3.56)"
   ]
  },
  {
   "cell_type": "markdown",
   "id": "d70266d7",
   "metadata": {},
   "source": [
    "### Inheritance"
   ]
  },
  {
   "cell_type": "code",
   "execution_count": 96,
   "id": "82f94f82",
   "metadata": {},
   "outputs": [],
   "source": [
    "class Animal:\n",
    "    def __init__(self, species):\n",
    "        self.species = species # how to initialise this \n",
    "        # parent class property in the child class object\n",
    "        \n",
    "    def eat(self):\n",
    "        print(\"I am eating!!!\")"
   ]
  },
  {
   "cell_type": "code",
   "execution_count": 97,
   "id": "b533969a",
   "metadata": {},
   "outputs": [],
   "source": [
    "class Cat(Animal): # syntax to inherit\n",
    "    def __init__(self, name):\n",
    "        # to set specifies data, we need to call Animal initialiser\n",
    "        Animal.__init__(self, \"Cat\")\n",
    "        self.name = name\n",
    "    \n",
    "    def speak(self):\n",
    "        print(\"Meoooewww Meooow!!!!\")\n"
   ]
  },
  {
   "cell_type": "code",
   "execution_count": 98,
   "id": "b98e733a",
   "metadata": {},
   "outputs": [],
   "source": [
    "class Dog(Animal):\n",
    "    def __init__(self, name):\n",
    "        Animal.__init__(self, \"Dog\")\n",
    "        self.name = name\n",
    "    \n",
    "    def speak(self):\n",
    "        print(\"Boooow Bhhoowww!!!!\")"
   ]
  },
  {
   "cell_type": "code",
   "execution_count": 100,
   "id": "123ea6b4",
   "metadata": {},
   "outputs": [
    {
     "name": "stdout",
     "output_type": "stream",
     "text": [
      "Tom\n",
      "Cat\n"
     ]
    }
   ],
   "source": [
    "c = Cat(\"Tom\")\n",
    "print(c.name)\n",
    "print(c.species)"
   ]
  },
  {
   "cell_type": "code",
   "execution_count": 101,
   "id": "e16ed1ab",
   "metadata": {},
   "outputs": [
    {
     "name": "stdout",
     "output_type": "stream",
     "text": [
      "Meoooewww Meooow!!!!\n"
     ]
    }
   ],
   "source": [
    "c.speak()"
   ]
  },
  {
   "cell_type": "code",
   "execution_count": 102,
   "id": "2e5f6131",
   "metadata": {},
   "outputs": [
    {
     "name": "stdout",
     "output_type": "stream",
     "text": [
      "I am eating!!!\n"
     ]
    }
   ],
   "source": [
    "c.eat()"
   ]
  },
  {
   "cell_type": "code",
   "execution_count": 104,
   "id": "398b1f8f",
   "metadata": {},
   "outputs": [],
   "source": [
    "d = Dog(\"Scooby Doo\")"
   ]
  },
  {
   "cell_type": "code",
   "execution_count": 106,
   "id": "f5c3c0f7",
   "metadata": {},
   "outputs": [
    {
     "name": "stdout",
     "output_type": "stream",
     "text": [
      "Scooby Doo\n",
      "Dog\n"
     ]
    }
   ],
   "source": [
    "print(d.name)\n",
    "print(d.species)"
   ]
  },
  {
   "cell_type": "code",
   "execution_count": 88,
   "id": "20fe51ee",
   "metadata": {},
   "outputs": [
    {
     "name": "stdout",
     "output_type": "stream",
     "text": [
      "Boooow Bhhoowww!!!!\n"
     ]
    }
   ],
   "source": [
    "d.speak()"
   ]
  },
  {
   "cell_type": "code",
   "execution_count": 90,
   "id": "dda29d80",
   "metadata": {},
   "outputs": [
    {
     "name": "stdout",
     "output_type": "stream",
     "text": [
      "I am eating!!!\n"
     ]
    }
   ],
   "source": [
    "d.eat()"
   ]
  },
  {
   "cell_type": "markdown",
   "id": "6a0af82c",
   "metadata": {},
   "source": [
    "### super"
   ]
  },
  {
   "cell_type": "code",
   "execution_count": 129,
   "id": "0adcad9e",
   "metadata": {},
   "outputs": [],
   "source": [
    "class Animal:\n",
    "    def __init__(self, species):\n",
    "        self.species = species\n",
    "        print('self inside Animal class:')\n",
    "        print(self)\n",
    "        \n",
    "    def eat(self):\n",
    "        print(\"I am eating!!!\")"
   ]
  },
  {
   "cell_type": "code",
   "execution_count": 130,
   "id": "06a87891",
   "metadata": {},
   "outputs": [],
   "source": [
    "class Cat(Animal): # syntax to inherit\n",
    "    def __init__(self, name):\n",
    "        print('self inside Cat class:')\n",
    "        print(self)\n",
    "        super().__init__(\"Cat\") # the object is passed automatically\n",
    "        self.name = name\n",
    "    \n",
    "    def speak(self):\n",
    "        print(\"Meoooewww Meooow!!!!\")"
   ]
  },
  {
   "cell_type": "code",
   "execution_count": 131,
   "id": "5d2ebd54",
   "metadata": {},
   "outputs": [
    {
     "name": "stdout",
     "output_type": "stream",
     "text": [
      "self inside Cat class:\n",
      "<__main__.Cat object at 0x7fe721efdbe0>\n",
      "self inside Animal class:\n",
      "<__main__.Cat object at 0x7fe721efdbe0>\n",
      "Tom\n"
     ]
    }
   ],
   "source": [
    "c = Cat(\"Tom\")\n",
    "print(c.name)"
   ]
  },
  {
   "cell_type": "code",
   "execution_count": 132,
   "id": "7a419838",
   "metadata": {},
   "outputs": [
    {
     "name": "stdout",
     "output_type": "stream",
     "text": [
      "Cat\n"
     ]
    }
   ],
   "source": [
    "print(c.species)"
   ]
  },
  {
   "cell_type": "markdown",
   "id": "9eb65488",
   "metadata": {},
   "source": [
    "### Bank Account"
   ]
  },
  {
   "cell_type": "code",
   "execution_count": 151,
   "id": "05f0dfce",
   "metadata": {},
   "outputs": [],
   "source": [
    "class BankAccount:\n",
    "    \n",
    "    def __init__(self, balance):\n",
    "        self.balance = balance\n",
    "        \n",
    "    def deposit(self, amount):\n",
    "        self.balance += amount\n",
    "    \n",
    "    def withdraw(self, amount):\n",
    "        self.balance -= amount\n",
    "\n",
    "    def __str__(self, account_type = 'Savings'):\n",
    "        return f'Balance ({account_type}): {self.balance}'"
   ]
  },
  {
   "cell_type": "code",
   "execution_count": 152,
   "id": "8fb1e29f",
   "metadata": {},
   "outputs": [],
   "source": [
    "ba = BankAccount(10000)"
   ]
  },
  {
   "cell_type": "code",
   "execution_count": 153,
   "id": "6d0b1779",
   "metadata": {},
   "outputs": [
    {
     "name": "stdout",
     "output_type": "stream",
     "text": [
      "Balance (Savings): 10000\n"
     ]
    }
   ],
   "source": [
    "print(ba)"
   ]
  },
  {
   "cell_type": "code",
   "execution_count": 154,
   "id": "ef118a9f",
   "metadata": {},
   "outputs": [],
   "source": [
    "ba.deposit(1000)"
   ]
  },
  {
   "cell_type": "code",
   "execution_count": 155,
   "id": "c9fa5d8e",
   "metadata": {},
   "outputs": [
    {
     "name": "stdout",
     "output_type": "stream",
     "text": [
      "Balance (Savings): 11000\n"
     ]
    }
   ],
   "source": [
    "print(ba)"
   ]
  },
  {
   "cell_type": "code",
   "execution_count": 159,
   "id": "61f9d1d3",
   "metadata": {},
   "outputs": [],
   "source": [
    "class CurrentAccount(BankAccount):\n",
    "    def __init__(self, balance):\n",
    "        super().__init__(balance) # create balance attribute\n",
    "    \n",
    "    def get_interest(self):\n",
    "        # 5% interest rate\n",
    "        print(\"Interest is: \", self.balance * (0.05))\n",
    "        return self.balance * (0.05)\n",
    "\n",
    "    def __str__(self):\n",
    "        return super().__str__('Current')"
   ]
  },
  {
   "cell_type": "code",
   "execution_count": 160,
   "id": "007b8745",
   "metadata": {},
   "outputs": [],
   "source": [
    "class SavingsAccount(BankAccount):\n",
    "    def __init__(self, balance):\n",
    "        super().__init__(balance)\n",
    "        \n",
    "    def get_interest(self):\n",
    "        # 7 % interest rate\n",
    "        print(\"Interest is: \", self.balance * (0.07))\n",
    "        return self.balance * (0.07)\n",
    "\n",
    "    def __str__(self):\n",
    "        return super().__str__('Savings')"
   ]
  },
  {
   "cell_type": "code",
   "execution_count": 161,
   "id": "50d914f2",
   "metadata": {},
   "outputs": [
    {
     "name": "stdout",
     "output_type": "stream",
     "text": [
      "Balance (Savings): 10000\n"
     ]
    }
   ],
   "source": [
    "sa = SavingsAccount(10000)\n",
    "print(sa)"
   ]
  },
  {
   "cell_type": "code",
   "execution_count": 163,
   "id": "989e5cf5",
   "metadata": {},
   "outputs": [],
   "source": [
    "sa.deposit(1000)"
   ]
  },
  {
   "cell_type": "code",
   "execution_count": 164,
   "id": "7eb57273",
   "metadata": {},
   "outputs": [
    {
     "name": "stdout",
     "output_type": "stream",
     "text": [
      "Balance (Savings): 11000\n"
     ]
    }
   ],
   "source": [
    "print(sa)"
   ]
  },
  {
   "cell_type": "code",
   "execution_count": 162,
   "id": "a58fb600",
   "metadata": {},
   "outputs": [
    {
     "name": "stdout",
     "output_type": "stream",
     "text": [
      "Balance (Current): 50000\n"
     ]
    }
   ],
   "source": [
    "ca = CurrentAccount(50000)\n",
    "print(ca)"
   ]
  },
  {
   "cell_type": "code",
   "execution_count": 165,
   "id": "a0e45f7c",
   "metadata": {},
   "outputs": [],
   "source": [
    "ca.withdraw(5000)"
   ]
  },
  {
   "cell_type": "code",
   "execution_count": 166,
   "id": "990b5865",
   "metadata": {},
   "outputs": [
    {
     "name": "stdout",
     "output_type": "stream",
     "text": [
      "Balance (Current): 45000\n"
     ]
    }
   ],
   "source": [
    "print(ca)"
   ]
  },
  {
   "cell_type": "code",
   "execution_count": 167,
   "id": "6508b337",
   "metadata": {},
   "outputs": [
    {
     "name": "stdout",
     "output_type": "stream",
     "text": [
      "Interest is:  770.0000000000001\n"
     ]
    },
    {
     "data": {
      "text/plain": [
       "770.0000000000001"
      ]
     },
     "execution_count": 167,
     "metadata": {},
     "output_type": "execute_result"
    }
   ],
   "source": [
    "sa.get_interest()"
   ]
  },
  {
   "cell_type": "code",
   "execution_count": 168,
   "id": "1f1ba3b9",
   "metadata": {},
   "outputs": [
    {
     "name": "stdout",
     "output_type": "stream",
     "text": [
      "Interest is:  2250.0\n"
     ]
    },
    {
     "data": {
      "text/plain": [
       "2250.0"
      ]
     },
     "execution_count": 168,
     "metadata": {},
     "output_type": "execute_result"
    }
   ],
   "source": [
    "ca.get_interest()"
   ]
  },
  {
   "cell_type": "markdown",
   "id": "c49a4db2",
   "metadata": {},
   "source": [
    "### Quiz"
   ]
  },
  {
   "cell_type": "code",
   "execution_count": 169,
   "id": "e7c5d27a",
   "metadata": {},
   "outputs": [
    {
     "name": "stdout",
     "output_type": "stream",
     "text": [
      "Hi my name is Sahil\n",
      "My salary is 0\n"
     ]
    }
   ],
   "source": [
    "class Person:\n",
    "    def __init__(self, name):\n",
    "        self.name = name\n",
    "        \n",
    "    def say_hello(self):\n",
    "        print(f'Hi my name is {self.name}')\n",
    "\n",
    "class Employee(Person):\n",
    "    def __init__(self, name, salary):\n",
    "        super().__init__(name)\n",
    "        self.salary = 0\n",
    "    \n",
    "    def say_hello(self):\n",
    "        super().say_hello()\n",
    "        print(f'My salary is {self.salary}')\n",
    "    \n",
    "e = Employee(\"Sahil\", 10000)\n",
    "e.say_hello()"
   ]
  },
  {
   "cell_type": "code",
   "execution_count": 170,
   "id": "bdf1182b",
   "metadata": {},
   "outputs": [
    {
     "name": "stdout",
     "output_type": "stream",
     "text": [
      "Hi my name is Sahil\n",
      "My salary is 10000\n"
     ]
    }
   ],
   "source": [
    "class Person:\n",
    "    def __init__(self, name):\n",
    "        self.name = name\n",
    "        \n",
    "    def say_hello(self):\n",
    "        print(f'Hi my name is {self.name}')\n",
    "\n",
    "class Employee(Person):\n",
    "    def __init__(self, name, salary):\n",
    "        super().__init__(name)\n",
    "        self.salary = salary\n",
    "    \n",
    "    def say_hello(self):\n",
    "        super().say_hello()\n",
    "        print(f'My salary is {self.salary}')\n",
    "    \n",
    "e = Employee(\"Sahil\", 10000)\n",
    "e.say_hello()"
   ]
  },
  {
   "cell_type": "markdown",
   "id": "c9a1d132",
   "metadata": {},
   "source": [
    "### Private Properties"
   ]
  },
  {
   "cell_type": "code",
   "execution_count": 171,
   "id": "b362dc3f",
   "metadata": {},
   "outputs": [],
   "source": [
    "ba = BankAccount(1000)\n",
    "ba.balance = 1321423473941274728413379367264378296423794623"
   ]
  },
  {
   "cell_type": "code",
   "execution_count": 172,
   "id": "d087015b",
   "metadata": {},
   "outputs": [
    {
     "name": "stdout",
     "output_type": "stream",
     "text": [
      "Balance (Savings): 1321423473941274728413379367264378296423794623\n"
     ]
    }
   ],
   "source": [
    "print(ba)"
   ]
  },
  {
   "cell_type": "code",
   "execution_count": 173,
   "id": "2c916d3a",
   "metadata": {},
   "outputs": [],
   "source": [
    "class BankAccount:\n",
    "    def __init__(self, balance):\n",
    "        self.__balance = balance\n",
    "        \n",
    "    def deposit(self, amount):\n",
    "        self.__balance += amount\n",
    "    \n",
    "    def withdraw(self, amount):\n",
    "        self.__balance -= amount\n",
    "\n",
    "    def __str__(self, account_type = 'Savings'):\n",
    "        return f'Balance ({account_type}): {self.__balance}'"
   ]
  },
  {
   "cell_type": "code",
   "execution_count": 179,
   "id": "d2640b5d",
   "metadata": {},
   "outputs": [],
   "source": [
    "ba = BankAccount(10000)"
   ]
  },
  {
   "cell_type": "code",
   "execution_count": 180,
   "id": "1d8aa529",
   "metadata": {},
   "outputs": [
    {
     "name": "stdout",
     "output_type": "stream",
     "text": [
      "Balance (Savings): 10000\n"
     ]
    }
   ],
   "source": [
    "print(ba)"
   ]
  },
  {
   "cell_type": "code",
   "execution_count": 181,
   "id": "106d9081",
   "metadata": {},
   "outputs": [],
   "source": [
    "ba.__balance = 1032141847157358974289074238423740240"
   ]
  },
  {
   "cell_type": "code",
   "execution_count": 182,
   "id": "b96b8aa1",
   "metadata": {},
   "outputs": [
    {
     "name": "stdout",
     "output_type": "stream",
     "text": [
      "Balance (Savings): 10000\n"
     ]
    }
   ],
   "source": [
    "print(ba)"
   ]
  },
  {
   "cell_type": "code",
   "execution_count": 189,
   "id": "acdad818",
   "metadata": {},
   "outputs": [
    {
     "name": "stdout",
     "output_type": "stream",
     "text": [
      "['_BankAccount__balance', '__balance', '__class__', '__delattr__', '__dict__', '__dir__', '__doc__', '__eq__', '__format__', '__ge__', '__getattribute__', '__gt__', '__hash__', '__init__', '__init_subclass__', '__le__', '__lt__', '__module__', '__ne__', '__new__', '__reduce__', '__reduce_ex__', '__repr__', '__setattr__', '__sizeof__', '__str__', '__subclasshook__', '__weakref__', 'deposit', 'withdraw']\n"
     ]
    }
   ],
   "source": [
    "print(dir(ba))"
   ]
  },
  {
   "cell_type": "code",
   "execution_count": 183,
   "id": "084b07c6",
   "metadata": {},
   "outputs": [],
   "source": [
    "ba2 = BankAccount(1000)"
   ]
  },
  {
   "cell_type": "code",
   "execution_count": 184,
   "id": "68b8dcfe",
   "metadata": {},
   "outputs": [
    {
     "name": "stdout",
     "output_type": "stream",
     "text": [
      "Balance (Savings): 1000\n"
     ]
    }
   ],
   "source": [
    "print(ba2)"
   ]
  },
  {
   "cell_type": "code",
   "execution_count": 186,
   "id": "1a3b96fa",
   "metadata": {},
   "outputs": [
    {
     "data": {
      "text/plain": [
       "['_BankAccount__balance',\n",
       " '__class__',\n",
       " '__delattr__',\n",
       " '__dict__',\n",
       " '__dir__',\n",
       " '__doc__',\n",
       " '__eq__',\n",
       " '__format__',\n",
       " '__ge__',\n",
       " '__getattribute__',\n",
       " '__gt__',\n",
       " '__hash__',\n",
       " '__init__',\n",
       " '__init_subclass__',\n",
       " '__le__',\n",
       " '__lt__',\n",
       " '__module__',\n",
       " '__ne__',\n",
       " '__new__',\n",
       " '__reduce__',\n",
       " '__reduce_ex__',\n",
       " '__repr__',\n",
       " '__setattr__',\n",
       " '__sizeof__',\n",
       " '__str__',\n",
       " '__subclasshook__',\n",
       " '__weakref__',\n",
       " 'deposit',\n",
       " 'withdraw']"
      ]
     },
     "execution_count": 186,
     "metadata": {},
     "output_type": "execute_result"
    }
   ],
   "source": [
    "dir(ba2) # Name Mangling"
   ]
  },
  {
   "cell_type": "code",
   "execution_count": 187,
   "id": "1ceb8fcb",
   "metadata": {},
   "outputs": [],
   "source": [
    "ba2._BankAccount__balance = 10328194724719241827412471"
   ]
  },
  {
   "cell_type": "code",
   "execution_count": 188,
   "id": "a13ada14",
   "metadata": {},
   "outputs": [
    {
     "name": "stdout",
     "output_type": "stream",
     "text": [
      "Balance (Savings): 10328194724719241827412471\n"
     ]
    }
   ],
   "source": [
    "print(ba2)"
   ]
  },
  {
   "cell_type": "code",
   "execution_count": 206,
   "id": "2ee9bc32",
   "metadata": {},
   "outputs": [],
   "source": [
    "ba2.__balance = 2342"
   ]
  },
  {
   "cell_type": "code",
   "execution_count": 207,
   "id": "58df4075",
   "metadata": {},
   "outputs": [
    {
     "name": "stdout",
     "output_type": "stream",
     "text": [
      "Balance (Savings): 10328194724719241827412471\n"
     ]
    }
   ],
   "source": [
    "print(ba2)"
   ]
  },
  {
   "cell_type": "code",
   "execution_count": 208,
   "id": "4890c01b",
   "metadata": {},
   "outputs": [
    {
     "name": "stdout",
     "output_type": "stream",
     "text": [
      "['_BankAccount__balance', '__balance', '__class__', '__delattr__', '__dict__', '__dir__', '__doc__', '__eq__', '__format__', '__ge__', '__getattribute__', '__gt__', '__hash__', '__init__', '__init_subclass__', '__le__', '__lt__', '__module__', '__ne__', '__new__', '__reduce__', '__reduce_ex__', '__repr__', '__setattr__', '__sizeof__', '__str__', '__subclasshook__', '__weakref__', 'deposit', 'withdraw']\n"
     ]
    }
   ],
   "source": [
    "print(dir(ba2))"
   ]
  },
  {
   "cell_type": "code",
   "execution_count": 209,
   "id": "a51f7ea1",
   "metadata": {},
   "outputs": [],
   "source": [
    "ba2.deposit(243)"
   ]
  },
  {
   "cell_type": "code",
   "execution_count": 210,
   "id": "29afe86e",
   "metadata": {},
   "outputs": [
    {
     "name": "stdout",
     "output_type": "stream",
     "text": [
      "Balance (Savings): 10328194724719241827412714\n"
     ]
    }
   ],
   "source": [
    "print(ba2)"
   ]
  },
  {
   "cell_type": "markdown",
   "id": "fc9934d6",
   "metadata": {},
   "source": [
    "### Doubts"
   ]
  },
  {
   "cell_type": "code",
   "execution_count": 190,
   "id": "8d24a340",
   "metadata": {},
   "outputs": [],
   "source": [
    "# Next Problem Solving Session on OOPS"
   ]
  },
  {
   "cell_type": "code",
   "execution_count": 201,
   "id": "958ceb91",
   "metadata": {},
   "outputs": [],
   "source": [
    "class Foo:\n",
    "    def __init__(self):\n",
    "        self.a = 0\n",
    "        self.b = 1\n",
    "\n",
    "    def foo(self):\n",
    "        return self.a + self.b + 4"
   ]
  },
  {
   "cell_type": "code",
   "execution_count": 202,
   "id": "cd6fa9c7",
   "metadata": {},
   "outputs": [],
   "source": [
    "f = Foo()"
   ]
  },
  {
   "cell_type": "code",
   "execution_count": 203,
   "id": "86be2309",
   "metadata": {},
   "outputs": [
    {
     "name": "stdout",
     "output_type": "stream",
     "text": [
      "True\n"
     ]
    }
   ],
   "source": [
    "print('a' in dir(f))"
   ]
  },
  {
   "cell_type": "code",
   "execution_count": 204,
   "id": "d55b6f05",
   "metadata": {},
   "outputs": [
    {
     "name": "stdout",
     "output_type": "stream",
     "text": [
      "True\n"
     ]
    }
   ],
   "source": [
    "print('b' in dir(f))"
   ]
  },
  {
   "cell_type": "code",
   "execution_count": 205,
   "id": "6f4152c3",
   "metadata": {},
   "outputs": [
    {
     "data": {
      "text/plain": [
       "5"
      ]
     },
     "execution_count": 205,
     "metadata": {},
     "output_type": "execute_result"
    }
   ],
   "source": [
    "f.foo()"
   ]
  },
  {
   "cell_type": "code",
   "execution_count": 211,
   "id": "b87135e9",
   "metadata": {},
   "outputs": [
    {
     "data": {
      "text/plain": [
       "8"
      ]
     },
     "execution_count": 211,
     "metadata": {},
     "output_type": "execute_result"
    }
   ],
   "source": [
    "5 + 3"
   ]
  },
  {
   "cell_type": "code",
   "execution_count": 213,
   "id": "e69e7175",
   "metadata": {},
   "outputs": [],
   "source": [
    "a = 5"
   ]
  },
  {
   "cell_type": "code",
   "execution_count": 214,
   "id": "ff99c78a",
   "metadata": {},
   "outputs": [
    {
     "data": {
      "text/plain": [
       "8"
      ]
     },
     "execution_count": 214,
     "metadata": {},
     "output_type": "execute_result"
    }
   ],
   "source": [
    "a.__add__(3)"
   ]
  },
  {
   "cell_type": "code",
   "execution_count": 215,
   "id": "618c466d",
   "metadata": {},
   "outputs": [],
   "source": [
    "s = \"akhil\""
   ]
  },
  {
   "cell_type": "code",
   "execution_count": 216,
   "id": "fb0f0d21",
   "metadata": {},
   "outputs": [
    {
     "data": {
      "text/plain": [
       "'akhilKumar'"
      ]
     },
     "execution_count": 216,
     "metadata": {},
     "output_type": "execute_result"
    }
   ],
   "source": [
    "s.__add__(\"Kumar\")"
   ]
  },
  {
   "cell_type": "code",
   "execution_count": 218,
   "id": "45732b0f",
   "metadata": {},
   "outputs": [
    {
     "data": {
      "text/plain": [
       "8"
      ]
     },
     "execution_count": 218,
     "metadata": {},
     "output_type": "execute_result"
    }
   ],
   "source": [
    "5 + 3 # a.__add__(3)"
   ]
  },
  {
   "cell_type": "code",
   "execution_count": 219,
   "id": "b17b7d5d",
   "metadata": {},
   "outputs": [
    {
     "data": {
      "text/plain": [
       "'5'"
      ]
     },
     "execution_count": 219,
     "metadata": {},
     "output_type": "execute_result"
    }
   ],
   "source": [
    "a.__str__()"
   ]
  },
  {
   "cell_type": "code",
   "execution_count": 220,
   "id": "dc2fb120",
   "metadata": {},
   "outputs": [
    {
     "data": {
      "text/plain": [
       "'akhil'"
      ]
     },
     "execution_count": 220,
     "metadata": {},
     "output_type": "execute_result"
    }
   ],
   "source": [
    "s.__str__()"
   ]
  },
  {
   "cell_type": "code",
   "execution_count": 221,
   "id": "42934a6f",
   "metadata": {},
   "outputs": [
    {
     "data": {
      "text/plain": [
       "8"
      ]
     },
     "execution_count": 221,
     "metadata": {},
     "output_type": "execute_result"
    }
   ],
   "source": [
    "a = 5\n",
    "b = 3\n",
    "\n",
    "a + b"
   ]
  },
  {
   "cell_type": "code",
   "execution_count": 222,
   "id": "44ec31d8",
   "metadata": {},
   "outputs": [
    {
     "data": {
      "text/plain": [
       "8"
      ]
     },
     "execution_count": 222,
     "metadata": {},
     "output_type": "execute_result"
    }
   ],
   "source": [
    "a.__add__(b)"
   ]
  },
  {
   "cell_type": "code",
   "execution_count": 226,
   "id": "60a14441",
   "metadata": {},
   "outputs": [],
   "source": [
    "class ComplexNumber:\n",
    "    def __init__(self, real, imaginary = 0):\n",
    "        self.real = real\n",
    "        self.imaginary = imaginary\n",
    "    \n",
    "    # overrides the print behavior of printing object of class ComplexNumber\n",
    "    def __str__(self):\n",
    "        return f\"{self.real} + i{self.imaginary}\"\n",
    "    \n",
    "    def __add__(self, obj2):\n",
    "        return f\"{self.real + obj2.real} + i{self.imaginary + obj2.imaginary}\""
   ]
  },
  {
   "cell_type": "code",
   "execution_count": 227,
   "id": "675fab5f",
   "metadata": {},
   "outputs": [],
   "source": [
    "c = ComplexNumber(5)"
   ]
  },
  {
   "cell_type": "code",
   "execution_count": 229,
   "id": "656707e9",
   "metadata": {},
   "outputs": [
    {
     "name": "stdout",
     "output_type": "stream",
     "text": [
      "5 + i0\n"
     ]
    }
   ],
   "source": [
    "print(c)"
   ]
  },
  {
   "cell_type": "code",
   "execution_count": 230,
   "id": "9c884f91",
   "metadata": {},
   "outputs": [],
   "source": [
    "c2 = ComplexNumber(7)"
   ]
  },
  {
   "cell_type": "code",
   "execution_count": 231,
   "id": "96f9da4b",
   "metadata": {},
   "outputs": [
    {
     "data": {
      "text/plain": [
       "'12 + i0'"
      ]
     },
     "execution_count": 231,
     "metadata": {},
     "output_type": "execute_result"
    }
   ],
   "source": [
    "# ComplexNumber.__add__(c, c2)"
   ]
  },
  {
   "cell_type": "code",
   "execution_count": 234,
   "id": "58a4e5d5",
   "metadata": {},
   "outputs": [
    {
     "data": {
      "text/plain": [
       "'12 + i0'"
      ]
     },
     "execution_count": 234,
     "metadata": {},
     "output_type": "execute_result"
    }
   ],
   "source": [
    "c + c2 # c is 1st arg, c2 is 2nd arg"
   ]
  },
  {
   "cell_type": "code",
   "execution_count": 239,
   "id": "fd7b8233",
   "metadata": {},
   "outputs": [
    {
     "data": {
      "text/plain": [
       "'12 + i0'"
      ]
     },
     "execution_count": 239,
     "metadata": {},
     "output_type": "execute_result"
    }
   ],
   "source": [
    "c.__add__(c2) # c is automatically as first arg"
   ]
  },
  {
   "cell_type": "code",
   "execution_count": 238,
   "id": "2945ed9d",
   "metadata": {},
   "outputs": [
    {
     "data": {
      "text/plain": [
       "'12 + i0'"
      ]
     },
     "execution_count": 238,
     "metadata": {},
     "output_type": "execute_result"
    }
   ],
   "source": [
    "c2 + c # c2 is 1st, c is 2nd"
   ]
  },
  {
   "cell_type": "code",
   "execution_count": null,
   "id": "8601a63d",
   "metadata": {},
   "outputs": [],
   "source": []
  }
 ],
 "metadata": {
  "kernelspec": {
   "display_name": "Python 3 (ipykernel)",
   "language": "python",
   "name": "python3"
  },
  "language_info": {
   "codemirror_mode": {
    "name": "ipython",
    "version": 3
   },
   "file_extension": ".py",
   "mimetype": "text/x-python",
   "name": "python",
   "nbconvert_exporter": "python",
   "pygments_lexer": "ipython3",
   "version": "3.9.12"
  }
 },
 "nbformat": 4,
 "nbformat_minor": 5
}
