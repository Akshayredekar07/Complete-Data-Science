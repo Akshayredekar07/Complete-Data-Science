{
 "cells": [
  {
   "cell_type": "markdown",
   "id": "94dcde6b",
   "metadata": {},
   "source": [
    "## Python OOP 101"
   ]
  },
  {
   "cell_type": "markdown",
   "id": "d215c477",
   "metadata": {},
   "source": [
    "Class => Blue print (template)"
   ]
  },
  {
   "cell_type": "code",
   "execution_count": 10,
   "id": "d85f2801",
   "metadata": {},
   "outputs": [],
   "source": [
    "class Student:\n",
    "    pass"
   ]
  },
  {
   "cell_type": "markdown",
   "id": "1e5e0854",
   "metadata": {},
   "source": [
    "Objects => specific instance of a class"
   ]
  },
  {
   "cell_type": "code",
   "execution_count": 11,
   "id": "a90c829e",
   "metadata": {},
   "outputs": [],
   "source": [
    "s1 = Student() # creates the object"
   ]
  },
  {
   "cell_type": "code",
   "execution_count": 12,
   "id": "76ef62dd",
   "metadata": {},
   "outputs": [
    {
     "data": {
      "text/plain": [
       "__main__.Student"
      ]
     },
     "execution_count": 12,
     "metadata": {},
     "output_type": "execute_result"
    }
   ],
   "source": [
    "type(s1)"
   ]
  },
  {
   "cell_type": "code",
   "execution_count": 13,
   "id": "3b1bc07e",
   "metadata": {},
   "outputs": [
    {
     "data": {
      "text/plain": [
       "__main__.Student"
      ]
     },
     "execution_count": 13,
     "metadata": {},
     "output_type": "execute_result"
    }
   ],
   "source": [
    "s2 = Student()\n",
    "type(s2)"
   ]
  },
  {
   "cell_type": "code",
   "execution_count": 14,
   "id": "187fec21",
   "metadata": {},
   "outputs": [
    {
     "data": {
      "text/plain": [
       "False"
      ]
     },
     "execution_count": 14,
     "metadata": {},
     "output_type": "execute_result"
    }
   ],
   "source": [
    "id(s1) == id(s2)"
   ]
  },
  {
   "cell_type": "markdown",
   "id": "bcc5bc49",
   "metadata": {},
   "source": [
    "### object of int class"
   ]
  },
  {
   "cell_type": "code",
   "execution_count": 4,
   "id": "4fc6211c",
   "metadata": {},
   "outputs": [
    {
     "data": {
      "text/plain": [
       "int"
      ]
     },
     "execution_count": 4,
     "metadata": {},
     "output_type": "execute_result"
    }
   ],
   "source": [
    "a = 3\n",
    "type(a)"
   ]
  },
  {
   "cell_type": "code",
   "execution_count": 7,
   "id": "18b36b50",
   "metadata": {},
   "outputs": [
    {
     "name": "stdout",
     "output_type": "stream",
     "text": [
      "<class 'int'>\n"
     ]
    }
   ],
   "source": [
    "print(type(a)) # a is an object of class int"
   ]
  },
  {
   "cell_type": "code",
   "execution_count": 9,
   "id": "d44b6f83",
   "metadata": {},
   "outputs": [
    {
     "data": {
      "text/plain": [
       "int"
      ]
     },
     "execution_count": 9,
     "metadata": {},
     "output_type": "execute_result"
    }
   ],
   "source": [
    "b = 5\n",
    "type(b)"
   ]
  },
  {
   "cell_type": "markdown",
   "id": "0829e5db",
   "metadata": {},
   "source": [
    "### Encapuslation"
   ]
  },
  {
   "cell_type": "code",
   "execution_count": 35,
   "id": "4e4577c0",
   "metadata": {},
   "outputs": [],
   "source": [
    "class Student:\n",
    "    def study(time):\n",
    "        print(f'I am studying for {time} hours!! Yeah!!')"
   ]
  },
  {
   "cell_type": "code",
   "execution_count": 36,
   "id": "c5e803fc",
   "metadata": {},
   "outputs": [],
   "source": [
    "s = Student()"
   ]
  },
  {
   "cell_type": "code",
   "execution_count": 37,
   "id": "0e2339d3",
   "metadata": {},
   "outputs": [],
   "source": [
    "# data for the object\n",
    "s.name = 'Rahul'"
   ]
  },
  {
   "cell_type": "code",
   "execution_count": 38,
   "id": "2cd9efc8",
   "metadata": {},
   "outputs": [
    {
     "ename": "TypeError",
     "evalue": "study() takes 1 positional argument but 2 were given",
     "output_type": "error",
     "traceback": [
      "\u001b[0;31m---------------------------------------------------------------------------\u001b[0m",
      "\u001b[0;31mTypeError\u001b[0m                                 Traceback (most recent call last)",
      "Input \u001b[0;32mIn [38]\u001b[0m, in \u001b[0;36m<cell line: 2>\u001b[0;34m()\u001b[0m\n\u001b[1;32m      1\u001b[0m \u001b[38;5;66;03m# call method\u001b[39;00m\n\u001b[0;32m----> 2\u001b[0m \u001b[43ms\u001b[49m\u001b[38;5;241;43m.\u001b[39;49m\u001b[43mstudy\u001b[49m\u001b[43m(\u001b[49m\u001b[38;5;241;43m2\u001b[39;49m\u001b[43m)\u001b[49m\n",
      "\u001b[0;31mTypeError\u001b[0m: study() takes 1 positional argument but 2 were given"
     ]
    }
   ],
   "source": [
    "# call method\n",
    "s.study(2) # python is automatically adding the object s as 1st arg"
   ]
  },
  {
   "cell_type": "markdown",
   "id": "6146d8ea",
   "metadata": {},
   "source": [
    "### Making it work and decode self"
   ]
  },
  {
   "cell_type": "code",
   "execution_count": 45,
   "id": "605edcfa",
   "metadata": {},
   "outputs": [],
   "source": [
    "class Student:\n",
    "    def study(a, time):\n",
    "        # a is the same object that is calling\n",
    "        # always the 1st argment is the object that is calling the function\n",
    "        print(f'a is: {a}')\n",
    "        print(f'I am studying for {time} hours!! Yeah!!')"
   ]
  },
  {
   "cell_type": "code",
   "execution_count": 46,
   "id": "72167d5c",
   "metadata": {},
   "outputs": [],
   "source": [
    "s = Student()"
   ]
  },
  {
   "cell_type": "code",
   "execution_count": 47,
   "id": "c9cc6f55",
   "metadata": {},
   "outputs": [],
   "source": [
    "s.name = 'Pradeep'"
   ]
  },
  {
   "cell_type": "code",
   "execution_count": 48,
   "id": "02770a4c",
   "metadata": {},
   "outputs": [
    {
     "name": "stdout",
     "output_type": "stream",
     "text": [
      "Pradeep\n"
     ]
    }
   ],
   "source": [
    "print(s.name)"
   ]
  },
  {
   "cell_type": "code",
   "execution_count": 50,
   "id": "6a37856b",
   "metadata": {},
   "outputs": [
    {
     "name": "stdout",
     "output_type": "stream",
     "text": [
      "a is: <__main__.Student object at 0x7fdea06fd070>\n",
      "I am studying for 1 hours!! Yeah!!\n"
     ]
    }
   ],
   "source": [
    "s.study(1)"
   ]
  },
  {
   "cell_type": "code",
   "execution_count": 51,
   "id": "82d7822d",
   "metadata": {},
   "outputs": [
    {
     "name": "stdout",
     "output_type": "stream",
     "text": [
      "<__main__.Student object at 0x7fdea06fd070>\n"
     ]
    }
   ],
   "source": [
    "print(s)"
   ]
  },
  {
   "cell_type": "code",
   "execution_count": 52,
   "id": "f0d05e3f",
   "metadata": {},
   "outputs": [
    {
     "name": "stdout",
     "output_type": "stream",
     "text": [
      "a is: <__main__.Student object at 0x7fdea06fd070>\n",
      "I am studying for 1 hours!! Yeah!!\n"
     ]
    }
   ],
   "source": [
    "Student.study(s, 1)"
   ]
  },
  {
   "cell_type": "markdown",
   "id": "08d5b87e",
   "metadata": {},
   "source": [
    "### Convention: self is the 1st argument name"
   ]
  },
  {
   "cell_type": "code",
   "execution_count": 74,
   "id": "22b54ef6",
   "metadata": {},
   "outputs": [],
   "source": [
    "class Student:\n",
    "    def study(self, time):\n",
    "        print(self)\n",
    "        # self is the object that is calling this method\n",
    "        print(f'{self.name} ({self.age}) is studying for {time} hours!! Yeah!!')"
   ]
  },
  {
   "cell_type": "code",
   "execution_count": 75,
   "id": "c1dff7b2",
   "metadata": {},
   "outputs": [],
   "source": [
    "s = Student()"
   ]
  },
  {
   "cell_type": "code",
   "execution_count": 76,
   "id": "e09813e9",
   "metadata": {},
   "outputs": [],
   "source": [
    "s.name = 'Annivarya'\n",
    "s.age = 27"
   ]
  },
  {
   "cell_type": "code",
   "execution_count": 77,
   "id": "e8840cbf",
   "metadata": {},
   "outputs": [
    {
     "name": "stdout",
     "output_type": "stream",
     "text": [
      "<__main__.Student object at 0x7fdea06fde20>\n",
      "Annivarya (27) is studying for 5 hours!! Yeah!!\n"
     ]
    }
   ],
   "source": [
    "s.study(5) # Student.study(s, 5)"
   ]
  },
  {
   "cell_type": "code",
   "execution_count": 81,
   "id": "e29440a5",
   "metadata": {},
   "outputs": [],
   "source": [
    "s2 = Student()"
   ]
  },
  {
   "cell_type": "code",
   "execution_count": 83,
   "id": "83ab7965",
   "metadata": {},
   "outputs": [],
   "source": [
    "s2.name = \"Mamta\"\n",
    "s2.age = 27"
   ]
  },
  {
   "cell_type": "code",
   "execution_count": 84,
   "id": "2ae2b08f",
   "metadata": {},
   "outputs": [
    {
     "name": "stdout",
     "output_type": "stream",
     "text": [
      "<__main__.Student object at 0x7fde70f442b0>\n",
      "Mamta (27) is studying for 3 hours!! Yeah!!\n"
     ]
    }
   ],
   "source": [
    "s2.study(3) # Student.study(s2, 3)"
   ]
  },
  {
   "cell_type": "markdown",
   "id": "26770da3",
   "metadata": {},
   "source": [
    "### Quiz - 2"
   ]
  },
  {
   "cell_type": "code",
   "execution_count": 85,
   "id": "886601fc",
   "metadata": {},
   "outputs": [],
   "source": [
    "class Counter:\n",
    "    def call(self):\n",
    "        print(self.count)"
   ]
  },
  {
   "cell_type": "code",
   "execution_count": 86,
   "id": "a95e8eb0",
   "metadata": {},
   "outputs": [],
   "source": [
    "c = Counter()"
   ]
  },
  {
   "cell_type": "code",
   "execution_count": 87,
   "id": "49cfa989",
   "metadata": {},
   "outputs": [],
   "source": [
    "c.count = 5"
   ]
  },
  {
   "cell_type": "code",
   "execution_count": 88,
   "id": "bdcad952",
   "metadata": {},
   "outputs": [
    {
     "name": "stdout",
     "output_type": "stream",
     "text": [
      "5\n"
     ]
    }
   ],
   "source": [
    "c.call()"
   ]
  },
  {
   "cell_type": "markdown",
   "id": "730ec187",
   "metadata": {},
   "source": [
    "## Construction"
   ]
  },
  {
   "cell_type": "code",
   "execution_count": 89,
   "id": "56c8f67e",
   "metadata": {},
   "outputs": [],
   "source": [
    "class Student:\n",
    "    pass"
   ]
  },
  {
   "cell_type": "code",
   "execution_count": 92,
   "id": "b5b5afea",
   "metadata": {},
   "outputs": [],
   "source": [
    "s = Student() # the object is created"
   ]
  },
  {
   "cell_type": "code",
   "execution_count": 91,
   "id": "7c58c788",
   "metadata": {},
   "outputs": [
    {
     "name": "stdout",
     "output_type": "stream",
     "text": [
      "<__main__.Student object at 0x7fde809eec10>\n"
     ]
    }
   ],
   "source": [
    "print(s)"
   ]
  },
  {
   "cell_type": "code",
   "execution_count": 93,
   "id": "2f451b6f",
   "metadata": {},
   "outputs": [],
   "source": [
    "s2 = Student()"
   ]
  },
  {
   "cell_type": "code",
   "execution_count": 94,
   "id": "bafa99af",
   "metadata": {},
   "outputs": [
    {
     "name": "stdout",
     "output_type": "stream",
     "text": [
      "<__main__.Student object at 0x7fde80a584c0>\n"
     ]
    }
   ],
   "source": [
    "print(s2)"
   ]
  },
  {
   "cell_type": "code",
   "execution_count": 96,
   "id": "2a0e2f34",
   "metadata": {},
   "outputs": [
    {
     "ename": "AttributeError",
     "evalue": "'Student' object has no attribute 'name'",
     "output_type": "error",
     "traceback": [
      "\u001b[0;31m---------------------------------------------------------------------------\u001b[0m",
      "\u001b[0;31mAttributeError\u001b[0m                            Traceback (most recent call last)",
      "Input \u001b[0;32mIn [96]\u001b[0m, in \u001b[0;36m<cell line: 1>\u001b[0;34m()\u001b[0m\n\u001b[0;32m----> 1\u001b[0m \u001b[38;5;28mprint\u001b[39m(\u001b[43ms2\u001b[49m\u001b[38;5;241;43m.\u001b[39;49m\u001b[43mname\u001b[49m)\n",
      "\u001b[0;31mAttributeError\u001b[0m: 'Student' object has no attribute 'name'"
     ]
    }
   ],
   "source": [
    "print(s2.name)"
   ]
  },
  {
   "cell_type": "markdown",
   "id": "7bb80418",
   "metadata": {},
   "source": [
    "`__init__` initialiser"
   ]
  },
  {
   "cell_type": "code",
   "execution_count": 97,
   "id": "8ffb2cfa",
   "metadata": {},
   "outputs": [],
   "source": [
    "class Student:\n",
    "    def __init__(self, n, a):\n",
    "        # assign the values\n",
    "        self.name = n\n",
    "        self.age = a"
   ]
  },
  {
   "cell_type": "code",
   "execution_count": 98,
   "id": "0db5f5fd",
   "metadata": {},
   "outputs": [
    {
     "ename": "TypeError",
     "evalue": "__init__() missing 2 required positional arguments: 'n' and 'a'",
     "output_type": "error",
     "traceback": [
      "\u001b[0;31m---------------------------------------------------------------------------\u001b[0m",
      "\u001b[0;31mTypeError\u001b[0m                                 Traceback (most recent call last)",
      "Input \u001b[0;32mIn [98]\u001b[0m, in \u001b[0;36m<cell line: 1>\u001b[0;34m()\u001b[0m\n\u001b[0;32m----> 1\u001b[0m s \u001b[38;5;241m=\u001b[39m \u001b[43mStudent\u001b[49m\u001b[43m(\u001b[49m\u001b[43m)\u001b[49m\n",
      "\u001b[0;31mTypeError\u001b[0m: __init__() missing 2 required positional arguments: 'n' and 'a'"
     ]
    }
   ],
   "source": [
    "s = Student()"
   ]
  },
  {
   "cell_type": "code",
   "execution_count": 99,
   "id": "23b84216",
   "metadata": {},
   "outputs": [
    {
     "ename": "TypeError",
     "evalue": "__init__() missing 1 required positional argument: 'a'",
     "output_type": "error",
     "traceback": [
      "\u001b[0;31m---------------------------------------------------------------------------\u001b[0m",
      "\u001b[0;31mTypeError\u001b[0m                                 Traceback (most recent call last)",
      "Input \u001b[0;32mIn [99]\u001b[0m, in \u001b[0;36m<cell line: 1>\u001b[0;34m()\u001b[0m\n\u001b[0;32m----> 1\u001b[0m s \u001b[38;5;241m=\u001b[39m \u001b[43mStudent\u001b[49m\u001b[43m(\u001b[49m\u001b[38;5;124;43m'\u001b[39;49m\u001b[38;5;124;43mRama\u001b[39;49m\u001b[38;5;124;43m'\u001b[39;49m\u001b[43m)\u001b[49m\n",
      "\u001b[0;31mTypeError\u001b[0m: __init__() missing 1 required positional argument: 'a'"
     ]
    }
   ],
   "source": [
    "s = Student('Rama')"
   ]
  },
  {
   "cell_type": "code",
   "execution_count": 100,
   "id": "809b1c8f",
   "metadata": {},
   "outputs": [],
   "source": [
    "s = Student('Rama', 25)"
   ]
  },
  {
   "cell_type": "code",
   "execution_count": 101,
   "id": "2c572f03",
   "metadata": {},
   "outputs": [
    {
     "ename": "AttributeError",
     "evalue": "'Student' object has no attribute 'n'",
     "output_type": "error",
     "traceback": [
      "\u001b[0;31m---------------------------------------------------------------------------\u001b[0m",
      "\u001b[0;31mAttributeError\u001b[0m                            Traceback (most recent call last)",
      "Input \u001b[0;32mIn [101]\u001b[0m, in \u001b[0;36m<cell line: 1>\u001b[0;34m()\u001b[0m\n\u001b[0;32m----> 1\u001b[0m \u001b[38;5;28mprint\u001b[39m(\u001b[43ms\u001b[49m\u001b[38;5;241;43m.\u001b[39;49m\u001b[43mn\u001b[49m)\n",
      "\u001b[0;31mAttributeError\u001b[0m: 'Student' object has no attribute 'n'"
     ]
    }
   ],
   "source": [
    "print(s.n)"
   ]
  },
  {
   "cell_type": "code",
   "execution_count": 102,
   "id": "cd62fa72",
   "metadata": {},
   "outputs": [
    {
     "name": "stdout",
     "output_type": "stream",
     "text": [
      "Rama\n"
     ]
    }
   ],
   "source": [
    "print(s.name)"
   ]
  },
  {
   "cell_type": "code",
   "execution_count": 104,
   "id": "1507a675",
   "metadata": {},
   "outputs": [
    {
     "name": "stdout",
     "output_type": "stream",
     "text": [
      "25\n"
     ]
    }
   ],
   "source": [
    "print(s.age)"
   ]
  },
  {
   "cell_type": "markdown",
   "id": "c918cda8",
   "metadata": {},
   "source": [
    "## Is object already created before calling init?\n",
    "\n",
    "Yes"
   ]
  },
  {
   "cell_type": "code",
   "execution_count": 108,
   "id": "b0afa01c",
   "metadata": {},
   "outputs": [],
   "source": [
    "class Student:\n",
    "    def __init__(self, n, a):\n",
    "        print(f'Printing self inside: {self}')\n",
    "        # assign the values\n",
    "        self.name = n\n",
    "        self.age = a"
   ]
  },
  {
   "cell_type": "code",
   "execution_count": 109,
   "id": "09049093",
   "metadata": {},
   "outputs": [
    {
     "name": "stdout",
     "output_type": "stream",
     "text": [
      "Printing self inside: <__main__.Student object at 0x7fde70e0ecd0>\n",
      "<__main__.Student object at 0x7fde70e0ecd0>\n"
     ]
    }
   ],
   "source": [
    "s = Student('Rama', 25) # python auto calls initialiser => init\n",
    "print(s)"
   ]
  },
  {
   "cell_type": "code",
   "execution_count": 110,
   "id": "4820de8b",
   "metadata": {},
   "outputs": [
    {
     "name": "stdout",
     "output_type": "stream",
     "text": [
      "Printing self inside: <__main__.Student object at 0x7fde70e0e790>\n"
     ]
    }
   ],
   "source": [
    "s2 = Student('Nikhil', 23)"
   ]
  },
  {
   "cell_type": "markdown",
   "id": "2452a0f2",
   "metadata": {},
   "source": [
    "## 2 objectS"
   ]
  },
  {
   "cell_type": "code",
   "execution_count": 129,
   "id": "5dba0e8e",
   "metadata": {},
   "outputs": [],
   "source": [
    "class Student:\n",
    "    def __init__(self, n, a): # magic method\n",
    "        # assign the values\n",
    "        self.name = n\n",
    "        self.age = a\n",
    "        \n",
    "    def study(self, time):\n",
    "        print(f'{self.name} is studying for {time} hours')"
   ]
  },
  {
   "cell_type": "code",
   "execution_count": 139,
   "id": "b4cc628d",
   "metadata": {},
   "outputs": [],
   "source": [
    "s = Student('Rama', 25) # python calls __init__ by itself => abstraction"
   ]
  },
  {
   "cell_type": "code",
   "execution_count": 131,
   "id": "aca7bb63",
   "metadata": {},
   "outputs": [],
   "source": [
    "s2 = Student('Nikhil', 23)"
   ]
  },
  {
   "cell_type": "code",
   "execution_count": 132,
   "id": "fbd1884d",
   "metadata": {},
   "outputs": [
    {
     "name": "stdout",
     "output_type": "stream",
     "text": [
      "Rama\n"
     ]
    }
   ],
   "source": [
    "print(s.name)"
   ]
  },
  {
   "cell_type": "code",
   "execution_count": 133,
   "id": "56cfbd69",
   "metadata": {},
   "outputs": [
    {
     "name": "stdout",
     "output_type": "stream",
     "text": [
      "Nikhil\n"
     ]
    }
   ],
   "source": [
    "print(s2.name)"
   ]
  },
  {
   "cell_type": "code",
   "execution_count": 134,
   "id": "fe34d0c2",
   "metadata": {},
   "outputs": [
    {
     "name": "stdout",
     "output_type": "stream",
     "text": [
      "25\n"
     ]
    }
   ],
   "source": [
    "print(s.age)"
   ]
  },
  {
   "cell_type": "code",
   "execution_count": 135,
   "id": "4048d293",
   "metadata": {},
   "outputs": [
    {
     "name": "stdout",
     "output_type": "stream",
     "text": [
      "23\n"
     ]
    }
   ],
   "source": [
    "print(s2.age)"
   ]
  },
  {
   "cell_type": "code",
   "execution_count": 137,
   "id": "7e0e681c",
   "metadata": {},
   "outputs": [
    {
     "name": "stdout",
     "output_type": "stream",
     "text": [
      "Rama is studying for 1 hours\n"
     ]
    }
   ],
   "source": [
    "s.study(1)"
   ]
  },
  {
   "cell_type": "code",
   "execution_count": 138,
   "id": "21c323dd",
   "metadata": {},
   "outputs": [
    {
     "name": "stdout",
     "output_type": "stream",
     "text": [
      "Nikhil is studying for 2 hours\n"
     ]
    }
   ],
   "source": [
    "s2.study(2)"
   ]
  },
  {
   "cell_type": "markdown",
   "id": "d6fb41a8",
   "metadata": {},
   "source": [
    "## Quiz"
   ]
  },
  {
   "cell_type": "code",
   "execution_count": 147,
   "id": "31ec4433",
   "metadata": {},
   "outputs": [],
   "source": [
    "class Counter:\n",
    "    def __init__(self):\n",
    "        self.count = 5\n",
    "        self.count = count + 1\n",
    "\n"
   ]
  },
  {
   "cell_type": "code",
   "execution_count": 149,
   "id": "3aa40668",
   "metadata": {},
   "outputs": [
    {
     "ename": "NameError",
     "evalue": "name 'count' is not defined",
     "output_type": "error",
     "traceback": [
      "\u001b[0;31m---------------------------------------------------------------------------\u001b[0m",
      "\u001b[0;31mNameError\u001b[0m                                 Traceback (most recent call last)",
      "Input \u001b[0;32mIn [149]\u001b[0m, in \u001b[0;36m<cell line: 1>\u001b[0;34m()\u001b[0m\n\u001b[0;32m----> 1\u001b[0m c \u001b[38;5;241m=\u001b[39m \u001b[43mCounter\u001b[49m\u001b[43m(\u001b[49m\u001b[43m)\u001b[49m\n",
      "Input \u001b[0;32mIn [147]\u001b[0m, in \u001b[0;36mCounter.__init__\u001b[0;34m(self)\u001b[0m\n\u001b[1;32m      2\u001b[0m \u001b[38;5;28;01mdef\u001b[39;00m \u001b[38;5;21m__init__\u001b[39m(\u001b[38;5;28mself\u001b[39m):\n\u001b[1;32m      3\u001b[0m     \u001b[38;5;28mself\u001b[39m\u001b[38;5;241m.\u001b[39mcount \u001b[38;5;241m=\u001b[39m \u001b[38;5;241m5\u001b[39m\n\u001b[0;32m----> 4\u001b[0m     \u001b[38;5;28mself\u001b[39m\u001b[38;5;241m.\u001b[39mcount \u001b[38;5;241m=\u001b[39m \u001b[43mcount\u001b[49m \u001b[38;5;241m+\u001b[39m \u001b[38;5;241m1\u001b[39m\n",
      "\u001b[0;31mNameError\u001b[0m: name 'count' is not defined"
     ]
    }
   ],
   "source": [
    "c = Counter()"
   ]
  },
  {
   "cell_type": "code",
   "execution_count": 150,
   "id": "e33ab6a6",
   "metadata": {},
   "outputs": [
    {
     "name": "stdout",
     "output_type": "stream",
     "text": [
      "5\n"
     ]
    }
   ],
   "source": [
    "print(c.count)"
   ]
  },
  {
   "cell_type": "code",
   "execution_count": 151,
   "id": "90412963",
   "metadata": {},
   "outputs": [
    {
     "ename": "NameError",
     "evalue": "name 'count' is not defined",
     "output_type": "error",
     "traceback": [
      "\u001b[0;31m---------------------------------------------------------------------------\u001b[0m",
      "\u001b[0;31mNameError\u001b[0m                                 Traceback (most recent call last)",
      "Input \u001b[0;32mIn [151]\u001b[0m, in \u001b[0;36m<cell line: 1>\u001b[0;34m()\u001b[0m\n\u001b[0;32m----> 1\u001b[0m c \u001b[38;5;241m=\u001b[39m \u001b[43mCounter\u001b[49m\u001b[43m(\u001b[49m\u001b[43m)\u001b[49m\n\u001b[1;32m      2\u001b[0m \u001b[38;5;28mprint\u001b[39m(c\u001b[38;5;241m.\u001b[39mcount)\n",
      "Input \u001b[0;32mIn [147]\u001b[0m, in \u001b[0;36mCounter.__init__\u001b[0;34m(self)\u001b[0m\n\u001b[1;32m      2\u001b[0m \u001b[38;5;28;01mdef\u001b[39;00m \u001b[38;5;21m__init__\u001b[39m(\u001b[38;5;28mself\u001b[39m):\n\u001b[1;32m      3\u001b[0m     \u001b[38;5;28mself\u001b[39m\u001b[38;5;241m.\u001b[39mcount \u001b[38;5;241m=\u001b[39m \u001b[38;5;241m5\u001b[39m\n\u001b[0;32m----> 4\u001b[0m     \u001b[38;5;28mself\u001b[39m\u001b[38;5;241m.\u001b[39mcount \u001b[38;5;241m=\u001b[39m \u001b[43mcount\u001b[49m \u001b[38;5;241m+\u001b[39m \u001b[38;5;241m1\u001b[39m\n",
      "\u001b[0;31mNameError\u001b[0m: name 'count' is not defined"
     ]
    }
   ],
   "source": [
    "c = Counter()\n",
    "print(c.count)"
   ]
  },
  {
   "cell_type": "markdown",
   "id": "5b3e5cce",
   "metadata": {},
   "source": [
    "### Quiz - 3"
   ]
  },
  {
   "cell_type": "code",
   "execution_count": 1,
   "id": "c6bb77d2",
   "metadata": {},
   "outputs": [],
   "source": [
    "class Vehicle:\n",
    "    def __init__(self, name):\n",
    "        self.name = name"
   ]
  },
  {
   "cell_type": "code",
   "execution_count": 4,
   "id": "67d2d88e",
   "metadata": {},
   "outputs": [],
   "source": [
    "v = Vehicle('minivan')"
   ]
  },
  {
   "cell_type": "code",
   "execution_count": 5,
   "id": "ffeb9a51",
   "metadata": {},
   "outputs": [
    {
     "name": "stdout",
     "output_type": "stream",
     "text": [
      "minivan\n"
     ]
    }
   ],
   "source": [
    "print(v.name)"
   ]
  },
  {
   "cell_type": "markdown",
   "id": "f00dd3ad",
   "metadata": {},
   "source": [
    "### Quiz - 4"
   ]
  },
  {
   "cell_type": "code",
   "execution_count": 163,
   "id": "67ff83a0",
   "metadata": {},
   "outputs": [],
   "source": [
    "class Dog:\n",
    "    def __init__(self, name, age):\n",
    "        self.name = name\n",
    "        self.age = age"
   ]
  },
  {
   "cell_type": "code",
   "execution_count": 164,
   "id": "cfcade32",
   "metadata": {},
   "outputs": [],
   "source": [
    "d = Dog('Toby', 5) # C"
   ]
  },
  {
   "cell_type": "code",
   "execution_count": 165,
   "id": "e7476b14",
   "metadata": {},
   "outputs": [
    {
     "name": "stdout",
     "output_type": "stream",
     "text": [
      "Toby\n"
     ]
    }
   ],
   "source": [
    "print(d.name)"
   ]
  },
  {
   "cell_type": "code",
   "execution_count": 166,
   "id": "7d1c61e2",
   "metadata": {},
   "outputs": [
    {
     "name": "stdout",
     "output_type": "stream",
     "text": [
      "5\n"
     ]
    }
   ],
   "source": [
    "print(d.age)"
   ]
  },
  {
   "cell_type": "code",
   "execution_count": 167,
   "id": "2df7edbf",
   "metadata": {},
   "outputs": [
    {
     "ename": "NameError",
     "evalue": "name 'self' is not defined",
     "output_type": "error",
     "traceback": [
      "\u001b[0;31m---------------------------------------------------------------------------\u001b[0m",
      "\u001b[0;31mNameError\u001b[0m                                 Traceback (most recent call last)",
      "Input \u001b[0;32mIn [167]\u001b[0m, in \u001b[0;36m<cell line: 1>\u001b[0;34m()\u001b[0m\n\u001b[0;32m----> 1\u001b[0m obj \u001b[38;5;241m=\u001b[39m Dog(\u001b[38;5;28;43mself\u001b[39;49m, \u001b[38;5;124m'\u001b[39m\u001b[38;5;124mTobi\u001b[39m\u001b[38;5;124m'\u001b[39m)\n",
      "\u001b[0;31mNameError\u001b[0m: name 'self' is not defined"
     ]
    }
   ],
   "source": [
    "obj = Dog(self, 'Tobi') # A"
   ]
  },
  {
   "cell_type": "code",
   "execution_count": 169,
   "id": "d3bd1d01",
   "metadata": {},
   "outputs": [
    {
     "ename": "TypeError",
     "evalue": "__init__() missing 1 required positional argument: 'age'",
     "output_type": "error",
     "traceback": [
      "\u001b[0;31m---------------------------------------------------------------------------\u001b[0m",
      "\u001b[0;31mTypeError\u001b[0m                                 Traceback (most recent call last)",
      "Input \u001b[0;32mIn [169]\u001b[0m, in \u001b[0;36m<cell line: 1>\u001b[0;34m()\u001b[0m\n\u001b[0;32m----> 1\u001b[0m obj \u001b[38;5;241m=\u001b[39m \u001b[43mDog\u001b[49m\u001b[43m(\u001b[49m\u001b[38;5;124;43m'\u001b[39;49m\u001b[38;5;124;43mTobi\u001b[39;49m\u001b[38;5;124;43m'\u001b[39;49m\u001b[43m)\u001b[49m\n",
      "\u001b[0;31mTypeError\u001b[0m: __init__() missing 1 required positional argument: 'age'"
     ]
    }
   ],
   "source": [
    "obj = Dog('Tobi') # Dog.__init__(obj, 'Tobi')"
   ]
  },
  {
   "cell_type": "code",
   "execution_count": 157,
   "id": "843e89f2",
   "metadata": {},
   "outputs": [],
   "source": [
    "# class variables\n",
    "\n",
    "class Student:\n",
    "    batch_name = 'DSML June22' # class variable\n",
    "    \n",
    "    def __init__(self, n, a): # magic method\n",
    "        # assign the values\n",
    "        self.name = n # instance variable\n",
    "        self.age = a \n",
    "        \n",
    "    def study(self, time):\n",
    "        print(f'{self.name} is studying for {time} hours')"
   ]
  },
  {
   "cell_type": "code",
   "execution_count": 162,
   "id": "1c211ff8",
   "metadata": {},
   "outputs": [],
   "source": [
    "s1 = Student('Zaheer', 26)\n",
    "s2 = Student('Surya', 27)"
   ]
  },
  {
   "cell_type": "code",
   "execution_count": 159,
   "id": "f1d9265a",
   "metadata": {},
   "outputs": [
    {
     "name": "stdout",
     "output_type": "stream",
     "text": [
      "DSML June22\n"
     ]
    }
   ],
   "source": [
    "print(s1.batch_name)"
   ]
  },
  {
   "cell_type": "code",
   "execution_count": 160,
   "id": "b8c2ac7a",
   "metadata": {},
   "outputs": [
    {
     "name": "stdout",
     "output_type": "stream",
     "text": [
      "DSML June22\n"
     ]
    }
   ],
   "source": [
    "print(s2.batch_name)"
   ]
  },
  {
   "cell_type": "code",
   "execution_count": 176,
   "id": "2861bc88",
   "metadata": {},
   "outputs": [],
   "source": [
    "class Dog:\n",
    "    # name => d\n",
    "    # self => 'Toby'\n",
    "    # age => 5\n",
    "    def __init__(name, self, age):\n",
    "        print(self)\n",
    "        self.name = name\n",
    "        self.age = age"
   ]
  },
  {
   "cell_type": "code",
   "execution_count": 178,
   "id": "57f93930",
   "metadata": {},
   "outputs": [
    {
     "name": "stdout",
     "output_type": "stream",
     "text": [
      "Toby\n"
     ]
    },
    {
     "ename": "AttributeError",
     "evalue": "'str' object has no attribute 'name'",
     "output_type": "error",
     "traceback": [
      "\u001b[0;31m---------------------------------------------------------------------------\u001b[0m",
      "\u001b[0;31mAttributeError\u001b[0m                            Traceback (most recent call last)",
      "Input \u001b[0;32mIn [178]\u001b[0m, in \u001b[0;36m<cell line: 1>\u001b[0;34m()\u001b[0m\n\u001b[0;32m----> 1\u001b[0m d \u001b[38;5;241m=\u001b[39m \u001b[43mDog\u001b[49m\u001b[43m(\u001b[49m\u001b[38;5;124;43m'\u001b[39;49m\u001b[38;5;124;43mToby\u001b[39;49m\u001b[38;5;124;43m'\u001b[39;49m\u001b[43m,\u001b[49m\u001b[43m \u001b[49m\u001b[38;5;241;43m5\u001b[39;49m\u001b[43m)\u001b[49m\n",
      "Input \u001b[0;32mIn [176]\u001b[0m, in \u001b[0;36mDog.__init__\u001b[0;34m(name, self, age)\u001b[0m\n\u001b[1;32m      5\u001b[0m \u001b[38;5;28;01mdef\u001b[39;00m \u001b[38;5;21m__init__\u001b[39m(name, \u001b[38;5;28mself\u001b[39m, age):\n\u001b[1;32m      6\u001b[0m     \u001b[38;5;28mprint\u001b[39m(\u001b[38;5;28mself\u001b[39m)\n\u001b[0;32m----> 7\u001b[0m     \u001b[38;5;28mself\u001b[39m\u001b[38;5;241m.\u001b[39mname \u001b[38;5;241m=\u001b[39m name\n\u001b[1;32m      8\u001b[0m     \u001b[38;5;28mself\u001b[39m\u001b[38;5;241m.\u001b[39mage \u001b[38;5;241m=\u001b[39m age\n",
      "\u001b[0;31mAttributeError\u001b[0m: 'str' object has no attribute 'name'"
     ]
    }
   ],
   "source": [
    "d = Dog('Toby', 5) # Dog.__init__(d, 'Toby', 5)"
   ]
  },
  {
   "cell_type": "code",
   "execution_count": 182,
   "id": "7d9d3f32",
   "metadata": {},
   "outputs": [
    {
     "name": "stdout",
     "output_type": "stream",
     "text": [
      "Printing self inside: <__main__.Student object at 0x7fde70e08a30>\n",
      "<__main__.Student object at 0x7fde70e08a30>\n",
      "Printing self inside: <__main__.Student object at 0x7fde70e08c10>\n"
     ]
    }
   ],
   "source": [
    "class Student:\n",
    "    def __init__(self, n, a):\n",
    "        print(f'Printing self inside: {self}')\n",
    "        # assign the values\n",
    "        self.name = n\n",
    "        self.age = a\n",
    "\n",
    "    def study(self, time):\n",
    "        print(time)\n",
    "        \n",
    "s = Student('Rama', 25) # python auto calls initialiser => init\n",
    "print(s)\n",
    "s.marks = 20\n",
    "\n",
    "s2 = Student('Harish', 27)"
   ]
  },
  {
   "cell_type": "code",
   "execution_count": 183,
   "id": "da917c5b",
   "metadata": {},
   "outputs": [
    {
     "data": {
      "text/plain": [
       "2005"
      ]
     },
     "execution_count": 183,
     "metadata": {},
     "output_type": "execute_result"
    }
   ],
   "source": [
    "int(\"2005\") # function"
   ]
  },
  {
   "cell_type": "code",
   "execution_count": 185,
   "id": "bb730952",
   "metadata": {},
   "outputs": [
    {
     "name": "stdout",
     "output_type": "stream",
     "text": [
      "5\n"
     ]
    }
   ],
   "source": [
    "s.study(5) # method => function inside class"
   ]
  },
  {
   "cell_type": "code",
   "execution_count": 229,
   "id": "9e707930",
   "metadata": {},
   "outputs": [],
   "source": [
    "class Student:\n",
    "    def __init__(self, name):\n",
    "        self.name = name\n",
    "#     def __str__(self):\n",
    "#         return f'My name is: {self.name}'"
   ]
  },
  {
   "cell_type": "code",
   "execution_count": 213,
   "id": "334bda57",
   "metadata": {},
   "outputs": [],
   "source": [
    "s = Student('Gaurav')"
   ]
  },
  {
   "cell_type": "code",
   "execution_count": 214,
   "id": "12c9c1ca",
   "metadata": {},
   "outputs": [
    {
     "name": "stdout",
     "output_type": "stream",
     "text": [
      "<__main__.Student object at 0x7fde70ee4f40>\n"
     ]
    }
   ],
   "source": [
    "print(s)"
   ]
  },
  {
   "cell_type": "code",
   "execution_count": 226,
   "id": "515dd883",
   "metadata": {},
   "outputs": [],
   "source": [
    "class Student:\n",
    "    def __init__(self, name):\n",
    "        self.name = name\n"
   ]
  },
  {
   "cell_type": "code",
   "execution_count": 227,
   "id": "cf755eda",
   "metadata": {},
   "outputs": [],
   "source": [
    "s = Student('Gaurav')"
   ]
  },
  {
   "cell_type": "code",
   "execution_count": 228,
   "id": "e6e3a9e2",
   "metadata": {},
   "outputs": [
    {
     "name": "stdout",
     "output_type": "stream",
     "text": [
      "<__main__.Student object at 0x7fde70e77880>\n"
     ]
    }
   ],
   "source": [
    "print(s)"
   ]
  },
  {
   "cell_type": "code",
   "execution_count": 247,
   "id": "9c945b18",
   "metadata": {},
   "outputs": [
    {
     "name": "stdout",
     "output_type": "stream",
     "text": [
      "5\n"
     ]
    }
   ],
   "source": [
    "class Counter:\n",
    "    def call(self):\n",
    "        print(self.count)\n",
    "\n",
    "c = Counter # class, not an object\n",
    "c.count = 5 # class variable\n",
    "print(c.count)"
   ]
  },
  {
   "cell_type": "code",
   "execution_count": 248,
   "id": "3be34654",
   "metadata": {},
   "outputs": [
    {
     "name": "stdout",
     "output_type": "stream",
     "text": [
      "<class '__main__.Counter'>\n"
     ]
    }
   ],
   "source": [
    "print(c)"
   ]
  },
  {
   "cell_type": "code",
   "execution_count": 244,
   "id": "70b040cf",
   "metadata": {},
   "outputs": [],
   "source": [
    "c2 = Counter()"
   ]
  },
  {
   "cell_type": "code",
   "execution_count": 245,
   "id": "d051f8c7",
   "metadata": {},
   "outputs": [
    {
     "name": "stdout",
     "output_type": "stream",
     "text": [
      "5\n"
     ]
    }
   ],
   "source": [
    "print(c2.count)"
   ]
  },
  {
   "cell_type": "code",
   "execution_count": 246,
   "id": "fef85fab",
   "metadata": {},
   "outputs": [
    {
     "name": "stdout",
     "output_type": "stream",
     "text": [
      "5\n"
     ]
    }
   ],
   "source": [
    "c3 = Counter()\n",
    "print(c3.count)"
   ]
  },
  {
   "cell_type": "code",
   "execution_count": null,
   "id": "2ea710a8",
   "metadata": {},
   "outputs": [],
   "source": []
  }
 ],
 "metadata": {
  "kernelspec": {
   "display_name": "Python 3 (ipykernel)",
   "language": "python",
   "name": "python3"
  },
  "language_info": {
   "codemirror_mode": {
    "name": "ipython",
    "version": 3
   },
   "file_extension": ".py",
   "mimetype": "text/x-python",
   "name": "python",
   "nbconvert_exporter": "python",
   "pygments_lexer": "ipython3",
   "version": "3.9.12"
  }
 },
 "nbformat": 4,
 "nbformat_minor": 5
}
