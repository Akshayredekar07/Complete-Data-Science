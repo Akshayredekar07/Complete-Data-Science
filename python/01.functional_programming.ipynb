{
 "cells": [
  {
   "cell_type": "code",
   "execution_count": 1,
   "id": "e88aff32",
   "metadata": {},
   "outputs": [
    {
     "name": "stdout",
     "output_type": "stream",
     "text": [
      "[(-1, 2), (1, -1), (2, 1), (3, 5), (5, 3), (7, 7)]\n"
     ]
    }
   ],
   "source": [
    "coordinates = [(1, -1), (-1, 2), (3, 5), (5, 3), (7, 7), (2, 1)]\n",
    "# we want to sort them on the basis of x coordinate\n",
    "res = sorted(coordinates)\n",
    "print(res)"
   ]
  },
  {
   "cell_type": "code",
   "execution_count": 3,
   "id": "035e7257",
   "metadata": {},
   "outputs": [
    {
     "name": "stdout",
     "output_type": "stream",
     "text": [
      "<class 'function'>\n",
      "8\n",
      "125\n",
      "9\n"
     ]
    }
   ],
   "source": [
    "# Demonstrating lambda functions in Python\n",
    "\n",
    "# Check the type of a lambda function\n",
    "print(type(lambda x: x))  # Output: <class 'function'>\n",
    "\n",
    "# Lambda function to cube a number\n",
    "cube = lambda x: x**3\n",
    "print(cube(2))  # Output: 8\n",
    "print(cube(5))  # Output: 125\n",
    "\n",
    "# Lambda function to get first element of a list\n",
    "first_element = lambda lst: lst[0]\n",
    "print(first_element([9, 5, 6]))  # Output: 9"
   ]
  },
  {
   "cell_type": "code",
   "execution_count": 4,
   "id": "6ede154d",
   "metadata": {},
   "outputs": [
    {
     "name": "stdout",
     "output_type": "stream",
     "text": [
      "Sorted by x-coordinate: [(-1, 2), (1, -1), (2, 1), (3, 5), (5, 3), (7, 7)]\n",
      "Sorted by y-coordinate: [(1, -1), (2, 1), (-1, 2), (5, 3), (3, 5), (7, 7)]\n",
      "Sorted by y-coordinate (lambda): [(1, -1), (2, 1), (-1, 2), (5, 3), (3, 5), (7, 7)]\n",
      "Sorted copy: [1, 2, 3, 4, 5]\n",
      "Original list: [1, 4, 3, 2, 5]\n",
      "After sort(): [1, 2, 3, 4, 5]\n",
      "Bubble sorted: [1, 2, 3, 4, 5]\n",
      "Original list: [5, 1, 2, 3, 4]\n",
      "Sorted by marks: [{'name': 'C', 'marks': 40}, {'name': 'A', 'marks': 50}, {'name': 'E', 'marks': 60}, {'name': 'D', 'marks': 70}, {'name': 'B', 'marks': 100}]\n",
      "Type of exp_5: <class 'function'>\n",
      "5^3 = 243\n"
     ]
    }
   ],
   "source": [
    "# Sorting coordinates by x and y coordinates\n",
    "coordinates = [(1, -1), (-1, 2), (3, 5), (5, 3), (7, 7), (2, 1)]\n",
    "\n",
    "# Sort by x-coordinate (default sorting for tuples compares first element)\n",
    "res = sorted(coordinates)\n",
    "print(\"Sorted by x-coordinate:\", res)\n",
    "# Output: [(-1, 2), (1, -1), (2, 1), (3, 5), (5, 3), (7, 7)]\n",
    "\n",
    "# Sort by y-coordinate using a function\n",
    "def get_y(lst):\n",
    "    return lst[1]\n",
    "\n",
    "res_y = sorted(coordinates, key=get_y)\n",
    "print(\"Sorted by y-coordinate:\", res_y)\n",
    "# Output: [(1, -1), (2, 1), (-1, 2), (5, 3), (3, 5), (7, 7)]\n",
    "\n",
    "# Sort by y-coordinate using lambda\n",
    "res_y_lambda = sorted(coordinates, key=lambda coord: coord[1])\n",
    "print(\"Sorted by y-coordinate (lambda):\", res_y_lambda)\n",
    "# Output: [(1, -1), (2, 1), (-1, 2), (5, 3), (3, 5), (7, 7)]\n",
    "\n",
    "# Demonstrating sorted() vs sort() on a simple list\n",
    "l = [1, 4, 3, 2, 5]\n",
    "x = sorted(l)  # Creates a new sorted list\n",
    "print(\"Sorted copy:\", x)  # Output: [1, 2, 3, 4, 5]\n",
    "print(\"Original list:\", l)  # Output: [1, 4, 3, 2, 5]\n",
    "l.sort()  # Modifies the list in-place\n",
    "print(\"After sort():\", l)  # Output: [1, 2, 3, 4, 5]\n",
    "\n",
    "# Bubble sort implementation\n",
    "def bubble_sort(arr):\n",
    "    n = len(arr)\n",
    "    for i in range(n - 1):\n",
    "        for j in range(n - i - 1):\n",
    "            if arr[j] > arr[j + 1]:\n",
    "                arr[j], arr[j + 1] = arr[j + 1], arr[j]\n",
    "    return arr\n",
    "\n",
    "l = [5, 1, 2, 3, 4]\n",
    "sorted_l = bubble_sort(l.copy())  # Use copy to preserve original\n",
    "print(\"Bubble sorted:\", sorted_l)  # Output: [1, 2, 3, 4, 5]\n",
    "print(\"Original list:\", l)  # Output: [5, 1, 2, 3, 4]\n",
    "\n",
    "# Sorting list of dictionaries by marks\n",
    "students = [\n",
    "    {\"name\": \"A\", \"marks\": 50},\n",
    "    {\"name\": \"B\", \"marks\": 100},\n",
    "    {\"name\": \"C\", \"marks\": 40},\n",
    "    {\"name\": \"D\", \"marks\": 70},\n",
    "    {\"name\": \"E\", \"marks\": 60},\n",
    "]\n",
    "\n",
    "sorted_students = sorted(students, key=lambda student: student['marks'])\n",
    "print(\"Sorted by marks:\", sorted_students)\n",
    "# Output: [{'name': 'C', 'marks': 40}, {'name': 'A', 'marks': 50}, {'name': 'E', 'marks': 60}, {'name': 'D', 'marks': 70}, {'name': 'B', 'marks': 100}]\n",
    "\n",
    "# Function that generates exponentiation functions\n",
    "def gen_exp(n):\n",
    "    def exp(x):\n",
    "        return x**n\n",
    "    return exp\n",
    "\n",
    "exp_5 = gen_exp(5)\n",
    "print(\"Type of exp_5:\", type(exp_5))  # Output: <class 'function'>\n",
    "print(\"5^3 =\", exp_5(3))  # Output: 5^3 = 243"
   ]
  },
  {
   "cell_type": "code",
   "execution_count": null,
   "id": "76a51fb5",
   "metadata": {},
   "outputs": [],
   "source": []
  }
 ],
 "metadata": {
  "kernelspec": {
   "display_name": "Python 3",
   "language": "python",
   "name": "python3"
  },
  "language_info": {
   "codemirror_mode": {
    "name": "ipython",
    "version": 3
   },
   "file_extension": ".py",
   "mimetype": "text/x-python",
   "name": "python",
   "nbconvert_exporter": "python",
   "pygments_lexer": "ipython3",
   "version": "3.10.9"
  }
 },
 "nbformat": 4,
 "nbformat_minor": 5
}
