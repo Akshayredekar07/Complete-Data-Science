{
 "cells": [
  {
   "cell_type": "markdown",
   "metadata": {},
   "source": [
    "**_Matplotlib/Seaborn/Plotly --->Data Visualization Libraries_**\n",
    " \n",
    "**_Advantages_**\n",
    "- We can compare very easily. \n",
    "-  We can identify relationships very easily. \n",
    "-  We can identify symmetry and patterns between data.\n",
    "-  We can analyze very easily. etc\n"
   ]
  },
  {
   "cell_type": "code",
   "execution_count": 1,
   "metadata": {},
   "outputs": [
    {
     "name": "stdout",
     "output_type": "stream",
     "text": [
      "3.9.2\n"
     ]
    }
   ],
   "source": [
    "import matplotlib\n",
    "print(matplotlib.__version__)"
   ]
  },
  {
   "cell_type": "code",
   "execution_count": 2,
   "metadata": {},
   "outputs": [
    {
     "name": "stdout",
     "output_type": "stream",
     "text": [
      "Package                 Version\n",
      "----------------------- -----------\n",
      "absl-py                 2.1.0\n",
      "asttokens               2.4.1\n",
      "astunparse              1.6.3\n",
      "certifi                 2024.8.30\n",
      "charset-normalizer      3.3.2\n",
      "colorama                0.4.6\n",
      "comm                    0.2.2\n",
      "contourpy               1.3.0\n",
      "cycler                  0.12.1\n",
      "debugpy                 1.8.6\n",
      "decorator               5.1.1\n",
      "executing               2.1.0\n",
      "flatbuffers             24.3.25\n",
      "fonttools               4.54.1\n",
      "gast                    0.6.0\n",
      "google-pasta            0.2.0\n",
      "grpcio                  1.66.2\n",
      "h5py                    3.12.1\n",
      "idna                    3.10\n",
      "ipykernel               6.29.5\n",
      "ipython                 8.28.0\n",
      "jedi                    0.19.1\n",
      "jupyter_client          8.6.3\n",
      "jupyter_core            5.7.2\n",
      "keras                   3.6.0\n",
      "kiwisolver              1.4.7\n",
      "libclang                18.1.1\n",
      "Markdown                3.7\n",
      "markdown-it-py          3.0.0\n",
      "MarkupSafe              2.1.5\n",
      "matplotlib              3.9.2\n",
      "matplotlib-inline       0.1.7\n",
      "mdurl                   0.1.2\n",
      "ml-dtypes               0.4.1\n",
      "namex                   0.0.8\n",
      "nest-asyncio            1.6.0\n",
      "numpy                   1.26.4\n",
      "opt_einsum              3.4.0\n",
      "optree                  0.13.0\n",
      "packaging               24.1\n",
      "pandas                  2.2.3\n",
      "parso                   0.8.4\n",
      "pillow                  10.4.0\n",
      "pip                     24.2\n",
      "platformdirs            4.3.6\n",
      "prompt_toolkit          3.0.48\n",
      "protobuf                4.25.5\n",
      "psutil                  6.0.0\n",
      "pure_eval               0.2.3\n",
      "Pygments                2.18.0\n",
      "pyparsing               3.1.4\n",
      "python-dateutil         2.9.0.post0\n",
      "pytz                    2024.2\n",
      "pywin32                 306\n",
      "pyzmq                   26.2.0\n",
      "requests                2.32.3\n",
      "rich                    13.9.2\n",
      "setuptools              75.1.0\n",
      "six                     1.16.0\n",
      "stack-data              0.6.3\n",
      "tensorboard             2.17.1\n",
      "tensorboard-data-server 0.7.2\n",
      "tensorflow              2.17.0\n",
      "tensorflow-intel        2.17.0\n",
      "termcolor               2.4.0\n",
      "tornado                 6.4.1\n",
      "traitlets               5.14.3\n",
      "typing_extensions       4.12.2\n",
      "tzdata                  2024.2\n",
      "urllib3                 2.2.3\n",
      "wcwidth                 0.2.13\n",
      "Werkzeug                3.0.4\n",
      "wheel                   0.44.0\n",
      "wrapt                   1.16.0\n"
     ]
    }
   ],
   "source": []
  },
  {
   "cell_type": "code",
   "execution_count": null,
   "metadata": {},
   "outputs": [],
   "source": []
  }
 ],
 "metadata": {
  "kernelspec": {
   "display_name": "Python 3",
   "language": "python",
   "name": "python3"
  },
  "language_info": {
   "codemirror_mode": {
    "name": "ipython",
    "version": 3
   },
   "file_extension": ".py",
   "mimetype": "text/x-python",
   "name": "python",
   "nbconvert_exporter": "python",
   "pygments_lexer": "ipython3",
   "version": "3.12.7"
  }
 },
 "nbformat": 4,
 "nbformat_minor": 2
}
