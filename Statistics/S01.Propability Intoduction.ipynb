{
 "cells": [
  {
   "cell_type": "code",
   "execution_count": 3,
   "metadata": {},
   "outputs": [],
   "source": [
    "import numpy as np\n",
    "import matplotlib.pyplot as plt\n",
    "from matplotlib.animation import ArtistAnimation\n",
    "\n",
    "class CoinTossSequence:\n",
    "    def __init__(self, p_h=0.5, num_tosses=100):\n",
    "        self.p_h = p_h  # Probability of heads\n",
    "        self.num_tosses = num_tosses\n",
    "\n",
    "    def toss_coin(self):\n",
    "        all_tosses = []  # Store all tosses\n",
    "        cumulative = [0]  # Store cumulative sums\n",
    "\n",
    "        for toss_id in range(self.num_tosses):\n",
    "            toss_value = np.random.choice(a=[0, 1], p=[1 - self.p_h, self.p_h])\n",
    "            all_tosses.append(toss_value)\n",
    "            cumulative.append(cumulative[toss_id] + toss_value)\n",
    "\n",
    "        cumulative = cumulative[1:]  # Remove the initial 0\n",
    "        return np.array(all_tosses), np.array(cumulative)\n",
    "\n",
    "    def animate_coin_toss_sequence(self):\n",
    "        # This method is currently empty and needs to be implemented\n",
    "        pass\n",
    "\n",
    "if __name__ == \"__main__\":\n",
    "    coin = CoinTossSequence()\n",
    "    coin.toss_coin()\n",
    "    # You can call the toss_coin method here to simulate tosses and\n",
    "    # potentially use the animate_coin_toss_sequence method for visualization."
   ]
  },
  {
   "cell_type": "code",
   "execution_count": 5,
   "metadata": {},
   "outputs": [
    {
     "name": "stdout",
     "output_type": "stream",
     "text": [
      "All tosses: [0 1 0 1 1 0 0 0 1 0 1 0 0 1 1 0 1 0 0 1 1 1 1 1 1 1 0 0 0 0 0 1 1 1 0 0 1\n",
      " 0 1 0 0 1 0 1 0 0 0 0 0 0 0 1 1 0 0 0 1 1 0 1 0 0 0 0 1 1 1 0 0 1 0 0 1 1\n",
      " 1 0 0 1 1 0 1 0 1 1 1 1 0 0 1 1 1 1 1 0 1 1 0 1 1 1]\n",
      "Cumulative sum: [ 0  1  1  2  3  3  3  3  4  4  5  5  5  6  7  7  8  8  8  9 10 11 12 13\n",
      " 14 15 15 15 15 15 15 16 17 18 18 18 19 19 20 20 20 21 21 22 22 22 22 22\n",
      " 22 22 22 23 24 24 24 24 25 26 26 27 27 27 27 27 28 29 30 30 30 31 31 31\n",
      " 32 33 34 34 34 35 36 36 37 37 38 39 40 41 41 41 42 43 44 45 46 46 47 48\n",
      " 48 49 50 51]\n"
     ]
    }
   ],
   "source": [
    "import numpy as np\n",
    "import matplotlib.pyplot as plt\n",
    "from matplotlib.animation import ArtistAnimation\n",
    "\n",
    "class CoinTossSequence:\n",
    "    def __init__(self, p_h=0.5, num_tosses=100):\n",
    "        self.p_h = p_h  # Probability of heads\n",
    "        self.num_tosses = num_tosses\n",
    "\n",
    "    def toss_coin(self):\n",
    "        all_tosses = []  # Store all tosses\n",
    "        cumulative = [0]  # Store cumulative sums\n",
    "\n",
    "        for toss_id in range(self.num_tosses):\n",
    "            toss_value = np.random.choice(a=[0, 1], p=[1 - self.p_h, self.p_h])\n",
    "            all_tosses.append(toss_value)\n",
    "            cumulative.append(cumulative[toss_id] + toss_value)\n",
    "\n",
    "        cumulative = cumulative[1:]  # Remove the initial 0\n",
    "        return np.array(all_tosses), np.array(cumulative)\n",
    "\n",
    "    def animate_coin_toss_sequence(self):\n",
    "        artists = []  # Store animation frames\n",
    "\n",
    "        # Create a figure and axis for the plot\n",
    "        fig, ax = plt.subplots()\n",
    "        ax.set_ylim(0, 1)  # Set y-axis limits to 0 and 1\n",
    "\n",
    "        # Simulate coin tosses and get results\n",
    "        all_tosses, cumulative = self.toss_coin()\n",
    "\n",
    "        # Create an animation frame for each cumulative sum\n",
    "        for i, _ in enumerate(cumulative):\n",
    "            c = cumulative[0:i+1]  # Cumulative sum up to the current toss\n",
    "            line, = plt.plot(c, c=\"c\")  # Plot the cumulative sum line\n",
    "            hline = ax.axhline(y=self.p_h, c=\"y\", ls=\"--\")  # Plot a horizontal line at the probability of heads\n",
    "            artists.append([line, hline])  # Add the frame to the list\n",
    "\n",
    "        # Create an ArtistAnimation object\n",
    "        anim = ArtistAnimation(fig, artists)\n",
    "\n",
    "        # Save the animation as a GIF file\n",
    "        anim.save(\"coin.gif\", fps=10)\n",
    "\n",
    "\n",
    "if __name__ == \"__main__\":\n",
    "    coin = CoinTossSequence()\n",
    "    all_tosses, cumulative = coin.toss_coin()\n",
    "    print(\"All tosses:\", all_tosses)\n",
    "    print(\"Cumulative sum:\", cumulative)\n"
   ]
  },
  {
   "cell_type": "code",
   "execution_count": 6,
   "metadata": {},
   "outputs": [
    {
     "data": {
      "image/png": "[encoded data removed]",
      "text/plain": [
       "<Figure size 640x480 with 1 Axes>"
      ]
     },
     "metadata": {},
     "output_type": "display_data"
    },
    {
     "name": "stderr",
     "output_type": "stream",
     "text": [
      "c:\\Users\\Admin\\AppData\\Local\\Programs\\Python\\Python312\\Lib\\site-packages\\matplotlib\\animation.py:872: UserWarning: Animation was deleted without rendering anything. This is most likely not intended. To prevent deletion, assign the Animation to a variable, e.g. `anim`, that exists until you output the Animation using `plt.show()` or `anim.save()`.\n",
      "  warnings.warn(\n"
     ]
    }
   ],
   "source": [
    "import numpy as np\n",
    "import matplotlib.pyplot as plt\n",
    "from matplotlib.animation import ArtistAnimation\n",
    "\n",
    "class CoinTossSequence:\n",
    "    def __init__(self, p_h=0.5, num_tosses=100):\n",
    "        self.p_h = p_h  # Probability of heads\n",
    "        self.num_tosses = num_tosses\n",
    "\n",
    "    def toss_coin(self):\n",
    "        all_tosses = []  # Store all tosses\n",
    "        cumulative = [0]  # Store cumulative sums\n",
    "\n",
    "        for toss_id in range(self.num_tosses):\n",
    "            toss_value = np.random.choice(a=[0, 1], p=[1 - self.p_h, self.p_h])\n",
    "            all_tosses.append(toss_value)\n",
    "            cumulative.append(cumulative[toss_id] + toss_value)\n",
    "\n",
    "        cumulative = cumulative[1:]  # Remove the initial 0\n",
    "        return np.array(all_tosses), np.array(cumulative)\n",
    "\n",
    "    def animate_coin_toss_sequence(self):\n",
    "        artists = []  # Store animation frames\n",
    "\n",
    "        # Create a figure and axis for the plot\n",
    "        fig, ax = plt.subplots()\n",
    "        ax.set_ylim(0, 1)  # Set y-axis limits to 0 and 1\n",
    "\n",
    "        # Simulate coin tosses and get results\n",
    "        all_tosses, cumulative = self.toss_coin()\n",
    "\n",
    "        # Create an animation frame for each cumulative sum\n",
    "        for i, _ in enumerate(cumulative):\n",
    "            c = cumulative[0:i+1]  # Cumulative sum up to the current toss\n",
    "            line, = plt.plot(c, c=\"c\")  # Plot the cumulative sum line\n",
    "            hline = ax.axhline(y=self.p_h, c=\"y\", ls=\"--\")  # Plot a horizontal line at the probability of heads\n",
    "            artists.append([line, hline])  # Add the frame to the list\n",
    "\n",
    "        # Create an ArtistAnimation object\n",
    "        anim = ArtistAnimation(fig, artists)\n",
    "\n",
    "        # Display the animation\n",
    "        plt.show()\n",
    "\n",
    "\n",
    "if __name__ == \"__main__\":\n",
    "    coin = CoinTossSequence()\n",
    "    coin.animate_coin_toss_sequence()\n"
   ]
  },
  {
   "cell_type": "code",
   "execution_count": null,
   "metadata": {},
   "outputs": [],
   "source": []
  }
 ],
 "metadata": {
  "kernelspec": {
   "display_name": "Python 3",
   "language": "python",
   "name": "python3"
  },
  "language_info": {
   "codemirror_mode": {
    "name": "ipython",
    "version": 3
   },
   "file_extension": ".py",
   "mimetype": "text/x-python",
   "name": "python",
   "nbconvert_exporter": "python",
   "pygments_lexer": "ipython3",
   "version": "3.12.7"
  }
 },
 "nbformat": 4,
 "nbformat_minor": 2
}
