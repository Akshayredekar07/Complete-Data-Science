{
 "cells": [
  {
   "cell_type": "code",
   "execution_count": 2,
   "metadata": {},
   "outputs": [],
   "source": [
    "# ! pip install streamlit wikipedia-api requests beautifulsoup4\n"
   ]
  },
  {
   "cell_type": "code",
   "execution_count": 3,
   "metadata": {},
   "outputs": [
    {
     "name": "stderr",
     "output_type": "stream",
     "text": [
      "2024-10-21 09:23:07.205 WARNING streamlit.runtime.scriptrunner_utils.script_run_context: Thread 'MainThread': missing ScriptRunContext! This warning can be ignored when running in bare mode.\n",
      "2024-10-21 09:23:07.596 \n",
      "  \u001b[33m\u001b[1mWarning:\u001b[0m to view this Streamlit app on a browser, run it with the following\n",
      "  command:\n",
      "\n",
      "    streamlit run C:\\Users\\Admin\\AppData\\Roaming\\Python\\Python312\\site-packages\\ipykernel_launcher.py [ARGUMENTS]\n",
      "2024-10-21 09:23:07.596 Thread 'MainThread': missing ScriptRunContext! This warning can be ignored when running in bare mode.\n",
      "2024-10-21 09:23:07.599 Thread 'MainThread': missing ScriptRunContext! This warning can be ignored when running in bare mode.\n",
      "2024-10-21 09:23:07.599 Thread 'MainThread': missing ScriptRunContext! This warning can be ignored when running in bare mode.\n",
      "2024-10-21 09:23:07.601 Thread 'MainThread': missing ScriptRunContext! This warning can be ignored when running in bare mode.\n",
      "2024-10-21 09:23:07.601 Thread 'MainThread': missing ScriptRunContext! This warning can be ignored when running in bare mode.\n",
      "2024-10-21 09:23:07.601 Session state does not function when running a script without `streamlit run`\n",
      "2024-10-21 09:23:07.601 Thread 'MainThread': missing ScriptRunContext! This warning can be ignored when running in bare mode.\n",
      "2024-10-21 09:23:07.601 Thread 'MainThread': missing ScriptRunContext! This warning can be ignored when running in bare mode.\n",
      "2024-10-21 09:23:07.606 Thread 'MainThread': missing ScriptRunContext! This warning can be ignored when running in bare mode.\n",
      "2024-10-21 09:23:07.607 Thread 'MainThread': missing ScriptRunContext! This warning can be ignored when running in bare mode.\n",
      "2024-10-21 09:23:07.609 Thread 'MainThread': missing ScriptRunContext! This warning can be ignored when running in bare mode.\n",
      "2024-10-21 09:23:07.609 Thread 'MainThread': missing ScriptRunContext! This warning can be ignored when running in bare mode.\n",
      "2024-10-21 09:23:07.611 Thread 'MainThread': missing ScriptRunContext! This warning can be ignored when running in bare mode.\n",
      "2024-10-21 09:23:07.611 Thread 'MainThread': missing ScriptRunContext! This warning can be ignored when running in bare mode.\n",
      "2024-10-21 09:23:07.611 Thread 'MainThread': missing ScriptRunContext! This warning can be ignored when running in bare mode.\n",
      "2024-10-21 09:23:07.611 Thread 'MainThread': missing ScriptRunContext! This warning can be ignored when running in bare mode.\n",
      "2024-10-21 09:23:07.611 Thread 'MainThread': missing ScriptRunContext! This warning can be ignored when running in bare mode.\n",
      "2024-10-21 09:23:07.611 Thread 'MainThread': missing ScriptRunContext! This warning can be ignored when running in bare mode.\n",
      "2024-10-21 09:23:07.614 Thread 'MainThread': missing ScriptRunContext! This warning can be ignored when running in bare mode.\n"
     ]
    }
   ],
   "source": [
    "import streamlit as st\n",
    "import wikipediaapi\n",
    "import requests\n",
    "from bs4 import BeautifulSoup\n",
    "\n",
    "# Function to fetch Wikipedia content using wikipedia-api\n",
    "def fetch_wikipedia_content(link):\n",
    "    wiki_wiki = wikipediaapi.Wikipedia('en')\n",
    "    \n",
    "    # Extract page title from the URL\n",
    "    title = link.split('/')[-1]\n",
    "    \n",
    "    # Fetch the page object\n",
    "    page = wiki_wiki.page(title)\n",
    "    \n",
    "    if page.exists():\n",
    "        st.write(f\"### Title: {page.title}\")\n",
    "        st.write(f\"#### Summary:\")\n",
    "        st.write(page.summary)\n",
    "        st.write(f\"#### Full Content (First 2000 characters):\")\n",
    "        st.write(page.text[:2000])  # Limiting to 2000 chars for brevity\n",
    "    else:\n",
    "        st.error(\"Page does not exist! Please check the link.\")\n",
    "\n",
    "# Function to fetch raw HTML content using requests and BeautifulSoup\n",
    "def fetch_raw_html(link):\n",
    "    response = requests.get(link)\n",
    "    if response.status_code == 200:\n",
    "        soup = BeautifulSoup(response.content, 'html.parser')\n",
    "        paragraphs = soup.find_all('p')\n",
    "        text = \"\\n\".join([para.get_text() for para in paragraphs])\n",
    "        return text[:2000]  # Limiting to 2000 chars for brevity\n",
    "    else:\n",
    "        return \"Failed to retrieve content\"\n",
    "\n",
    "\n",
    "# Streamlit app layout\n",
    "st.title(\"Wikipedia Scraper Tool\")\n",
    "\n",
    "# Input for the Wikipedia link\n",
    "link = st.text_input(\"Enter Wikipedia URL:\", \"\")\n",
    "\n",
    "# Option for scraping method\n",
    "scrape_method = st.selectbox(\"Choose scraping method:\", [\"Wikipedia API\", \"Raw HTML Scraping\"])\n",
    "\n",
    "# Button to trigger the scraping process\n",
    "if st.button(\"Scrape Content\"):\n",
    "    if link:\n",
    "        if scrape_method == \"Wikipedia API\":\n",
    "            fetch_wikipedia_content(link)\n",
    "        elif scrape_method == \"Raw HTML Scraping\":\n",
    "            raw_text = fetch_raw_html(link)\n",
    "            st.write(f\"### Scraped Content (First 2000 characters):\\n{raw_text}\")\n",
    "    else:\n",
    "        st.error(\"Please enter a valid Wikipedia URL.\")\n"
   ]
  },
  {
   "cell_type": "code",
   "execution_count": null,
   "metadata": {},
   "outputs": [],
   "source": []
  }
 ],
 "metadata": {
  "kernelspec": {
   "display_name": "Python 3",
   "language": "python",
   "name": "python3"
  },
  "language_info": {
   "codemirror_mode": {
    "name": "ipython",
    "version": 3
   },
   "file_extension": ".py",
   "mimetype": "text/x-python",
   "name": "python",
   "nbconvert_exporter": "python",
   "pygments_lexer": "ipython3",
   "version": "3.12.7"
  }
 },
 "nbformat": 4,
 "nbformat_minor": 2
}
