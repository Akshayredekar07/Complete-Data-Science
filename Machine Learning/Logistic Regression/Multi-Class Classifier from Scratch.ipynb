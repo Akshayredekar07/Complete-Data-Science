{
 "cells": [
  {
   "cell_type": "code",
   "execution_count": 2,
   "metadata": {},
   "outputs": [],
   "source": [
    "import numpy as np\n",
    "from sklearn.datasets import load_iris\n",
    "from sklearn.model_selection import train_test_split\n",
    "from sklearn.metrics import accuracy_score"
   ]
  },
  {
   "cell_type": "code",
   "execution_count": 3,
   "metadata": {},
   "outputs": [],
   "source": [
    "class Classifier(object):\n",
    "    def __init__(self):\n",
    "        self.w=None\n",
    "        self.b=None\n",
    "\n",
    "    def sgmoid(self, x):\n",
    "        return 1/(1+np.exp(-x))\n",
    "\n",
    "    def fit(self, x, y, epochs=300, eta=0.01):\n",
    "        self.w=np.zeros(shape=(x.shape[1], 1))\n",
    "        self.b=0\n",
    "        for _ in range(epochs):\n",
    "            for idx, ip in enumerate(x):\n",
    "                ip.ip.reshape(-1, 1)\n",
    "                target=y[idx]\n",
    "                pred=self.w.T@ip+self.b \n",
    "                pred=pred.reshape(-1)\n",
    "                pred=pred[0]\n",
    "                pred=1 if self.sigmod(pred)>0.5 else -1\n",
    "                gradient=pred-target\n",
    "                self.w-=eta*gradient*ip                \n",
    "                self.b-=eta*gradient\n",
    "\n",
    "\n",
    "    def predict(self, x):\n",
    "        pred_list=[]\n",
    "        for ip in x:\n",
    "            ip=ip.reshape(-1, 1)\n",
    "            pred=self.w.T@ip+self.b \n",
    "            pred=pred.reshape(-1)\n",
    "            pred=pred[0]\n",
    "            pred=pred_list.append(pred)\n",
    "\n",
    "        return pred_list"
   ]
  },
  {
   "cell_type": "code",
   "execution_count": 4,
   "metadata": {},
   "outputs": [],
   "source": [
    "iris_df=load_iris()\n",
    "X=iris_df[\"data\"]\n",
    "y=iris_df[\"target\"]"
   ]
  },
  {
   "cell_type": "code",
   "execution_count": 5,
   "metadata": {},
   "outputs": [],
   "source": [
    "X = (X-X.mean(axis=0)/X.std(axis=0))"
   ]
  },
  {
   "cell_type": "code",
   "execution_count": 8,
   "metadata": {},
   "outputs": [],
   "source": [
    "X_train, X_test, y_train, y_test=train_test_split(X,y, test_size=0.2)"
   ]
  },
  {
   "cell_type": "code",
   "execution_count": 9,
   "metadata": {},
   "outputs": [],
   "source": [
    "    # class encoding\n",
    "    # 0 - setosa\n",
    "    # 1 - versicolor\n",
    "    # 2 - virginica\n",
    "    # first recongnise setosa vs non setosa\n",
    "    # second recognise versicolor vs non versicolor\n",
    "    # third recognise virginica vs non verginica\n",
    "    # clf_1 -> recognise only setosa and non setosa\n"
   ]
  },
  {
   "cell_type": "code",
   "execution_count": null,
   "metadata": {},
   "outputs": [],
   "source": [
    "clf_1 = Classifier()"
   ]
  },
  {
   "cell_type": "code",
   "execution_count": 10,
   "metadata": {},
   "outputs": [
    {
     "name": "stdout",
     "output_type": "stream",
     "text": [
      "Final Accuracy:  0.7666666666666667\n"
     ]
    }
   ],
   "source": [
    "from sklearn.datasets import load_iris\n",
    "from sklearn.model_selection import train_test_split\n",
    "from sklearn.metrics import accuracy_score\n",
    "import numpy as np\n",
    "\n",
    "np.random.seed(42)  # Set seed for reproducibility\n",
    "\n",
    "\n",
    "class BinaryClassifier:\n",
    "    \"\"\"\n",
    "    A simple binary classifier using gradient descent for weight and bias updates.\n",
    "    \"\"\"\n",
    "    def __init__(self):\n",
    "        self.weights = None  # Model weights\n",
    "        self.bias = None  # Model bias\n",
    "\n",
    "    def fit(self, X, y, epochs=300, learning_rate=0.01):\n",
    "        \"\"\"\n",
    "        Train the binary classifier using gradient descent.\n",
    "        \"\"\"\n",
    "        # Initialize weights and bias\n",
    "        self.weights = np.zeros(shape=(X.shape[1], 1))\n",
    "        self.bias = 0\n",
    "\n",
    "        for _ in range(epochs):  # Loop over the number of epochs\n",
    "            for idx, sample in enumerate(X):\n",
    "                sample = sample.reshape(-1, 1)\n",
    "                target = y[idx]\n",
    "\n",
    "                # Linear model output\n",
    "                raw_prediction = (self.weights.T @ sample + self.bias).item()\n",
    "                predicted_class = 1 if self.sigmoid(raw_prediction) > 0.5 else -1\n",
    "\n",
    "                # Calculate gradient\n",
    "                error = predicted_class - target\n",
    "                self.weights -= learning_rate * error * sample\n",
    "                self.bias -= learning_rate * error\n",
    "\n",
    "    def sigmoid(self, x):\n",
    "        \"\"\"\n",
    "        Sigmoid activation function.\n",
    "        \"\"\"\n",
    "        return 1 / (1 + np.exp(-x))\n",
    "\n",
    "    def predict(self, X):\n",
    "        \"\"\"\n",
    "        Predict the class labels for input data X.\n",
    "        \"\"\"\n",
    "        predictions = []\n",
    "        for sample in X:\n",
    "            sample = sample.reshape(-1, 1)\n",
    "            raw_prediction = (self.weights.T @ sample + self.bias).item()\n",
    "            predicted_class = 1 if raw_prediction > 0 else -1\n",
    "            predictions.append(predicted_class)\n",
    "        return predictions\n",
    "\n",
    "\n",
    "def main():\n",
    "    # Load the Iris dataset\n",
    "    iris_data = load_iris()\n",
    "    features = iris_data[\"data\"]\n",
    "    labels = iris_data[\"target\"]\n",
    "\n",
    "    # Standardize the feature data\n",
    "    features = (features - features.mean(axis=0)) / features.std(axis=0)\n",
    "\n",
    "    # Split into training and testing sets\n",
    "    X_train, X_test, y_train, y_test = train_test_split(features, labels, test_size=0.2, random_state=42)\n",
    "\n",
    "    # Train classifiers for each class (one-vs-all approach)\n",
    "    classifiers = []\n",
    "    for class_label in range(3):\n",
    "        binary_labels = np.where(y_train == class_label, 1, -1)  # Encode labels for the current class\n",
    "        classifier = BinaryClassifier()\n",
    "        classifier.fit(X_train, binary_labels, epochs=300, learning_rate=0.01)\n",
    "        classifiers.append(classifier)\n",
    "\n",
    "    # Predict for each classifier and evaluate\n",
    "    final_predictions = []\n",
    "    for idx, sample in enumerate(X_test):\n",
    "        binary_results = [clf.predict([sample])[0] for clf in classifiers]\n",
    "        # Map binary results to class labels\n",
    "        if binary_results == [1, -1, -1]:\n",
    "            final_predictions.append(0)\n",
    "        elif binary_results == [-1, 1, -1]:\n",
    "            final_predictions.append(1)\n",
    "        elif binary_results == [-1, -1, 1]:\n",
    "            final_predictions.append(2)\n",
    "        else:\n",
    "            # Handle undefined cases randomly\n",
    "            final_predictions.append(np.random.choice([0, 1, 2]))\n",
    "\n",
    "    # Calculate the accuracy of the final predictions\n",
    "    print(\"Final Accuracy: \", accuracy_score(y_test, final_predictions))\n",
    "\n",
    "\n",
    "if __name__ == \"__main__\":\n",
    "    main()\n"
   ]
  },
  {
   "cell_type": "code",
   "execution_count": 11,
   "metadata": {},
   "outputs": [
    {
     "name": "stdout",
     "output_type": "stream",
     "text": [
      "Original Shape: (3,)\n"
     ]
    }
   ],
   "source": [
    "import numpy as np\n",
    "\n",
    "sample = np.array([2, 3, 4])  # A 1D array\n",
    "print(\"Original Shape:\", sample.shape)\n",
    "# Output: (3,) -> 1D array with 3 elements\n"
   ]
  },
  {
   "cell_type": "code",
   "execution_count": 12,
   "metadata": {},
   "outputs": [
    {
     "name": "stdout",
     "output_type": "stream",
     "text": [
      "[[2]\n",
      " [3]\n",
      " [4]]\n",
      "Reshaped Shape: (3, 1)\n"
     ]
    }
   ],
   "source": [
    "reshaped_sample = sample.reshape(-1, 1)\n",
    "print(reshaped_sample)\n",
    "print(\"Reshaped Shape:\", reshaped_sample.shape)\n"
   ]
  },
  {
   "cell_type": "code",
   "execution_count": 13,
   "metadata": {},
   "outputs": [
    {
     "name": "stdout",
     "output_type": "stream",
     "text": [
      "Row Vector:\n",
      "[[ 1  2  3  4  5  6  7  8  9 10]]\n",
      "Shape: (1, 10)\n"
     ]
    }
   ],
   "source": [
    "import numpy as np\n",
    "\n",
    "# Create a row vector with 1 row and 10 columns\n",
    "row_vector = np.array([np.arange(1, 11)])  # Numbers from 1 to 10\n",
    "print(\"Row Vector:\")\n",
    "print(row_vector)\n",
    "print(\"Shape:\", row_vector.shape)"
   ]
  },
  {
   "cell_type": "code",
   "execution_count": 14,
   "metadata": {},
   "outputs": [
    {
     "name": "stdout",
     "output_type": "stream",
     "text": [
      "\n",
      "Column Vector:\n",
      "[[ 1]\n",
      " [ 2]\n",
      " [ 3]\n",
      " [ 4]\n",
      " [ 5]\n",
      " [ 6]\n",
      " [ 7]\n",
      " [ 8]\n",
      " [ 9]\n",
      " [10]]\n",
      "Shape: (10, 1)\n"
     ]
    }
   ],
   "source": [
    "# Create a column vector with 10 rows and 1 column\n",
    "column_vector = np.array(np.arange(1, 11)).reshape(-1, 1)  # Numbers from 1 to 10\n",
    "print(\"\\nColumn Vector:\")\n",
    "print(column_vector)\n",
    "print(\"Shape:\", column_vector.shape)\n"
   ]
  },
  {
   "cell_type": "code",
   "execution_count": 15,
   "metadata": {},
   "outputs": [
    {
     "name": "stdout",
     "output_type": "stream",
     "text": [
      "\n",
      "Large Row Vector Shape: (1, 1000)\n",
      "Large Column Vector Shape: (1000, 1)\n"
     ]
    }
   ],
   "source": [
    "# Large Row Vector\n",
    "large_row_vector = np.array([np.arange(1, 1001)])\n",
    "print(\"\\nLarge Row Vector Shape:\", large_row_vector.shape)\n",
    "\n",
    "# Large Column Vector\n",
    "large_column_vector = np.array(np.arange(1, 1001)).reshape(-1, 1)\n",
    "print(\"Large Column Vector Shape:\", large_column_vector.shape)\n"
   ]
  },
  {
   "cell_type": "code",
   "execution_count": 16,
   "metadata": {},
   "outputs": [
    {
     "name": "stdout",
     "output_type": "stream",
     "text": [
      "Matrix:\n",
      " [[ 2  4  6]\n",
      " [ 1  3  5]\n",
      " [ 7  9 11]]\n",
      "\n",
      "Column Vector:\n",
      " [[1]\n",
      " [2]\n",
      " [3]]\n",
      "\n",
      "Result of Matrix × Column Vector:\n",
      " [[28]\n",
      " [22]\n",
      " [58]]\n"
     ]
    }
   ],
   "source": [
    "import numpy as np\n",
    "\n",
    "# Define a 3x3 matrix\n",
    "matrix = np.array([[2, 4, 6],\n",
    "                   [1, 3, 5],\n",
    "                   [7, 9, 11]])\n",
    "\n",
    "# Define a 3x1 column vector\n",
    "column_vector = np.array([[1],\n",
    "                          [2],\n",
    "                          [3]])\n",
    "\n",
    "# Perform the multiplication\n",
    "result = np.dot(matrix, column_vector)\n",
    "\n",
    "print(\"Matrix:\\n\", matrix)\n",
    "print(\"\\nColumn Vector:\\n\", column_vector)\n",
    "print(\"\\nResult of Matrix × Column Vector:\\n\", result)\n"
   ]
  },
  {
   "cell_type": "code",
   "execution_count": 17,
   "metadata": {},
   "outputs": [
    {
     "name": "stdout",
     "output_type": "stream",
     "text": [
      "\n",
      "Row Vector:\n",
      " [[1 2 3]]\n",
      "\n",
      "Result of Row Vector × Matrix:\n",
      " [[25 37 49]]\n"
     ]
    }
   ],
   "source": [
    "# Define a 1x3 row vector\n",
    "row_vector = np.array([[1, 2, 3]])\n",
    "\n",
    "# Perform the multiplication\n",
    "result = np.dot(row_vector, matrix)\n",
    "\n",
    "print(\"\\nRow Vector:\\n\", row_vector)\n",
    "print(\"\\nResult of Row Vector × Matrix:\\n\", result)\n"
   ]
  },
  {
   "cell_type": "code",
   "execution_count": 18,
   "metadata": {},
   "outputs": [
    {
     "name": "stdout",
     "output_type": "stream",
     "text": [
      "\n",
      "Second Matrix:\n",
      " [[1 0 2]\n",
      " [3 1 4]\n",
      " [5 2 6]]\n",
      "\n",
      "Result of Matrix × Matrix:\n",
      " [[ 44  16  56]\n",
      " [ 35  13  44]\n",
      " [ 89  31 116]]\n"
     ]
    }
   ],
   "source": [
    "# Define another 3x3 matrix\n",
    "matrix_2 = np.array([[1, 0, 2],\n",
    "                     [3, 1, 4],\n",
    "                     [5, 2, 6]])\n",
    "\n",
    "# Perform the multiplication\n",
    "result = np.dot(matrix, matrix_2)\n",
    "\n",
    "print(\"\\nSecond Matrix:\\n\", matrix_2)\n",
    "print(\"\\nResult of Matrix × Matrix:\\n\", result)"
   ]
  },
  {
   "cell_type": "code",
   "execution_count": null,
   "metadata": {},
   "outputs": [],
   "source": []
  }
 ],
 "metadata": {
  "kernelspec": {
   "display_name": "Python 3",
   "language": "python",
   "name": "python3"
  },
  "language_info": {
   "codemirror_mode": {
    "name": "ipython",
    "version": 3
   },
   "file_extension": ".py",
   "mimetype": "text/x-python",
   "name": "python",
   "nbconvert_exporter": "python",
   "pygments_lexer": "ipython3",
   "version": "3.10.9"
  }
 },
 "nbformat": 4,
 "nbformat_minor": 2
}
