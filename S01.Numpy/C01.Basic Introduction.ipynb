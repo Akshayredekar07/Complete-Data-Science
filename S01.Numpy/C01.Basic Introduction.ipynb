{
 "cells": [
  {
   "cell_type": "code",
   "execution_count": 2,
   "metadata": {},
   "outputs": [],
   "source": [
    "import numpy as np"
   ]
  },
  {
   "cell_type": "code",
   "execution_count": 3,
   "metadata": {},
   "outputs": [
    {
     "name": "stdout",
     "output_type": "stream",
     "text": [
      "1.26.4\n"
     ]
    }
   ],
   "source": [
    "print(np.__version__)"
   ]
  },
  {
   "cell_type": "code",
   "execution_count": 4,
   "metadata": {},
   "outputs": [],
   "source": [
    "# 2. Python List can contain heterogeneous elements. But array contains only homogeneous \n",
    "# 3. On list, we cannot perform vector operations.  \n",
    "# But on ndarray we can perform vector operations. \n",
    "l = [10,20,30,40] \n",
    "a = np.array([10,20,30,40]) \n",
    "# l+2 # not possible \n",
    "# TypeError: can only concatenate list (not \"int\") to list"
   ]
  },
  {
   "cell_type": "code",
   "execution_count": 5,
   "metadata": {},
   "outputs": [
    {
     "name": "stdout",
     "output_type": "stream",
     "text": [
      "[12 22 32 42]\n"
     ]
    }
   ],
   "source": [
    "a = np.array([10,20,30,40])\n",
    "a = a+2\n",
    "print(a)"
   ]
  },
  {
   "cell_type": "code",
   "execution_count": 6,
   "metadata": {},
   "outputs": [
    {
     "name": "stdout",
     "output_type": "stream",
     "text": [
      "Size of list l => 216\n",
      "Size of nd-array a => 192\n"
     ]
    }
   ],
   "source": [
    "# 4. Arrays consume less memory than list. \n",
    "import sys\n",
    "# python list \n",
    "l = [10,20,30,40,50,60,70,80,90,100,10,20,30,40,50,60,70,80,90,100] \n",
    "# numpy array\n",
    "a = np.array([10,20,30,40,50,60,70,80,90,100,10,20,30,40,50,60,70,80,90,100]) \n",
    "print(f\"Size of list l => {sys.getsizeof(l)}\")\n",
    "print(f\"Size of nd-array a => {sys.getsizeof(a)}\")"
   ]
  },
  {
   "cell_type": "code",
   "execution_count": 7,
   "metadata": {},
   "outputs": [
    {
     "name": "stdout",
     "output_type": "stream",
     "text": [
      "The Time taken by traditonal python: 0:00:00.116242\n"
     ]
    }
   ],
   "source": [
    "# 5. Arrays are superfast when compared with list. \n",
    "from datetime import datetime \n",
    "a = np.array([10, 20, 30])\n",
    "b = np.array([1,2,3])\n",
    "\n",
    "#dot product: A.B=10X1 + 20X2 +30X3=140 \n",
    "\n",
    "#taditional python code\n",
    "def dot_product(a,b):\n",
    "    result = 0\n",
    "    for i, j in zip(a,b):\n",
    "        result = result + i*j\n",
    "    return result\n",
    "\n",
    "before = datetime.now()\n",
    "for i in range(100000):\n",
    "    dot_product(a,b)\n",
    "after = datetime.now()\n",
    "print('The Time taken by traditonal python:',after-before) \n",
    "\n"
   ]
  },
  {
   "cell_type": "code",
   "execution_count": 8,
   "metadata": {},
   "outputs": [
    {
     "name": "stdout",
     "output_type": "stream",
     "text": [
      "The Time taken by Numpy Library: 0:00:00.087627\n"
     ]
    }
   ],
   "source": [
    "\n",
    "before = datetime.now() \n",
    "for i in range(100000): \n",
    "    np.dot(a,b) # this is from numpy \n",
    "after = datetime.now() \n",
    " \n",
    "print('The Time taken by Numpy Library:',after-before) "
   ]
  },
  {
   "cell_type": "code",
   "execution_count": 9,
   "metadata": {},
   "outputs": [
    {
     "name": "stdout",
     "output_type": "stream",
     "text": [
      "python list took:  78.74250411987305\n",
      "numpy array took:  17.558574676513672\n"
     ]
    }
   ],
   "source": [
    "import sys\n",
    "import time \n",
    "\n",
    "SIZE = 1000000\n",
    "\n",
    "l1 = range(SIZE)\n",
    "l2 = range(SIZE)\n",
    "\n",
    "a1 = np.arange(SIZE)\n",
    "a2 = np.arange(SIZE)\n",
    "\n",
    "# python list \n",
    "start = time.time()\n",
    "result = [(x+y) for x, y in zip(l1, l2)]\n",
    "print(\"python list took: \", (time.time()-start)*1000)\n",
    "\n",
    "# numpy \n",
    "start = time.time()\n",
    "result = a1+a2\n",
    "print(\"numpy array took: \", (time.time()-start)*1000)\n"
   ]
  }
 ],
 "metadata": {
  "kernelspec": {
   "display_name": "Python 3",
   "language": "python",
   "name": "python3"
  },
  "language_info": {
   "codemirror_mode": {
    "name": "ipython",
    "version": 3
   },
   "file_extension": ".py",
   "mimetype": "text/x-python",
   "name": "python",
   "nbconvert_exporter": "python",
   "pygments_lexer": "ipython3",
   "version": "3.12.7"
  }
 },
 "nbformat": 4,
 "nbformat_minor": 2
}
