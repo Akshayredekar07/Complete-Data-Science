{
 "cells": [
  {
   "cell_type": "markdown",
   "metadata": {},
   "source": [
    "### Array (ndarray) creation using array module "
   ]
  },
  {
   "cell_type": "code",
   "execution_count": 3,
   "metadata": {},
   "outputs": [],
   "source": [
    "import numpy as np"
   ]
  },
  {
   "cell_type": "code",
   "execution_count": 4,
   "metadata": {},
   "outputs": [
    {
     "name": "stdout",
     "output_type": "stream",
     "text": [
      "Type of a: <class 'array.array'>\n",
      "a value ==> array('i', [10, 20, 30])\n",
      "Elements one by one\n",
      "10\n",
      "20\n",
      "30\n"
     ]
    }
   ],
   "source": [
    "import array\n",
    "a = array.array('i', [10, 20, 30]) # i represent int type array\n",
    "print(f\"Type of a: {type(a)}\")\n",
    "print(f\"a value ==> {a}\") \n",
    "print(\"Elements one by one\") \n",
    "\n",
    "for i in range(len(a)):\n",
    "    print(a[i])"
   ]
  },
  {
   "cell_type": "markdown",
   "metadata": {},
   "source": [
    "### Array (ndarray) creation using Numpy \n",
    "\n",
    "1. `array() `\n",
    "2. `arange() `\n",
    "3. `linspace() `\n",
    "4. `zeros() `\n",
    "5. `ones() `\n",
    "6. `full() `\n",
    "7. `eye() `\n",
    "8. `identity() `\n",
    "9. `diag() `\n",
    "10. `empty()`\n",
    "11. `np.random` module \n",
    "    , `randint()` \n",
    "    , `rand()` \n",
    "    , `uniform()` \n",
    "    , `randn()` \n",
    "    , `normal()` \n",
    "    , `shuffle()`"
   ]
  },
  {
   "cell_type": "markdown",
   "metadata": {},
   "source": [
    "### Note: \n",
    " \n",
    "- np.random module is developed based on array. \n",
    "- So performance of this module is more when compared with normal python \n",
    "random module\n",
    "\n",
    "![img](./images/ndarraay.png)"
   ]
  },
  {
   "cell_type": "markdown",
   "metadata": {},
   "source": [
    "### 1-D array(Vector) creation using list or tuple "
   ]
  },
  {
   "cell_type": "code",
   "execution_count": 7,
   "metadata": {},
   "outputs": [
    {
     "name": "stdout",
     "output_type": "stream",
     "text": [
      "Type of l ==> <class 'list'>\n",
      "Type of a ==> <class 'numpy.ndarray'>\n",
      "a ==>  [10 20 30]\n"
     ]
    }
   ],
   "source": [
    "# 1-D array creation from list or tuple \n",
    "l = [10,20,30] \n",
    "print(f'Type of l ==> {type(l)}') \n",
    "a = np.array(l) \n",
    "print(f'Type of a ==> {type(a)}') \n",
    "print(f\"a ==>  {a}\") "
   ]
  },
  {
   "cell_type": "markdown",
   "metadata": {},
   "source": [
    "### To know properties of ndarray \n",
    "- `np.ndim` ==> to know the dimension of the ndarray \n",
    "- `np.dtype` ==> to know the data type of the elements in the ndarray \n",
    "- `np.size` ==> to know the total number of elements in the array. \n",
    "- `np.shape` ==> returns the shape of an array in tuple form "
   ]
  },
  {
   "cell_type": "code",
   "execution_count": 9,
   "metadata": {},
   "outputs": [
    {
     "name": "stdout",
     "output_type": "stream",
     "text": [
      "1\n",
      "(3,)\n",
      "3\n",
      "int32\n"
     ]
    }
   ],
   "source": [
    "print(a.ndim)\n",
    "print(a.shape)\n",
    "print(a.size)\n",
    "print(a.dtype)"
   ]
  },
  {
   "cell_type": "code",
   "execution_count": 8,
   "metadata": {},
   "outputs": [
    {
     "name": "stdout",
     "output_type": "stream",
     "text": [
      "Type of t ==> <class 'tuple'>\n",
      "Type of a ==> <class 'numpy.ndarray'>\n",
      "The data type of elements of array a ==> <U7\n",
      "The size of the array a ==> 3\n",
      "The shape of the array a ==> (3,)\n",
      "a ==> ['krishna' 'nandu' 'moneesh']\n"
     ]
    }
   ],
   "source": [
    "# 1-D array creating using tuples \n",
    "t = ('krishna','nandu','moneesh') \n",
    "\n",
    "print(f'Type of t ==> {type(t)}') \n",
    "a = np.array(t) \n",
    "\n",
    "print(f'Type of a ==> {type(a)}') \n",
    "print(f'The data type of elements of array a ==> {a.dtype}') \n",
    "print(f'The size of the array a ==> {a.size}') \n",
    "print(f'The shape of the array a ==> {a.shape}') \n",
    "print(f\"a ==> {a}\")"
   ]
  },
  {
   "cell_type": "markdown",
   "metadata": {},
   "source": [
    "### 2-D array(Matrix) creation using Nested Lists "
   ]
  },
  {
   "cell_type": "code",
   "execution_count": 9,
   "metadata": {},
   "outputs": [
    {
     "name": "stdout",
     "output_type": "stream",
     "text": [
      "Type of a ==> <class 'numpy.ndarray'>\n",
      "\n",
      "[[10 20 30]\n",
      " [40 50 60]\n",
      " [70 80 90]]\n",
      "\n",
      "dimensions of a: 2\n",
      "The data type of elements : int64\n",
      "The size of the array a : 9\n",
      "The shape of the array a : (3, 3)\n"
     ]
    }
   ],
   "source": [
    "# [[10,20,30],[40,50,60],[70,80,90]] --->Nested List \n",
    "a = np.array([[10,20,30],[40,50,60],[70,80,90]]) \n",
    "print(f'Type of a ==> {type(a)}') \n",
    "print(f'\\n{a}\\n') \n",
    "print(f'dimensions of a: {a.ndim}') \n",
    "print(f'The data type of elements : {a.dtype}') \n",
    "print(f'The size of the array a : {a.size}') \n",
    "print(f'The shape of the array a : {a.shape}')\n"
   ]
  },
  {
   "cell_type": "markdown",
   "metadata": {},
   "source": [
    "Array contains only homogenous elements \n",
    "\n",
    "- If list contains heterogenous elements, and while creating the array upcasting \n",
    "will be performed. "
   ]
  },
  {
   "cell_type": "code",
   "execution_count": 11,
   "metadata": {},
   "outputs": [
    {
     "name": "stdout",
     "output_type": "stream",
     "text": [
      "a :: [10.  20.  30.5]\n",
      "data type of elements of a : float64\n"
     ]
    }
   ],
   "source": [
    "# list contains heterogenous elements \n",
    "l = [10,20,30.5] \n",
    "a = np.array(l) # upcasting to float  \n",
    "print(f'a :: {a}') \n",
    "print(f'data type of elements of a : {a.dtype}') "
   ]
  },
  {
   "cell_type": "markdown",
   "metadata": {},
   "source": [
    "Creating arrays with particular datatype \n",
    "- we have to use dtype argument while creating the arrray"
   ]
  },
  {
   "cell_type": "code",
   "execution_count": 12,
   "metadata": {},
   "outputs": [
    {
     "name": "stdout",
     "output_type": "stream",
     "text": [
      "[10 20 30]\n"
     ]
    }
   ],
   "source": [
    "# int type \n",
    "a = np.array([10,20,30.5],dtype=int) \n",
    "print(a) "
   ]
  },
  {
   "cell_type": "code",
   "execution_count": 13,
   "metadata": {},
   "outputs": [
    {
     "name": "stdout",
     "output_type": "stream",
     "text": [
      "[10.  20.  30.5]\n"
     ]
    }
   ],
   "source": [
    "# float type \n",
    "a = np.array([10,20,30.5],dtype=float) \n",
    "print(a)"
   ]
  },
  {
   "cell_type": "code",
   "execution_count": 14,
   "metadata": {},
   "outputs": [
    {
     "name": "stdout",
     "output_type": "stream",
     "text": [
      "[ True  True  True]\n"
     ]
    }
   ],
   "source": [
    "# bool type ==> any number is True and zero is False. Any string is True and empty string is False \n",
    "a = np.array([10,20,30.5],dtype=bool) \n",
    "print(a)"
   ]
  },
  {
   "cell_type": "code",
   "execution_count": 15,
   "metadata": {},
   "outputs": [
    {
     "name": "stdout",
     "output_type": "stream",
     "text": [
      "[10. +0.j 20. +0.j 30.5+0.j  0. +0.j]\n"
     ]
    }
   ],
   "source": [
    "# complex type \n",
    "a = np.array([10,20,30.5,0],dtype=complex) \n",
    "print(a)"
   ]
  },
  {
   "cell_type": "code",
   "execution_count": 16,
   "metadata": {},
   "outputs": [
    {
     "name": "stdout",
     "output_type": "stream",
     "text": [
      "['10' '20' '30.5']\n"
     ]
    }
   ],
   "source": [
    "# str type \n",
    "a = np.array([10,20,30.5],dtype=str) \n",
    "print(a) "
   ]
  },
  {
   "cell_type": "markdown",
   "metadata": {},
   "source": [
    "creating object type array \n",
    "- object is the parent of all int, float, bool, complex and str \n",
    "- Here the elements are looks like heterogeneous. But the datatype of elements is \n",
    "'object' "
   ]
  },
  {
   "cell_type": "code",
   "execution_count": 18,
   "metadata": {},
   "outputs": [
    {
     "name": "stdout",
     "output_type": "stream",
     "text": [
      "[10 'krishna' 10.5 True (10+20j)]\n",
      "Data type of elements of array a ==> object\n"
     ]
    }
   ],
   "source": [
    "a = np.array([10,'krishna',10.5,True,10+20j],dtype=object) \n",
    "print(a) \n",
    " \n",
    "# data type \n",
    "print(f\"Data type of elements of array a ==> {a.dtype}\")"
   ]
  },
  {
   "cell_type": "markdown",
   "metadata": {},
   "source": [
    "`arange()`\n",
    "- • we can create only 1-D arrays with arange() function \n",
    "  \n",
    "- range(n) ==> n values from 0 to n-1 \n",
    "- range(4) ==> 0,1,2,3 \n",
    "  \n",
    "1. range(m,n)==> from m to n-1 \n",
    "- range(2,7)==> 2,3,4,5,6 \n",
    "  \n",
    "1. range(begin,end,step) \n",
    "- range(1,11,1) ==> 1,2,3,4,5,6,7,8,9,10 \n",
    "- range(1,11,2) ==> 1,3,5,7,9 \n",
    "- range(1,11,3) ==> 1,4,7,10"
   ]
  },
  {
   "cell_type": "code",
   "execution_count": 27,
   "metadata": {},
   "outputs": [
    {
     "name": "stdout",
     "output_type": "stream",
     "text": [
      "a ==> [0 1 2 3 4 5 6 7 8 9]\n",
      "The dimensions of the array a ==> 1\n",
      "The data type of elements of array a ==> int32\n",
      "The size of the array a ==> 10\n",
      "The shape of the array a ==> (10,)\n"
     ]
    }
   ],
   "source": [
    "# only stop value ==> 0 to stop-1 \n",
    "import numpy as np \n",
    "a = np.arange(10)    \n",
    "\n",
    "print(f'a ==> {a}') \n",
    "print(f'The dimensions of the array a ==> {a.ndim}') \n",
    "print(f'The data type of elements of array a ==> {a.dtype}') \n",
    "print(f'The size of the array a ==> {a.size}') \n",
    "print(f'The shape of the array a ==> {a.shape}') "
   ]
  },
  {
   "cell_type": "code",
   "execution_count": 19,
   "metadata": {},
   "outputs": [
    {
     "name": "stdout",
     "output_type": "stream",
     "text": [
      "a ==> [ 1  2  3  4  5  6  7  8  9 10]\n",
      "The dimensions of the array a ==> 1\n",
      "The data type of elements of array a ==> int64\n",
      "The size of the array a ==> 10\n",
      "The shape of the array a ==> (10,)\n"
     ]
    }
   ],
   "source": [
    "# both start and stop values: start to stop-1 \n",
    "a = np.arange(1,11)   \n",
    "print(f'a ==> {a}') \n",
    "print(f'The dimensions of the array a ==> {a.ndim}') \n",
    "print(f'The data type of elements of array a ==> {a.dtype}') \n",
    "print(f'The size of the array a ==> {a.size}') \n",
    "print(f'The shape of the array a ==> {a.shape}')\n"
   ]
  },
  {
   "cell_type": "code",
   "execution_count": 20,
   "metadata": {},
   "outputs": [
    {
     "name": "stdout",
     "output_type": "stream",
     "text": [
      "a ==> [1 3 5 7 9]\n",
      "The dimensions of the array a ==> 1\n",
      "The data type of elements of array a ==> int64\n",
      "The size of the array a ==> 5\n",
      "The shape of the array a ==> (5,)\n"
     ]
    }
   ],
   "source": [
    "# start, stop and step values : start to stop-1 with step \n",
    "import numpy as np \n",
    "a = np.arange(1,11,2)  \n",
    "print(f'a ==> {a}') \n",
    "print(f'The dimensions of the array a ==> {a.ndim}') \n",
    "print(f'The data type of elements of array a ==> {a.dtype}') \n",
    "print(f'The size of the array a ==> {a.size}') \n",
    "print(f'The shape of the array a ==> {a.shape}')"
   ]
  },
  {
   "cell_type": "code",
   "execution_count": 21,
   "metadata": {},
   "outputs": [
    {
     "name": "stdout",
     "output_type": "stream",
     "text": [
      "a ==> [ 1.  4.  7. 10.]\n",
      "The dimensions of the array a ==> 1\n",
      "The data type of elements of array a ==> float64\n",
      "The size of the array a ==> 4\n",
      "The shape of the array a ==> (4,)\n"
     ]
    }
   ],
   "source": [
    "# with a particular datatype of the elements \n",
    "import numpy as np \n",
    "a = np.arange(1,11,3,dtype=float) \n",
    "print(f'a ==> {a}') \n",
    "print(f'The dimensions of the array a ==> {a.ndim}') \n",
    "print(f'The data type of elements of array a ==> {a.dtype}') \n",
    "print(f'The size of the array a ==> {a.size}') \n",
    "print(f'The shape of the array a ==> {a.shape}') "
   ]
  },
  {
   "cell_type": "markdown",
   "metadata": {},
   "source": [
    "`linspace()` \n",
    "- same as arange() only but in the specified interval, linearly spaced values \n",
    "```python\n",
    "linspace(start, stop, num=50, endpoint=True, retstep=False, dtype=None, axis=0) \n",
    "    Return evenly spaced numbers over a specified interval. \n",
    "     \n",
    "    Returns `num` evenly spaced samples, calculated over the \n",
    "    interval [`start`, `stop`].\n",
    "```\n",
    "linspace(start, stop, num=50, endpoint=True, retstep=False, dtype=None, axis=0) \n",
    "- Both start and stop are includded because endpoint=True \n",
    "- If endpoint=False then stop is excluded \n",
    "- retstep denotes the spacing between the points.If True then the value is returned \n",
    "- calculation of spacing (stop-start)/(num-1) if endpoint=True \n",
    "- calculation of spacing (stop-start)/(num) if endpoint=False     "
   ]
  },
  {
   "cell_type": "code",
   "execution_count": 22,
   "metadata": {},
   "outputs": [
    {
     "data": {
      "text/plain": [
       "array([0.        , 0.02040816, 0.04081633, 0.06122449, 0.08163265,\n",
       "       0.10204082, 0.12244898, 0.14285714, 0.16326531, 0.18367347,\n",
       "       0.20408163, 0.2244898 , 0.24489796, 0.26530612, 0.28571429,\n",
       "       0.30612245, 0.32653061, 0.34693878, 0.36734694, 0.3877551 ,\n",
       "       0.40816327, 0.42857143, 0.44897959, 0.46938776, 0.48979592,\n",
       "       0.51020408, 0.53061224, 0.55102041, 0.57142857, 0.59183673,\n",
       "       0.6122449 , 0.63265306, 0.65306122, 0.67346939, 0.69387755,\n",
       "       0.71428571, 0.73469388, 0.75510204, 0.7755102 , 0.79591837,\n",
       "       0.81632653, 0.83673469, 0.85714286, 0.87755102, 0.89795918,\n",
       "       0.91836735, 0.93877551, 0.95918367, 0.97959184, 1.        ])"
      ]
     },
     "execution_count": 22,
     "metadata": {},
     "output_type": "execute_result"
    }
   ],
   "source": [
    "# 50 evenly spaced values between 0 and 1 are returned including both 0 and 1 \n",
    "np.linspace(0,1)"
   ]
  },
  {
   "cell_type": "code",
   "execution_count": 23,
   "metadata": {},
   "outputs": [
    {
     "data": {
      "text/plain": [
       "array([0.        , 0.33333333, 0.66666667, 1.        ])"
      ]
     },
     "execution_count": 23,
     "metadata": {},
     "output_type": "execute_result"
    }
   ],
   "source": [
    "# 4 evenly spaced valued between 0 and 1 including 0 and 1 \n",
    "np.linspace(0,1,4) "
   ]
  },
  {
   "cell_type": "code",
   "execution_count": 24,
   "metadata": {},
   "outputs": [
    {
     "data": {
      "text/plain": [
       "array([0.  , 0.25, 0.5 , 0.75])"
      ]
     },
     "execution_count": 24,
     "metadata": {},
     "output_type": "execute_result"
    }
   ],
   "source": [
    "# 4 evenly spaced valued between 0 and 1 including 0 and excluding 1 \n",
    "np.linspace(0,1,4,endpoint=False)"
   ]
  },
  {
   "cell_type": "code",
   "execution_count": 25,
   "metadata": {},
   "outputs": [
    {
     "data": {
      "text/plain": [
       "(array([0.  , 0.25, 0.5 , 0.75]), np.float64(0.25))"
      ]
     },
     "execution_count": 25,
     "metadata": {},
     "output_type": "execute_result"
    }
   ],
   "source": [
    "# 4 evenly spaced valued between 0 and 1 including 0 and excluding 1 and return spacing \n",
    "np.linspace(0,1,4,endpoint=False,retstep=True)"
   ]
  },
  {
   "cell_type": "code",
   "execution_count": 26,
   "metadata": {},
   "outputs": [
    {
     "data": {
      "text/plain": [
       "array([  1.,  12.,  23.,  34.,  45.,  56.,  67.,  78.,  89., 100.])"
      ]
     },
     "execution_count": 26,
     "metadata": {},
     "output_type": "execute_result"
    }
   ],
   "source": [
    "# 10 values between 1 to 100 including 1 and 100 with equally spaced int values \n",
    "np.linspace(1,100, 10)"
   ]
  },
  {
   "cell_type": "markdown",
   "metadata": {},
   "source": [
    "#### `arange()` vs `linspace()` \n",
    "- arange() ==> Elements will be considered in the given range based on step value. \n",
    "- linspace() ==> The specified number of values will be considered in the given \n",
    "range. \n",
    "### `zeros` \n",
    "- array is filled with 0s "
   ]
  },
  {
   "cell_type": "code",
   "execution_count": 27,
   "metadata": {},
   "outputs": [
    {
     "name": "stdout",
     "output_type": "stream",
     "text": [
      "Help on built-in function zeros in module numpy:\n",
      "\n",
      "zeros(...)\n",
      "    zeros(shape, dtype=float, order='C', *, like=None)\n",
      "    \n",
      "    Return a new array of given shape and type, filled with zeros.\n",
      "    \n",
      "    Parameters\n",
      "    ----------\n",
      "    shape : int or tuple of ints\n",
      "        Shape of the new array, e.g., ``(2, 3)`` or ``2``.\n",
      "    dtype : data-type, optional\n",
      "        The desired data-type for the array, e.g., `numpy.int8`.  Default is\n",
      "        `numpy.float64`.\n",
      "    order : {'C', 'F'}, optional, default: 'C'\n",
      "        Whether to store multi-dimensional data in row-major\n",
      "        (C-style) or column-major (Fortran-style) order in\n",
      "        memory.\n",
      "    like : array_like, optional\n",
      "        Reference object to allow the creation of arrays which are not\n",
      "        NumPy arrays. If an array-like passed in as ``like`` supports\n",
      "        the ``__array_function__`` protocol, the result will be defined\n",
      "        by it. In this case, it ensures the creation of an array object\n",
      "        compatible with that passed in via this argument.\n",
      "    \n",
      "        .. versionadded:: 1.20.0\n",
      "    \n",
      "    Returns\n",
      "    -------\n",
      "    out : ndarray\n",
      "        Array of zeros with the given shape, dtype, and order.\n",
      "    \n",
      "    See Also\n",
      "    --------\n",
      "    zeros_like : Return an array of zeros with shape and type of input.\n",
      "    empty : Return a new uninitialized array.\n",
      "    ones : Return a new array setting values to one.\n",
      "    full : Return a new array of given shape filled with value.\n",
      "    \n",
      "    Examples\n",
      "    --------\n",
      "    >>> np.zeros(5)\n",
      "    array([ 0.,  0.,  0.,  0.,  0.])\n",
      "    \n",
      "    >>> np.zeros((5,), dtype=int)\n",
      "    array([0, 0, 0, 0, 0])\n",
      "    \n",
      "    >>> np.zeros((2, 1))\n",
      "    array([[ 0.],\n",
      "           [ 0.]])\n",
      "    \n",
      "    >>> s = (2,2)\n",
      "    >>> np.zeros(s)\n",
      "    array([[ 0.,  0.],\n",
      "           [ 0.,  0.]])\n",
      "    \n",
      "    >>> np.zeros((2,), dtype=[('x', 'i4'), ('y', 'i4')]) # custom dtype\n",
      "    array([(0, 0), (0, 0)],\n",
      "          dtype=[('x', '<i4'), ('y', '<i4')])\n",
      "\n"
     ]
    }
   ],
   "source": [
    "import numpy as np\n",
    "help(np.zeros)"
   ]
  },
  {
   "cell_type": "markdown",
   "metadata": {},
   "source": [
    "### Multidimensional Arrays\n",
    "\n",
    "**0-D Array (Scalar):** A single value.\n",
    "\n",
    "**1-D Array (Vector):** A collection of 0-D arrays.\n",
    "\n",
    "**2-D Array (Matrix):** A collection of 1-D arrays.\n",
    "\n",
    "**3-D Array (Tensor):** A collection of 2-D arrays.\n",
    "\n",
    "**Examples:**\n",
    "\n",
    "* **(10,)**: A 1-D array containing 10 elements.\n",
    "* **(5, 2)**: A 2-D array containing 5 rows and 2 columns.\n",
    "* **(2, 3, 4)**: A 3-D array with:\n",
    "    * 2 2-D arrays\n",
    "    * Each 2-D array has 3 rows\n",
    "    * Each 2-D array has 4 columns\n",
    "    * Total size: 2 * 3 * 4 = 24\n"
   ]
  },
  {
   "cell_type": "markdown",
   "metadata": {},
   "source": []
  },
  {
   "cell_type": "code",
   "execution_count": 28,
   "metadata": {},
   "outputs": [
    {
     "data": {
      "text/plain": [
       "array([0., 0., 0., 0.])"
      ]
     },
     "execution_count": 28,
     "metadata": {},
     "output_type": "execute_result"
    }
   ],
   "source": [
    "# zeros(shape, dtype=float, order='C', *, like=None) ==> shape always in tuple form \n",
    "# 1-D array with zeros \n",
    "np.zeros(4)"
   ]
  },
  {
   "cell_type": "code",
   "execution_count": 29,
   "metadata": {},
   "outputs": [
    {
     "data": {
      "text/plain": [
       "array([[0., 0., 0., 0.],\n",
       "       [0., 0., 0., 0.],\n",
       "       [0., 0., 0., 0.]])"
      ]
     },
     "execution_count": 29,
     "metadata": {},
     "output_type": "execute_result"
    }
   ],
   "source": [
    "# 2-D arrays with zeros\n",
    "np.zeros((3,4))"
   ]
  },
  {
   "cell_type": "code",
   "execution_count": 30,
   "metadata": {},
   "outputs": [
    {
     "data": {
      "text/plain": [
       "array([[[0., 0., 0., 0.],\n",
       "        [0., 0., 0., 0.],\n",
       "        [0., 0., 0., 0.]],\n",
       "\n",
       "       [[0., 0., 0., 0.],\n",
       "        [0., 0., 0., 0.],\n",
       "        [0., 0., 0., 0.]]])"
      ]
     },
     "execution_count": 30,
     "metadata": {},
     "output_type": "execute_result"
    }
   ],
   "source": [
    "# 3-D array \n",
    "np.zeros((2,3,4))"
   ]
  },
  {
   "cell_type": "markdown",
   "metadata": {},
   "source": [
    "### Note: observe the above output.\n",
    "\n",
    "- outermost there are 3 square brackets are present means it is 3-D array \n",
    "- exclude one outermost bracket then it is a 2-D array ==> total 2 2-D arrays present \n",
    "- Each 2-D array contains 1-D arrays. Each 2-D contains 3-rows and 4-columns"
   ]
  },
  {
   "cell_type": "code",
   "execution_count": 31,
   "metadata": {},
   "outputs": [
    {
     "data": {
      "text/plain": [
       "array([[[[0., 0., 0., 0.],\n",
       "         [0., 0., 0., 0.],\n",
       "         [0., 0., 0., 0.]],\n",
       "\n",
       "        [[0., 0., 0., 0.],\n",
       "         [0., 0., 0., 0.],\n",
       "         [0., 0., 0., 0.]]],\n",
       "\n",
       "\n",
       "       [[[0., 0., 0., 0.],\n",
       "         [0., 0., 0., 0.],\n",
       "         [0., 0., 0., 0.]],\n",
       "\n",
       "        [[0., 0., 0., 0.],\n",
       "         [0., 0., 0., 0.],\n",
       "         [0., 0., 0., 0.]]]])"
      ]
     },
     "execution_count": 31,
     "metadata": {},
     "output_type": "execute_result"
    }
   ],
   "source": [
    "# 4-D array ==> collection of 3-D arrays \n",
    "# (2,2,3,4)  \n",
    "# 2 ==> no. of 3-D arrays \n",
    "# 2 ==> every 3-D 2 2-D arrays \n",
    "# 3 ==> Every 2-D array contains 3 rows \n",
    "# 4 ==> every 2-D array contains 4 columns \n",
    "np.zeros((2,2,3,4))"
   ]
  },
  {
   "cell_type": "markdown",
   "metadata": {},
   "source": [
    "### `ones()` \n",
    "- exactly same as zeros except array is filled with 1"
   ]
  },
  {
   "cell_type": "code",
   "execution_count": 32,
   "metadata": {},
   "outputs": [
    {
     "data": {
      "text/plain": [
       "array([1., 1., 1., 1., 1., 1., 1., 1., 1., 1.])"
      ]
     },
     "execution_count": 32,
     "metadata": {},
     "output_type": "execute_result"
    }
   ],
   "source": [
    "#1-D array\n",
    "np.ones(10)"
   ]
  },
  {
   "cell_type": "code",
   "execution_count": 33,
   "metadata": {},
   "outputs": [
    {
     "data": {
      "text/plain": [
       "array([[1, 1],\n",
       "       [1, 1],\n",
       "       [1, 1],\n",
       "       [1, 1],\n",
       "       [1, 1]])"
      ]
     },
     "execution_count": 33,
     "metadata": {},
     "output_type": "execute_result"
    }
   ],
   "source": [
    "# 2D array\n",
    "np.ones((5,2), dtype=int)"
   ]
  },
  {
   "cell_type": "code",
   "execution_count": 34,
   "metadata": {},
   "outputs": [
    {
     "data": {
      "text/plain": [
       "array([[[1, 1, 1, 1],\n",
       "        [1, 1, 1, 1],\n",
       "        [1, 1, 1, 1]],\n",
       "\n",
       "       [[1, 1, 1, 1],\n",
       "        [1, 1, 1, 1],\n",
       "        [1, 1, 1, 1]]])"
      ]
     },
     "execution_count": 34,
     "metadata": {},
     "output_type": "execute_result"
    }
   ],
   "source": [
    "# 3-D array \n",
    "np.ones((2,3,4),dtype=int)"
   ]
  },
  {
   "cell_type": "markdown",
   "metadata": {},
   "source": [
    "`full` \n",
    "- Return a new array of given shape and type, filled with fill_value."
   ]
  },
  {
   "cell_type": "code",
   "execution_count": 37,
   "metadata": {},
   "outputs": [
    {
     "data": {
      "text/plain": [
       "array([2, 2, 2, 2, 2, 2, 2, 2, 2, 2])"
      ]
     },
     "execution_count": 37,
     "metadata": {},
     "output_type": "execute_result"
    }
   ],
   "source": [
    "# 1-D array \n",
    "np.full(10,fill_value=2)"
   ]
  },
  {
   "cell_type": "code",
   "execution_count": 38,
   "metadata": {},
   "outputs": [
    {
     "data": {
      "text/plain": [
       "array([[3, 3, 3],\n",
       "       [3, 3, 3]])"
      ]
     },
     "execution_count": 38,
     "metadata": {},
     "output_type": "execute_result"
    }
   ],
   "source": [
    "# 2-D array \n",
    "np.full((2,3),fill_value=3)"
   ]
  },
  {
   "cell_type": "code",
   "execution_count": 39,
   "metadata": {},
   "outputs": [
    {
     "data": {
      "text/plain": [
       "array([[[8, 8, 8, 8],\n",
       "        [8, 8, 8, 8],\n",
       "        [8, 8, 8, 8]],\n",
       "\n",
       "       [[8, 8, 8, 8],\n",
       "        [8, 8, 8, 8],\n",
       "        [8, 8, 8, 8]]])"
      ]
     },
     "execution_count": 39,
     "metadata": {},
     "output_type": "execute_result"
    }
   ],
   "source": [
    "# 3-D array \n",
    "np.full((2,3,4),fill_value=8) "
   ]
  },
  {
   "cell_type": "code",
   "execution_count": 40,
   "metadata": {},
   "outputs": [],
   "source": [
    "# All of the following will give same results \n",
    "# • np.full(shape=(2,3,4),fill_value=8) \n",
    "# • np.full((2,3,4),fill_value=8) \n",
    "# • np.full((2,3,4),8)"
   ]
  },
  {
   "cell_type": "markdown",
   "metadata": {},
   "source": [
    "`eye()` \n",
    "- To generate identity matrix \n",
    "- Return a 2-D array with ones on the diagonal and zeros elsewhere."
   ]
  },
  {
   "cell_type": "markdown",
   "metadata": {},
   "source": [
    "`eye()` Function in NumPy\n",
    "\n",
    "**Purpose:**\n",
    "* Creates a 2-D array with ones on the diagonal and zeros elsewhere.\n",
    "\n",
    "**Parameters:**\n",
    "\n",
    "* **N:** Number of rows in the output.\n",
    "* **M:** Number of columns in the output. If `None`, defaults to `N`.\n",
    "* **k:** Index of the diagonal:\n",
    "  * 0 (default): Main diagonal.\n",
    "  * Positive: Upper diagonal.\n",
    "  * Negative: Lower diagonal.\n",
    "* **dtype:** Data-type of the returned array.\n",
    "* **order:** Memory storage order:\n",
    "  * 'C': Row-major (C-style).\n",
    "  * 'F': Column-major (Fortran-style).\n",
    "\n",
    "**Example:**\n",
    "\n",
    "```python\n",
    "import numpy as np\n",
    "\n",
    "# Create a 3x3 identity matrix\n",
    "matrix = np.eye(3)\n",
    "print(matrix)\n",
    "```\n",
    "\n",
    "**Output:**\n",
    "\n",
    "```\n",
    "[[1. 0. 0.]\n",
    " [0. 1. 0.]\n",
    " [0. 0. 1.]]\n",
    "```\n",
    "\n",
    "- Function Arguments in Python\n",
    "\n",
    "**Positional Arguments:**\n",
    "* Passed based on their position in the function call.\n",
    "\n",
    "**Keyword Arguments:**\n",
    "* Passed using `key=value` syntax, where `key` is the argument name and `value` is the value.\n",
    "\n",
    "\n",
    "**`/` and `*` in Function Definitions:**\n",
    "\n",
    "* **`f(a, /, b)`:** `a` must be a positional argument. `b` can be positional or keyword.\n",
    "* **`f(a, *, b)`:** `a` can be positional or keyword. `b` must be a keyword argument.\n",
    "\n",
    "**Example:**\n",
    "\n",
    "```python\n",
    "def my_func(a, /, b, *, c):\n",
    "    # ...\n",
    "\n",
    "my_func(1, 2, c=3)  # Valid\n",
    "my_func(1, b=2, c=3)  # Valid\n",
    "my_func(1, 2, 3)  # Invalid (c must be a keyword argument)\n",
    "```\n"
   ]
  },
  {
   "cell_type": "code",
   "execution_count": 55,
   "metadata": {},
   "outputs": [
    {
     "name": "stdout",
     "output_type": "stream",
     "text": [
      "The value of a :: 10\n",
      "The value of b :: 20\n",
      "The value of a :: 10\n",
      "The value of b :: 20\n"
     ]
    }
   ],
   "source": [
    "# both positional and keywrod arguments \n",
    "def f(a,b): \n",
    "    print(f'The value of a :: {a}') \n",
    "    print(f'The value of b :: {b}')    \n",
    "f(10,20) \n",
    "f(a=10,b=20)"
   ]
  },
  {
   "cell_type": "code",
   "execution_count": 56,
   "metadata": {},
   "outputs": [
    {
     "name": "stdout",
     "output_type": "stream",
     "text": [
      "Calling f1(10,20)==> Valid\n",
      "The value of a :10\n",
      "The value of b :20\n",
      "Calling f1(a=10,b=20) ==> Invalid\n"
     ]
    },
    {
     "ename": "TypeError",
     "evalue": "f1() got some positional-only arguments passed as keyword arguments: 'a'",
     "output_type": "error",
     "traceback": [
      "\u001b[1;31m---------------------------------------------------------------------------\u001b[0m",
      "\u001b[1;31mTypeError\u001b[0m                                 Traceback (most recent call last)",
      "Cell \u001b[1;32mIn[56], line 8\u001b[0m\n\u001b[0;32m      6\u001b[0m f1(\u001b[38;5;241m10\u001b[39m,\u001b[38;5;241m20\u001b[39m)  \u001b[38;5;66;03m# valid \u001b[39;00m\n\u001b[0;32m      7\u001b[0m \u001b[38;5;28mprint\u001b[39m(\u001b[38;5;124m\"\u001b[39m\u001b[38;5;124mCalling f1(a=10,b=20) ==> Invalid\u001b[39m\u001b[38;5;124m\"\u001b[39m) \n\u001b[1;32m----> 8\u001b[0m \u001b[43mf1\u001b[49m\u001b[43m(\u001b[49m\u001b[43ma\u001b[49m\u001b[38;5;241;43m=\u001b[39;49m\u001b[38;5;241;43m10\u001b[39;49m\u001b[43m,\u001b[49m\u001b[43mb\u001b[49m\u001b[38;5;241;43m=\u001b[39;49m\u001b[38;5;241;43m20\u001b[39;49m\u001b[43m)\u001b[49m  \n\u001b[0;32m      9\u001b[0m \u001b[38;5;66;03m# invalid because before '/' the value for variable should be passed as positional only \u001b[39;00m\n",
      "\u001b[1;31mTypeError\u001b[0m: f1() got some positional-only arguments passed as keyword arguments: 'a'"
     ]
    }
   ],
   "source": [
    "def f1(a, /,b): \n",
    "    print(f'The value of a :{a}') \n",
    "    print(f'The value of b :{b}') \n",
    "print(\"Calling f1(10,20)==> Valid\") \n",
    "f1(10,20)  # valid \n",
    "print(\"Calling f1(a=10,b=20) ==> Invalid\") \n",
    "f1(a=10,b=20)  \n",
    "# invalid because before '/' the value for variable should be passed as positional only "
   ]
  },
  {
   "cell_type": "code",
   "execution_count": 57,
   "metadata": {},
   "outputs": [
    {
     "name": "stdout",
     "output_type": "stream",
     "text": [
      "The value of a :: 10\n",
      "The value of b :: 50\n"
     ]
    },
    {
     "ename": "TypeError",
     "evalue": "f1() takes 1 positional argument but 2 were given",
     "output_type": "error",
     "traceback": [
      "\u001b[1;31m---------------------------------------------------------------------------\u001b[0m",
      "\u001b[1;31mTypeError\u001b[0m                                 Traceback (most recent call last)",
      "Cell \u001b[1;32mIn[57], line 5\u001b[0m\n\u001b[0;32m      3\u001b[0m     \u001b[38;5;28mprint\u001b[39m(\u001b[38;5;124mf\u001b[39m\u001b[38;5;124m'\u001b[39m\u001b[38;5;124mThe value of b :: \u001b[39m\u001b[38;5;132;01m{\u001b[39;00mb\u001b[38;5;132;01m}\u001b[39;00m\u001b[38;5;124m'\u001b[39m)  \n\u001b[0;32m      4\u001b[0m f1(a\u001b[38;5;241m=\u001b[39m\u001b[38;5;241m10\u001b[39m,b\u001b[38;5;241m=\u001b[39m\u001b[38;5;241m50\u001b[39m) \u001b[38;5;66;03m#valid \u001b[39;00m\n\u001b[1;32m----> 5\u001b[0m \u001b[43mf1\u001b[49m\u001b[43m(\u001b[49m\u001b[38;5;241;43m10\u001b[39;49m\u001b[43m,\u001b[49m\u001b[38;5;241;43m20\u001b[39;49m\u001b[43m)\u001b[49m  \n\u001b[0;32m      6\u001b[0m \u001b[38;5;66;03m# invalid because after '*' we have to provide value for variable(b) through keyword only\u001b[39;00m\n",
      "\u001b[1;31mTypeError\u001b[0m: f1() takes 1 positional argument but 2 were given"
     ]
    }
   ],
   "source": [
    "def f1(a,*,b): \n",
    "    print(f'The value of a :: {a}') \n",
    "    print(f'The value of b :: {b}')  \n",
    "f1(a=10,b=50) #valid \n",
    "f1(10,20)  \n",
    "# invalid because after '*' we have to provide value for variable(b) through keyword only"
   ]
  },
  {
   "cell_type": "markdown",
   "metadata": {},
   "source": [
    "![img](./images/digonal.png)"
   ]
  },
  {
   "cell_type": "code",
   "execution_count": 58,
   "metadata": {},
   "outputs": [
    {
     "data": {
      "text/plain": [
       "array([[1., 0., 0.],\n",
       "       [0., 1., 0.]])"
      ]
     },
     "execution_count": 58,
     "metadata": {},
     "output_type": "execute_result"
    }
   ],
   "source": [
    "np.eye(2,3) \n"
   ]
  },
  {
   "cell_type": "code",
   "execution_count": 59,
   "metadata": {},
   "outputs": [
    {
     "data": {
      "text/plain": [
       "array([[0., 1., 0., 0., 0.],\n",
       "       [0., 0., 1., 0., 0.],\n",
       "       [0., 0., 0., 1., 0.],\n",
       "       [0., 0., 0., 0., 1.],\n",
       "       [0., 0., 0., 0., 0.]])"
      ]
     },
     "execution_count": 59,
     "metadata": {},
     "output_type": "execute_result"
    }
   ],
   "source": [
    "np.eye(5, k=1)"
   ]
  },
  {
   "cell_type": "code",
   "execution_count": 60,
   "metadata": {},
   "outputs": [
    {
     "data": {
      "text/plain": [
       "array([[0., 0., 0., 0., 0.],\n",
       "       [1., 0., 0., 0., 0.],\n",
       "       [0., 1., 0., 0., 0.],\n",
       "       [0., 0., 1., 0., 0.],\n",
       "       [0., 0., 0., 1., 0.]])"
      ]
     },
     "execution_count": 60,
     "metadata": {},
     "output_type": "execute_result"
    }
   ],
   "source": [
    "np.eye(5, k=-1)"
   ]
  },
  {
   "cell_type": "markdown",
   "metadata": {},
   "source": [
    "### `eye()` Properties\n",
    "1. It always returns a 2-D array.\n",
    "2. The number of rows and columns need not be the same.\n",
    "3. If we omit the 'M' value, the number of columns will be the same as 'N'.\n",
    "4. By default, the main diagonal contains 1s, but we can customize which diagonal contains 1s.\n",
    "\n",
    "### `identity()` Properties\n",
    "- It is exactly the same as the `eye()` function except:\n",
    "1. It is always a square matrix (the number of rows and columns is always the same).\n",
    "2. Only the main diagonal contains 1s.\n"
   ]
  },
  {
   "cell_type": "code",
   "execution_count": 61,
   "metadata": {},
   "outputs": [
    {
     "data": {
      "text/plain": [
       "array([[1, 0, 0],\n",
       "       [0, 1, 0],\n",
       "       [0, 0, 1]])"
      ]
     },
     "execution_count": 61,
     "metadata": {},
     "output_type": "execute_result"
    }
   ],
   "source": [
    "# identity(n, dtype=None, *, like=None) \n",
    "np.identity(3,dtype=int) "
   ]
  },
  {
   "cell_type": "markdown",
   "metadata": {},
   "source": [
    "\n",
    "### `diag()` Properties\n",
    "- `diag(v, k=0)` ==> Extract a diagonal or construct a diagonal array.\n",
    "\n",
    "1. **For a 2-D array**: It extracts the elements at the k-th diagonal.\n",
    "2. **For a 1-D array**: It constructs a diagonal array with the provided elements, and the remaining elements are filled with zeros.\n"
   ]
  },
  {
   "cell_type": "code",
   "execution_count": 62,
   "metadata": {},
   "outputs": [
    {
     "name": "stdout",
     "output_type": "stream",
     "text": [
      "Original 2-D array ==> \n",
      " [[1 2 3]\n",
      " [4 5 6]\n",
      " [7 8 9]]\n",
      "Elements prsent at 0-diagonal ==> [1 5 9]\n",
      "Elements prsent at 1-diagonal ==> [2 6]\n",
      "Elements prsent at 2-diagonal ==> [3]\n",
      "Elements prsent at -1-diagonal ==> [4 8]\n",
      "Elements prsent at -2-diagonal ==> [7]\n",
      "Elements prsent at 3-diagonal ==> []\n"
     ]
    }
   ],
   "source": [
    "# Extract 2-D diagonal elements \n",
    "a = np.arange(1,10).reshape(3,3) \n",
    "print(f\"Original 3-D array ==> \\n {a}\") \n",
    "print(f\"Elements prsent at 0-diagonal ==> {np.diag(a,k=0)}\") \n",
    "print(f\"Elements prsent at 1-diagonal ==> {np.diag(a,k=1)}\") \n",
    "print(f\"Elements prsent at 2-diagonal ==> {np.diag(a,k=2)}\") \n",
    "print(f\"Elements prsent at -1-diagonal ==> {np.diag(a,k=-1)}\") \n",
    "print(f\"Elements prsent at -2-diagonal ==> {np.diag(a,k=-2)}\") \n",
    "print(f\"Elements prsent at 3-diagonal ==> {np.diag(a,k=3)}\")"
   ]
  },
  {
   "cell_type": "code",
   "execution_count": 41,
   "metadata": {},
   "outputs": [
    {
     "data": {
      "text/plain": [
       "array([[10,  0,  0,  0],\n",
       "       [ 0, 20,  0,  0],\n",
       "       [ 0,  0, 30,  0],\n",
       "       [ 0,  0,  0, 40]])"
      ]
     },
     "execution_count": 41,
     "metadata": {},
     "output_type": "execute_result"
    }
   ],
   "source": [
    "# 1-D construct 2-D array with the diagonal array with the provided elements \n",
    "# remaining elements are filled with zeros \n",
    "a = np.array([10,20,30,40]) \n",
    "np.diag(a,k=0)"
   ]
  },
  {
   "cell_type": "code",
   "execution_count": 42,
   "metadata": {},
   "outputs": [
    {
     "data": {
      "text/plain": [
       "array([[ 0, 10,  0,  0,  0],\n",
       "       [ 0,  0, 20,  0,  0],\n",
       "       [ 0,  0,  0, 30,  0],\n",
       "       [ 0,  0,  0,  0, 40],\n",
       "       [ 0,  0,  0,  0,  0]])"
      ]
     },
     "execution_count": 42,
     "metadata": {},
     "output_type": "execute_result"
    }
   ],
   "source": [
    "np.diag(a,k=1) "
   ]
  },
  {
   "cell_type": "code",
   "execution_count": 43,
   "metadata": {},
   "outputs": [
    {
     "data": {
      "text/plain": [
       "array([[ 0,  0,  0,  0,  0],\n",
       "       [10,  0,  0,  0,  0],\n",
       "       [ 0, 20,  0,  0,  0],\n",
       "       [ 0,  0, 30,  0,  0],\n",
       "       [ 0,  0,  0, 40,  0]])"
      ]
     },
     "execution_count": 43,
     "metadata": {},
     "output_type": "execute_result"
    }
   ],
   "source": [
    "np.diag(a,k=-1) "
   ]
  },
  {
   "cell_type": "markdown",
   "metadata": {},
   "source": [
    "### empty() \n"
   ]
  },
  {
   "cell_type": "code",
   "execution_count": 44,
   "metadata": {},
   "outputs": [
    {
     "data": {
      "text/plain": [
       "array([[4.94e-323, 9.88e-323, 1.48e-322],\n",
       "       [1.98e-322, 2.47e-322, 2.96e-322],\n",
       "       [3.46e-322, 3.95e-322, 4.45e-322]])"
      ]
     },
     "execution_count": 44,
     "metadata": {},
     "output_type": "execute_result"
    }
   ],
   "source": [
    "import numpy as np\n",
    "np.empty((3,3))"
   ]
  },
  {
   "cell_type": "code",
   "execution_count": 45,
   "metadata": {},
   "outputs": [
    {
     "data": {
      "text/plain": [
       "\"'Note: \\n• There is no default value in C language \\n• So if value is initialized then it will be assigned with some garbage values \\n• Generally 'empty()' function is ued to create dummy array. \\n• np.empty(10) returns uninitialized data ==> we can use this for future purpose \\nzeros() vs empty() \\n1. If we required an array only with zeros then we should go for zeros(). \\n2. If we never worry about data, just we required an empty array for future purpose, \\nthen we should go for empty(). \\n3. The time required to create emtpy array is very very less when compared with \\nzeros array. i.e performance wise empty() function is recommended than zeros() if \\nwe are not worry about data.\""
      ]
     },
     "execution_count": 45,
     "metadata": {},
     "output_type": "execute_result"
    }
   ],
   "source": [
    "''''Note: \n",
    "• There is no default value in C language \n",
    "• So if value is initialized then it will be assigned with some garbage values \n",
    "• Generally 'empty()' function is ued to create dummy array. \n",
    "• np.empty(10) returns uninitialized data ==> we can use this for future purpose \n",
    "zeros() vs empty() \n",
    "1. If we required an array only with zeros then we should go for zeros(). \n",
    "2. If we never worry about data, just we required an empty array for future purpose, \n",
    "then we should go for empty(). \n",
    "3. The time required to create emtpy array is very very less when compared with \n",
    "zeros array. i.e performance wise empty() function is recommended than zeros() if \n",
    "we are not worry about data.'''"
   ]
  },
  {
   "cell_type": "code",
   "execution_count": 46,
   "metadata": {},
   "outputs": [
    {
     "name": "stdout",
     "output_type": "stream",
     "text": [
      "Time taken by zeros: 0:00:00.013246\n",
      "Time taken by empty: 0:00:00\n"
     ]
    }
   ],
   "source": [
    "# performance comaparision of zeros() and empty() \n",
    "from datetime import datetime \n",
    "import sys \n",
    " \n",
    "begin = datetime.now() \n",
    "a = np.zeros((10000,300,400)) \n",
    "after = datetime.now() \n",
    "print('Time taken by zeros:',after-begin) \n",
    " \n",
    "a= None \n",
    "begin = datetime.now() \n",
    "a = np.empty((10000,300,400)) \n",
    "after = datetime.now() \n",
    "print('Time taken by empty:',after-begin) "
   ]
  },
  {
   "cell_type": "markdown",
   "metadata": {},
   "source": [
    "Note: \n",
    "\n",
    "• Numpy : basic datatype ==> ndarray \n",
    "\n",
    "• Scipy : Advance Numpy \n",
    "\n",
    "• Pandas : basic datatypes => Series(1-D) and DataFrame(Multi dimensional) based \n",
    "on Numpy \n",
    "\n",
    "• Matplotlib : Data visualization module \n",
    "\n",
    "• Seaborn, plotly : based on Matplotlib"
   ]
  },
  {
   "cell_type": "markdown",
   "metadata": {},
   "source": [
    "### np.random module \n"
   ]
  },
  {
   "cell_type": "markdown",
   "metadata": {},
   "source": [
    "### randint\n",
    "- it is represented as [low, high) ==> [ means inclusive and ) means exclusive \n",
    "- If high is None (the default), then results are from [0, low)"
   ]
  },
  {
   "cell_type": "code",
   "execution_count": 50,
   "metadata": {},
   "outputs": [
    {
     "data": {
      "text/plain": [
       "array([5, 4, 4, 3, 5, 1, 7, 2, 4, 1], dtype=int32)"
      ]
     },
     "execution_count": 50,
     "metadata": {},
     "output_type": "execute_result"
    }
   ],
   "source": [
    "# To create 1-D ndarray of size 10 with random values from 1 to 8? \n",
    "np.random.randint(1,9,size=10)"
   ]
  },
  {
   "cell_type": "code",
   "execution_count": 51,
   "metadata": {},
   "outputs": [
    {
     "data": {
      "text/plain": [
       "array([[19, 83, 34, 56, 71],\n",
       "       [52, 39,  7, 48, 42],\n",
       "       [78, 30, 40, 88, 84]], dtype=int32)"
      ]
     },
     "execution_count": 51,
     "metadata": {},
     "output_type": "execute_result"
    }
   ],
   "source": [
    "# To create 2D array with shape(3,5) \n",
    "np.random.randint(100,size=(3,5)) "
   ]
  },
  {
   "cell_type": "code",
   "execution_count": 52,
   "metadata": {},
   "outputs": [
    {
     "data": {
      "text/plain": [
       "array([[[15,  3, 27,  8],\n",
       "        [38,  1, 58,  7],\n",
       "        [55, 17, 55, 90]],\n",
       "\n",
       "       [[53, 22, 93, 37],\n",
       "        [85,  6, 76,  4],\n",
       "        [ 9, 71, 10, 91]]], dtype=int32)"
      ]
     },
     "execution_count": 52,
     "metadata": {},
     "output_type": "execute_result"
    }
   ],
   "source": [
    "# To create 3D array with shape(2,3,4) \n",
    "# 3D array contains 2  2-D arrays \n",
    "# Each 2-D array contains 3 rows and 4 columns \n",
    "np.random.randint(100,size=(2,3,4)) \n"
   ]
  },
  {
   "cell_type": "code",
   "execution_count": 53,
   "metadata": {},
   "outputs": [],
   "source": [
    "# randint(low, high=None, size=None, dtype=int) \n",
    "# dtype must be int types \n",
    "# int types \n",
    "# int8 \n",
    "# int16 \n",
    "# int32 (default) \n",
    "# int64 \n"
   ]
  },
  {
   "cell_type": "code",
   "execution_count": 54,
   "metadata": {},
   "outputs": [
    {
     "name": "stdout",
     "output_type": "stream",
     "text": [
      "Data type of the elements : int32\n"
     ]
    }
   ],
   "source": [
    "a = np.random.randint(1,11,size=(20,30)) \n",
    "print(f\"Data type of the elements : {a.dtype}\") "
   ]
  },
  {
   "cell_type": "code",
   "execution_count": 55,
   "metadata": {},
   "outputs": [
    {
     "name": "stdout",
     "output_type": "stream",
     "text": [
      "with int32 size of ndarray : 2528\n",
      "with int8 size of ndarray : 728\n"
     ]
    }
   ],
   "source": [
    "# memory utilization is improved with dtype \n",
    "import sys \n",
    "a = np.random.randint(1,11,size=(20,30)) \n",
    "print(f\"with int32 size of ndarray : {sys.getsizeof(a)}\") \n",
    "a = np.random.randint(1,11,size=(20,30),dtype='int8') \n",
    "print(f\"with int8 size of ndarray : {sys.getsizeof(a)}\") "
   ]
  },
  {
   "cell_type": "code",
   "execution_count": 57,
   "metadata": {},
   "outputs": [
    {
     "name": "stdout",
     "output_type": "stream",
     "text": [
      "Before Conversion \n",
      "Data type of a ==> int32\n",
      "Ater calling astype() on the ndarray a \n",
      "Data type of b==> float64\n"
     ]
    }
   ],
   "source": [
    "# astype() ==> To convert the data type from one form to another \n",
    "# we can convert the datatype to another. \n",
    "# by default randint() will return int datatype. \n",
    "# by using \"astype()\" we can convert one datatype to another \n",
    "a = np.random.randint(1,11,size=(20,30)) \n",
    "print(\"Before Conversion \") \n",
    "print(f\"Data type of a ==> {a.dtype}\") \n",
    "b = a.astype('float') \n",
    "print(\"Ater calling astype() on the ndarray a \") \n",
    "print(f\"Data type of b==> {b.dtype}\")"
   ]
  },
  {
   "cell_type": "markdown",
   "metadata": {},
   "source": [
    "Uniform distribution Vs Normal Distribution "
   ]
  },
  {
   "cell_type": "code",
   "execution_count": 58,
   "metadata": {},
   "outputs": [
    {
     "data": {
      "text/plain": [
       "array([0.57391641, 0.49289107, 0.59949875, 0.78341706, 0.05314298,\n",
       "       0.30303644, 0.87485876, 0.265157  , 0.86336798, 0.13625632])"
      ]
     },
     "execution_count": 58,
     "metadata": {},
     "output_type": "execute_result"
    }
   ],
   "source": [
    "# 1-D array with float values from 0 to 1 \n",
    "np.random.rand(10)"
   ]
  },
  {
   "cell_type": "code",
   "execution_count": 59,
   "metadata": {},
   "outputs": [
    {
     "data": {
      "text/plain": [
       "array([[0.43083421, 0.98522373, 0.02296853, 0.09250288, 0.38601931],\n",
       "       [0.47378683, 0.5315403 , 0.12017312, 0.56993672, 0.2819804 ],\n",
       "       [0.10694645, 0.00401903, 0.87452919, 0.30681136, 0.83624677]])"
      ]
     },
     "execution_count": 59,
     "metadata": {},
     "output_type": "execute_result"
    }
   ],
   "source": [
    "# 2-D array with float values from 0 to 1 \n",
    "np.random.rand(3,5) \n"
   ]
  },
  {
   "cell_type": "code",
   "execution_count": 60,
   "metadata": {},
   "outputs": [
    {
     "data": {
      "text/plain": [
       "array([[[0.91312281, 0.50066072, 0.76297076, 0.51869562],\n",
       "        [0.2957697 , 0.27981783, 0.40626122, 0.2151835 ],\n",
       "        [0.65349029, 0.85091109, 0.79698346, 0.30492621]],\n",
       "\n",
       "       [[0.79095974, 0.89449653, 0.01547697, 0.39848225],\n",
       "        [0.33083076, 0.17223788, 0.13134103, 0.4758357 ],\n",
       "        [0.55835472, 0.21962252, 0.21590566, 0.97222977]]])"
      ]
     },
     "execution_count": 60,
     "metadata": {},
     "output_type": "execute_result"
    }
   ],
   "source": [
    "# 3-D array with float values from 0 to 1 \n",
    "np.random.rand(2,3,4) "
   ]
  },
  {
   "cell_type": "code",
   "execution_count": 61,
   "metadata": {},
   "outputs": [],
   "source": [
    "# uniform() \n",
    "# • rand() ==> range is always [0,1) \n",
    "# • uniform() ==> customize range [low,high)"
   ]
  },
  {
   "cell_type": "code",
   "execution_count": 62,
   "metadata": {},
   "outputs": [
    {
     "data": {
      "text/plain": [
       "0.3912111322462144"
      ]
     },
     "execution_count": 62,
     "metadata": {},
     "output_type": "execute_result"
    }
   ],
   "source": [
    "# uniform(low=0.0, high=1.0, size=None) \n",
    "np.random.uniform()   # it will acts same as np.random.rand() "
   ]
  },
  {
   "cell_type": "code",
   "execution_count": 63,
   "metadata": {},
   "outputs": [
    {
     "data": {
      "text/plain": [
       "15.724896691683377"
      ]
     },
     "execution_count": 63,
     "metadata": {},
     "output_type": "execute_result"
    }
   ],
   "source": [
    "np.random.uniform(10,20)"
   ]
  },
  {
   "cell_type": "code",
   "execution_count": 64,
   "metadata": {},
   "outputs": [
    {
     "name": "stdout",
     "output_type": "stream",
     "text": [
      "[0.5850465  0.96724495 0.1295599  0.5781626  0.1258426 ]\n"
     ]
    }
   ],
   "source": [
    "import numpy as np\n",
    "print(np.random.random(5))  # Output: [0.548, 0.715, 0.602, 0.544, 0.423]\n"
   ]
  },
  {
   "cell_type": "code",
   "execution_count": 65,
   "metadata": {},
   "outputs": [
    {
     "name": "stdout",
     "output_type": "stream",
     "text": [
      "[[0.29613855 0.52784618 0.05993202]\n",
      " [0.03943814 0.8760318  0.7766861 ]]\n"
     ]
    }
   ],
   "source": [
    "print(np.random.rand(2, 3))  # 2x3 matrix of random floats\n"
   ]
  },
  {
   "cell_type": "code",
   "execution_count": 66,
   "metadata": {},
   "outputs": [
    {
     "name": "stdout",
     "output_type": "stream",
     "text": [
      "[1 4 3 2]\n"
     ]
    }
   ],
   "source": [
    "arr = np.array([1, 2, 3, 4])\n",
    "print(np.random.permutation(arr))  # Randomly permuted array"
   ]
  },
  {
   "cell_type": "code",
   "execution_count": 69,
   "metadata": {},
   "outputs": [
    {
     "name": "stdout",
     "output_type": "stream",
     "text": [
      "[3 4 2 1]\n"
     ]
    }
   ],
   "source": [
    "np.random.shuffle(arr)\n",
    "print(arr)  # Original array shuffled"
   ]
  },
  {
   "cell_type": "code",
   "execution_count": 70,
   "metadata": {},
   "outputs": [
    {
     "name": "stdout",
     "output_type": "stream",
     "text": [
      "[ 0.74863547 -1.98124788 -0.03982592  0.63693986  1.225939  ]\n"
     ]
    }
   ],
   "source": [
    "print(np.random.normal(0, 1, size=5))  # Mean 0, Std 1"
   ]
  },
  {
   "cell_type": "markdown",
   "metadata": {},
   "source": [
    "`np.random.normal(0, 1, size=5)`\n",
    "\n",
    "### **What the Function Does**\n",
    "1. **Goal**: Generate 5 random numbers from a normal distribution with:\n",
    "   - Mean (`loc`) = 0\n",
    "   - Standard deviation (`scale`) = 1\n",
    "\n",
    "2. The normal distribution formula:\n",
    "   $X = \\mu + \\sigma \\cdot Z$\n",
    "   Where:\n",
    "   - $X$: The generated random number\n",
    "   - $\\mu$: Mean (here, $0$)\n",
    "   - $\\sigma$: Standard deviation (here, $1$)\n",
    "   - $Z$: A standard normal random variable (mean = 0, std = 1)\n",
    "\n",
    "3. The function internally generates 5 random values for $Z$ from the standard normal distribution and then applies the formula.\n",
    "\n",
    "### **Dry Run with Example**\n",
    "Let's say NumPy internally generates the following random $Z$ values from the standard normal distribution:\n",
    "$Z = [1.2, -0.7, 0.5, 2.1, -1.3]$\n",
    "\n",
    "Using the formula $X = \\mu + \\sigma \\cdot Z$:\n",
    "- $\\mu = 0$\n",
    "- $\\sigma = 1$\n",
    "\n",
    "The calculation becomes:\n",
    "$X_1 = 0 + 1 \\cdot 1.2 = 1.2$\n",
    "$X_2 = 0 + 1 \\cdot (-0.7) = -0.7$\n",
    "$X_3 = 0 + 1 \\cdot 0.5 = 0.5$\n",
    "$X_4 = 0 + 1 \\cdot 2.1 = 2.1$\n",
    "$X_5 = 0 + 1 \\cdot (-1.3) = -1.3$\n",
    "\n",
    "Thus, the generated array is:\n",
    "$X = [1.2, -0.7, 0.5, 2.1, -1.3]$\n",
    "\n",
    "### **Final Output**\n",
    "The result of `print(np.random.normal(0, 1, size=5))` would be:\n"
   ]
  },
  {
   "cell_type": "code",
   "execution_count": 71,
   "metadata": {},
   "outputs": [
    {
     "name": "stdout",
     "output_type": "stream",
     "text": [
      "[3 6 7 3 5]\n"
     ]
    }
   ],
   "source": [
    "print(np.random.binomial(10, 0.5, size=5))  # n=10 trials, p=0.5"
   ]
  },
  {
   "cell_type": "code",
   "execution_count": 74,
   "metadata": {},
   "outputs": [
    {
     "name": "stdout",
     "output_type": "stream",
     "text": [
      "[0.37454012 0.95071431 0.73199394]\n"
     ]
    }
   ],
   "source": [
    "np.random.seed(42)\n",
    "print(np.random.rand(3))  # Always generates the same numbers\n"
   ]
  },
  {
   "cell_type": "code",
   "execution_count": 75,
   "metadata": {},
   "outputs": [
    {
     "data": {
      "image/png": "[encoded data removed]",
      "text/plain": [
       "<Figure size 1000x600 with 1 Axes>"
      ]
     },
     "metadata": {},
     "output_type": "display_data"
    }
   ],
   "source": [
    "import numpy as np\n",
    "import matplotlib.pyplot as plt\n",
    "\n",
    "# Set the seed for reproducibility\n",
    "np.random.seed(42)\n",
    "\n",
    "# Generate a large array of random values from a normal distribution\n",
    "mean = 0  # Mean of the distribution\n",
    "std = 1   # Standard deviation of the distribution\n",
    "size = 100000  # Size of the array\n",
    "\n",
    "# Generate values\n",
    "data = np.random.normal(mean, std, size)\n",
    "\n",
    "# Plot the distribution\n",
    "plt.figure(figsize=(10, 6))\n",
    "plt.hist(data, bins=100, density=True, alpha=0.7, color='blue', label='Normal Distribution')\n",
    "plt.title('Distribution of Random Values (Mean=0, Std=1)', fontsize=16)\n",
    "plt.xlabel('Value', fontsize=14)\n",
    "plt.ylabel('Density', fontsize=14)\n",
    "plt.axvline(mean, color='red', linestyle='--', linewidth=2, label='Mean')\n",
    "plt.legend(fontsize=12)\n",
    "plt.grid(alpha=0.3)\n",
    "plt.show()\n"
   ]
  },
  {
   "cell_type": "markdown",
   "metadata": {},
   "source": [
    "### **Uniform Distribution vs. Normal Distribution**\n",
    "\n",
    "| Feature        | Uniform Distribution                                     | Normal Distribution                                                                 |\n",
    "|----------------|---------------------------------------------------------|------------------------------------------------------------------------------------|\n",
    "| Probability    | Probability of x is constant across the entire range.   | Probability of x is highest at the center (mean) and lowest at the extremes (tails). |\n",
    "| Shape          | Rectangular.                                             | Bell-shaped (symmetric around the mean).                                         |\n",
    "| Example        | Rolling a fair die (each face has an equal probability). | Heights of people in a large population, errors in measurements.                   |\n",
    "| Key Property   | All outcomes are equally likely.                         | Data tends to cluster around the mean; follows the 68-95-99.7 rule.                |\n",
    "\n",
    "**In simpler terms:**\n",
    "\n",
    "*   **Uniform Distribution:** Imagine a flat line. Every value within the defined range has the same chance of occurring.\n",
    "*   **Normal Distribution:** Imagine a bell curve. Values near the average (center) are much more likely than values far from the average."
   ]
  },
  {
   "cell_type": "code",
   "execution_count": 76,
   "metadata": {},
   "outputs": [
    {
     "data": {
      "text/plain": [
       "array([0.2950696 , 0.68280113, 0.19365118, 0.78467952, 0.08889189,\n",
       "       0.82846603, 0.57000133, 0.0185593 , 0.25379334, 0.48244771])"
      ]
     },
     "execution_count": 76,
     "metadata": {},
     "output_type": "execute_result"
    }
   ],
   "source": [
    "# 1-D array with float values from 0 to 1\n",
    "np.random.rand(10)"
   ]
  },
  {
   "cell_type": "code",
   "execution_count": 77,
   "metadata": {},
   "outputs": [
    {
     "data": {
      "text/plain": [
       "array([[0.6426869 , 0.67380543, 0.89499323, 0.43814843, 0.01256427],\n",
       "       [0.26683024, 0.09301325, 0.83829508, 0.1499831 , 0.35827694],\n",
       "       [0.14532491, 0.5165103 , 0.19563312, 0.7638552 , 0.4910063 ]])"
      ]
     },
     "execution_count": 77,
     "metadata": {},
     "output_type": "execute_result"
    }
   ],
   "source": [
    "# 2-D array with float values from 0 to 1\n",
    "np.random.rand(3,5)"
   ]
  },
  {
   "cell_type": "code",
   "execution_count": null,
   "metadata": {},
   "outputs": [],
   "source": []
  }
 ],
 "metadata": {
  "kernelspec": {
   "display_name": "Python 3",
   "language": "python",
   "name": "python3"
  },
  "language_info": {
   "codemirror_mode": {
    "name": "ipython",
    "version": 3
   },
   "file_extension": ".py",
   "mimetype": "text/x-python",
   "name": "python",
   "nbconvert_exporter": "python",
   "pygments_lexer": "ipython3",
   "version": "3.10.9"
  }
 },
 "nbformat": 4,
 "nbformat_minor": 2
}
