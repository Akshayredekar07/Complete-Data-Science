{
 "cells": [
  {
   "cell_type": "code",
   "execution_count": 1,
   "metadata": {},
   "outputs": [
    {
     "name": "stdout",
     "output_type": "stream",
     "text": [
      "       country continent  year  life_exp  hdi_index  co2_consump    gdp  \\\n",
      "0  Afghanistan      Asia  1998      53.3      0.344       0.0522    NaN   \n",
      "1  Afghanistan      Asia  1999      54.7      0.348       0.0402    NaN   \n",
      "2  Afghanistan      Asia  2000      54.7      0.350       0.0370    NaN   \n",
      "3  Afghanistan      Asia  2001      54.8      0.353       0.0376    NaN   \n",
      "4  Afghanistan      Asia  2002      55.5      0.384       0.0471  333.0   \n",
      "\n",
      "   services  \n",
      "0      24.4  \n",
      "1      24.6  \n",
      "2      24.7  \n",
      "3      24.7  \n",
      "4      25.6  \n"
     ]
    }
   ],
   "source": [
    "import pandas as pd\n",
    "\n",
    "# Read CSV file from GitHub (using raw content URL)\n",
    "df = pd.read_csv('https://raw.githubusercontent.com/yesdhruv/gapminder.csv/master/gapminder_data_graphs.csv')\n",
    "\n",
    "# Display the first few rows of the dataframe\n",
    "print(df.head())"
   ]
  },
  {
   "cell_type": "code",
   "execution_count": 3,
   "metadata": {},
   "outputs": [],
   "source": [
    "# Pandas for handling hetrogeneous data instead numpy ony handle one type of data"
   ]
  },
  {
   "cell_type": "code",
   "execution_count": 4,
   "metadata": {},
   "outputs": [
    {
     "data": {
      "text/html": [
       "<div>\n",
       "<style scoped>\n",
       "    .dataframe tbody tr th:only-of-type {\n",
       "        vertical-align: middle;\n",
       "    }\n",
       "\n",
       "    .dataframe tbody tr th {\n",
       "        vertical-align: top;\n",
       "    }\n",
       "\n",
       "    .dataframe thead th {\n",
       "        text-align: right;\n",
       "    }\n",
       "</style>\n",
       "<table border=\"1\" class=\"dataframe\">\n",
       "  <thead>\n",
       "    <tr style=\"text-align: right;\">\n",
       "      <th></th>\n",
       "      <th>country</th>\n",
       "      <th>continent</th>\n",
       "      <th>year</th>\n",
       "      <th>life_exp</th>\n",
       "      <th>hdi_index</th>\n",
       "      <th>co2_consump</th>\n",
       "      <th>gdp</th>\n",
       "      <th>services</th>\n",
       "    </tr>\n",
       "  </thead>\n",
       "  <tbody>\n",
       "    <tr>\n",
       "      <th>0</th>\n",
       "      <td>Afghanistan</td>\n",
       "      <td>Asia</td>\n",
       "      <td>1998</td>\n",
       "      <td>53.3</td>\n",
       "      <td>0.344</td>\n",
       "      <td>0.0522</td>\n",
       "      <td>NaN</td>\n",
       "      <td>24.4</td>\n",
       "    </tr>\n",
       "    <tr>\n",
       "      <th>1</th>\n",
       "      <td>Afghanistan</td>\n",
       "      <td>Asia</td>\n",
       "      <td>1999</td>\n",
       "      <td>54.7</td>\n",
       "      <td>0.348</td>\n",
       "      <td>0.0402</td>\n",
       "      <td>NaN</td>\n",
       "      <td>24.6</td>\n",
       "    </tr>\n",
       "    <tr>\n",
       "      <th>2</th>\n",
       "      <td>Afghanistan</td>\n",
       "      <td>Asia</td>\n",
       "      <td>2000</td>\n",
       "      <td>54.7</td>\n",
       "      <td>0.350</td>\n",
       "      <td>0.0370</td>\n",
       "      <td>NaN</td>\n",
       "      <td>24.7</td>\n",
       "    </tr>\n",
       "    <tr>\n",
       "      <th>3</th>\n",
       "      <td>Afghanistan</td>\n",
       "      <td>Asia</td>\n",
       "      <td>2001</td>\n",
       "      <td>54.8</td>\n",
       "      <td>0.353</td>\n",
       "      <td>0.0376</td>\n",
       "      <td>NaN</td>\n",
       "      <td>24.7</td>\n",
       "    </tr>\n",
       "    <tr>\n",
       "      <th>4</th>\n",
       "      <td>Afghanistan</td>\n",
       "      <td>Asia</td>\n",
       "      <td>2002</td>\n",
       "      <td>55.5</td>\n",
       "      <td>0.384</td>\n",
       "      <td>0.0471</td>\n",
       "      <td>333.0</td>\n",
       "      <td>25.6</td>\n",
       "    </tr>\n",
       "  </tbody>\n",
       "</table>\n",
       "</div>"
      ],
      "text/plain": [
       "       country continent  year  life_exp  hdi_index  co2_consump    gdp  \\\n",
       "0  Afghanistan      Asia  1998      53.3      0.344       0.0522    NaN   \n",
       "1  Afghanistan      Asia  1999      54.7      0.348       0.0402    NaN   \n",
       "2  Afghanistan      Asia  2000      54.7      0.350       0.0370    NaN   \n",
       "3  Afghanistan      Asia  2001      54.8      0.353       0.0376    NaN   \n",
       "4  Afghanistan      Asia  2002      55.5      0.384       0.0471  333.0   \n",
       "\n",
       "   services  \n",
       "0      24.4  \n",
       "1      24.6  \n",
       "2      24.7  \n",
       "3      24.7  \n",
       "4      25.6  "
      ]
     },
     "execution_count": 4,
     "metadata": {},
     "output_type": "execute_result"
    }
   ],
   "source": [
    "df.head()"
   ]
  },
  {
   "cell_type": "code",
   "execution_count": 5,
   "metadata": {},
   "outputs": [
    {
     "data": {
      "text/plain": [
       "(3675, 8)"
      ]
     },
     "execution_count": 5,
     "metadata": {},
     "output_type": "execute_result"
    }
   ],
   "source": [
    "df.shape"
   ]
  },
  {
   "cell_type": "code",
   "execution_count": 6,
   "metadata": {},
   "outputs": [
    {
     "data": {
      "text/plain": [
       "pandas.core.frame.DataFrame"
      ]
     },
     "execution_count": 6,
     "metadata": {},
     "output_type": "execute_result"
    }
   ],
   "source": [
    "type(df)"
   ]
  },
  {
   "cell_type": "code",
   "execution_count": 7,
   "metadata": {},
   "outputs": [
    {
     "name": "stdout",
     "output_type": "stream",
     "text": [
      "<class 'pandas.core.frame.DataFrame'>\n",
      "RangeIndex: 3675 entries, 0 to 3674\n",
      "Data columns (total 8 columns):\n",
      " #   Column       Non-Null Count  Dtype  \n",
      "---  ------       --------------  -----  \n",
      " 0   country      3675 non-null   object \n",
      " 1   continent    3675 non-null   object \n",
      " 2   year         3675 non-null   int64  \n",
      " 3   life_exp     3675 non-null   float64\n",
      " 4   hdi_index    3563 non-null   float64\n",
      " 5   co2_consump  3671 non-null   float64\n",
      " 6   gdp          3633 non-null   float64\n",
      " 7   services     3675 non-null   float64\n",
      "dtypes: float64(5), int64(1), object(2)\n",
      "memory usage: 229.8+ KB\n"
     ]
    }
   ],
   "source": [
    "df.info()"
   ]
  },
  {
   "cell_type": "code",
   "execution_count": 9,
   "metadata": {},
   "outputs": [
    {
     "data": {
      "text/html": [
       "<div>\n",
       "<style scoped>\n",
       "    .dataframe tbody tr th:only-of-type {\n",
       "        vertical-align: middle;\n",
       "    }\n",
       "\n",
       "    .dataframe tbody tr th {\n",
       "        vertical-align: top;\n",
       "    }\n",
       "\n",
       "    .dataframe thead th {\n",
       "        text-align: right;\n",
       "    }\n",
       "</style>\n",
       "<table border=\"1\" class=\"dataframe\">\n",
       "  <thead>\n",
       "    <tr style=\"text-align: right;\">\n",
       "      <th></th>\n",
       "      <th>year</th>\n",
       "      <th>life_exp</th>\n",
       "      <th>hdi_index</th>\n",
       "      <th>co2_consump</th>\n",
       "      <th>gdp</th>\n",
       "      <th>services</th>\n",
       "    </tr>\n",
       "  </thead>\n",
       "  <tbody>\n",
       "    <tr>\n",
       "      <th>count</th>\n",
       "      <td>3675.000000</td>\n",
       "      <td>3675.000000</td>\n",
       "      <td>3563.000000</td>\n",
       "      <td>3671.000000</td>\n",
       "      <td>3633.000000</td>\n",
       "      <td>3675.000000</td>\n",
       "    </tr>\n",
       "    <tr>\n",
       "      <th>mean</th>\n",
       "      <td>2008.000000</td>\n",
       "      <td>69.849306</td>\n",
       "      <td>0.674864</td>\n",
       "      <td>4.712731</td>\n",
       "      <td>11966.053675</td>\n",
       "      <td>51.248705</td>\n",
       "    </tr>\n",
       "    <tr>\n",
       "      <th>std</th>\n",
       "      <td>6.056125</td>\n",
       "      <td>8.886563</td>\n",
       "      <td>0.164834</td>\n",
       "      <td>6.567435</td>\n",
       "      <td>17105.787953</td>\n",
       "      <td>18.312501</td>\n",
       "    </tr>\n",
       "    <tr>\n",
       "      <th>min</th>\n",
       "      <td>1998.000000</td>\n",
       "      <td>32.500000</td>\n",
       "      <td>0.255000</td>\n",
       "      <td>0.015900</td>\n",
       "      <td>238.000000</td>\n",
       "      <td>5.590000</td>\n",
       "    </tr>\n",
       "    <tr>\n",
       "      <th>25%</th>\n",
       "      <td>2003.000000</td>\n",
       "      <td>63.900000</td>\n",
       "      <td>0.537500</td>\n",
       "      <td>0.560500</td>\n",
       "      <td>1470.000000</td>\n",
       "      <td>37.600000</td>\n",
       "    </tr>\n",
       "    <tr>\n",
       "      <th>50%</th>\n",
       "      <td>2008.000000</td>\n",
       "      <td>71.700000</td>\n",
       "      <td>0.699000</td>\n",
       "      <td>2.250000</td>\n",
       "      <td>4280.000000</td>\n",
       "      <td>52.900000</td>\n",
       "    </tr>\n",
       "    <tr>\n",
       "      <th>75%</th>\n",
       "      <td>2013.000000</td>\n",
       "      <td>76.400000</td>\n",
       "      <td>0.805000</td>\n",
       "      <td>6.615000</td>\n",
       "      <td>13600.000000</td>\n",
       "      <td>65.700000</td>\n",
       "    </tr>\n",
       "    <tr>\n",
       "      <th>max</th>\n",
       "      <td>2018.000000</td>\n",
       "      <td>84.800000</td>\n",
       "      <td>0.956000</td>\n",
       "      <td>67.100000</td>\n",
       "      <td>105000.000000</td>\n",
       "      <td>88.500000</td>\n",
       "    </tr>\n",
       "  </tbody>\n",
       "</table>\n",
       "</div>"
      ],
      "text/plain": [
       "              year     life_exp    hdi_index  co2_consump            gdp  \\\n",
       "count  3675.000000  3675.000000  3563.000000  3671.000000    3633.000000   \n",
       "mean   2008.000000    69.849306     0.674864     4.712731   11966.053675   \n",
       "std       6.056125     8.886563     0.164834     6.567435   17105.787953   \n",
       "min    1998.000000    32.500000     0.255000     0.015900     238.000000   \n",
       "25%    2003.000000    63.900000     0.537500     0.560500    1470.000000   \n",
       "50%    2008.000000    71.700000     0.699000     2.250000    4280.000000   \n",
       "75%    2013.000000    76.400000     0.805000     6.615000   13600.000000   \n",
       "max    2018.000000    84.800000     0.956000    67.100000  105000.000000   \n",
       "\n",
       "          services  \n",
       "count  3675.000000  \n",
       "mean     51.248705  \n",
       "std      18.312501  \n",
       "min       5.590000  \n",
       "25%      37.600000  \n",
       "50%      52.900000  \n",
       "75%      65.700000  \n",
       "max      88.500000  "
      ]
     },
     "execution_count": 9,
     "metadata": {},
     "output_type": "execute_result"
    }
   ],
   "source": [
    "df.describe()"
   ]
  },
  {
   "cell_type": "code",
   "execution_count": 10,
   "metadata": {},
   "outputs": [
    {
     "data": {
      "text/plain": [
       "Index(['country', 'continent', 'year', 'life_exp', 'hdi_index', 'co2_consump',\n",
       "       'gdp', 'services'],\n",
       "      dtype='object')"
      ]
     },
     "execution_count": 10,
     "metadata": {},
     "output_type": "execute_result"
    }
   ],
   "source": [
    "df.columns"
   ]
  },
  {
   "cell_type": "code",
   "execution_count": 12,
   "metadata": {},
   "outputs": [
    {
     "data": {
      "text/plain": [
       "['country',\n",
       " 'continent',\n",
       " 'year',\n",
       " 'life_exp',\n",
       " 'hdi_index',\n",
       " 'co2_consump',\n",
       " 'gdp',\n",
       " 'services']"
      ]
     },
     "execution_count": 12,
     "metadata": {},
     "output_type": "execute_result"
    }
   ],
   "source": [
    "list(df.keys())"
   ]
  },
  {
   "cell_type": "code",
   "execution_count": 14,
   "metadata": {},
   "outputs": [
    {
     "data": {
      "text/plain": [
       "0    Afghanistan\n",
       "1    Afghanistan\n",
       "2    Afghanistan\n",
       "3    Afghanistan\n",
       "4    Afghanistan\n",
       "Name: country, dtype: object"
      ]
     },
     "execution_count": 14,
     "metadata": {},
     "output_type": "execute_result"
    }
   ],
   "source": [
    "df[\"country\"].head()"
   ]
  },
  {
   "cell_type": "code",
   "execution_count": 17,
   "metadata": {},
   "outputs": [],
   "source": [
    "df_country_continient=df[[\"country\", \"continent\"]].sample(10)"
   ]
  },
  {
   "cell_type": "code",
   "execution_count": 18,
   "metadata": {},
   "outputs": [
    {
     "data": {
      "text/html": [
       "<div>\n",
       "<style scoped>\n",
       "    .dataframe tbody tr th:only-of-type {\n",
       "        vertical-align: middle;\n",
       "    }\n",
       "\n",
       "    .dataframe tbody tr th {\n",
       "        vertical-align: top;\n",
       "    }\n",
       "\n",
       "    .dataframe thead th {\n",
       "        text-align: right;\n",
       "    }\n",
       "</style>\n",
       "<table border=\"1\" class=\"dataframe\">\n",
       "  <thead>\n",
       "    <tr style=\"text-align: right;\">\n",
       "      <th></th>\n",
       "      <th>country</th>\n",
       "      <th>continent</th>\n",
       "    </tr>\n",
       "  </thead>\n",
       "  <tbody>\n",
       "    <tr>\n",
       "      <th>2032</th>\n",
       "      <td>Malaysia</td>\n",
       "      <td>Asia</td>\n",
       "    </tr>\n",
       "    <tr>\n",
       "      <th>1068</th>\n",
       "      <td>Equatorial Guinea</td>\n",
       "      <td>Africa</td>\n",
       "    </tr>\n",
       "    <tr>\n",
       "      <th>1606</th>\n",
       "      <td>Ireland</td>\n",
       "      <td>Europe</td>\n",
       "    </tr>\n",
       "    <tr>\n",
       "      <th>2699</th>\n",
       "      <td>Qatar</td>\n",
       "      <td>Asia</td>\n",
       "    </tr>\n",
       "    <tr>\n",
       "      <th>647</th>\n",
       "      <td>Central African Republic</td>\n",
       "      <td>Africa</td>\n",
       "    </tr>\n",
       "    <tr>\n",
       "      <th>3052</th>\n",
       "      <td>Spain</td>\n",
       "      <td>Europe</td>\n",
       "    </tr>\n",
       "    <tr>\n",
       "      <th>186</th>\n",
       "      <td>Azerbaijan</td>\n",
       "      <td>Asia</td>\n",
       "    </tr>\n",
       "    <tr>\n",
       "      <th>2960</th>\n",
       "      <td>Slovenia</td>\n",
       "      <td>Europe</td>\n",
       "    </tr>\n",
       "    <tr>\n",
       "      <th>2787</th>\n",
       "      <td>Samoa</td>\n",
       "      <td>Oceania</td>\n",
       "    </tr>\n",
       "    <tr>\n",
       "      <th>1105</th>\n",
       "      <td>Eswatini</td>\n",
       "      <td>Africa</td>\n",
       "    </tr>\n",
       "  </tbody>\n",
       "</table>\n",
       "</div>"
      ],
      "text/plain": [
       "                       country continent\n",
       "2032                  Malaysia      Asia\n",
       "1068         Equatorial Guinea    Africa\n",
       "1606                   Ireland    Europe\n",
       "2699                     Qatar      Asia\n",
       "647   Central African Republic    Africa\n",
       "3052                     Spain    Europe\n",
       "186                 Azerbaijan      Asia\n",
       "2960                  Slovenia    Europe\n",
       "2787                     Samoa   Oceania\n",
       "1105                  Eswatini    Africa"
      ]
     },
     "execution_count": 18,
     "metadata": {},
     "output_type": "execute_result"
    }
   ],
   "source": [
    "df_country_continient"
   ]
  },
  {
   "cell_type": "code",
   "execution_count": null,
   "metadata": {},
   "outputs": [],
   "source": []
  }
 ],
 "metadata": {
  "kernelspec": {
   "display_name": "Python 3",
   "language": "python",
   "name": "python3"
  },
  "language_info": {
   "codemirror_mode": {
    "name": "ipython",
    "version": 3
   },
   "file_extension": ".py",
   "mimetype": "text/x-python",
   "name": "python",
   "nbconvert_exporter": "python",
   "pygments_lexer": "ipython3",
   "version": "3.10.9"
  }
 },
 "nbformat": 4,
 "nbformat_minor": 2
}
